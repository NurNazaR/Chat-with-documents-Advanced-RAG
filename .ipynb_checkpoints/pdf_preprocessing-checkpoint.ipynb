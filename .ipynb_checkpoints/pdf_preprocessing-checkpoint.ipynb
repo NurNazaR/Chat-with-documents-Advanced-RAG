{
 "cells": [
  {
   "cell_type": "code",
   "execution_count": 1,
   "id": "0f45e5e1-4f60-49d2-bcae-d80b642b1955",
   "metadata": {
    "tags": []
   },
   "outputs": [],
   "source": [
    "from unstructured_client import UnstructuredClient\n",
    "from unstructured_client.models import shared\n",
    "from unstructured_client.models.errors import SDKError\n",
    "\n",
    "from unstructured.chunking.title import chunk_by_title\n",
    "from unstructured.partition.md import partition_md\n",
    "from unstructured.partition.pptx import partition_pptx\n",
    "from unstructured.staging.base import dict_to_elements\n",
    "\n",
    "import chromadb"
   ]
  },
  {
   "cell_type": "code",
   "execution_count": 2,
   "id": "887687c4-0715-4f24-81ca-214342c44c39",
   "metadata": {
    "tags": []
   },
   "outputs": [],
   "source": [
    "s = UnstructuredClient(\n",
    "    api_key_auth=\"iGbgL8x1IoUpHtW1VDHWkgMFXSUbNs\"\n",
    ")"
   ]
  },
  {
   "cell_type": "code",
   "execution_count": null,
   "id": "6ccef6d2-fc33-463c-8160-d94128b8e574",
   "metadata": {},
   "outputs": [],
   "source": []
  }
 ],
 "metadata": {
  "kernelspec": {
   "display_name": "llm",
   "language": "python",
   "name": "llm"
  },
  "language_info": {
   "codemirror_mode": {
    "name": "ipython",
    "version": 3
   },
   "file_extension": ".py",
   "mimetype": "text/x-python",
   "name": "python",
   "nbconvert_exporter": "python",
   "pygments_lexer": "ipython3",
   "version": "3.11.5"
  }
 },
 "nbformat": 4,
 "nbformat_minor": 5
}
