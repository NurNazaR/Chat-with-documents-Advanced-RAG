{
  "cells": [
    {
      "cell_type": "code",
      "execution_count": null,
      "metadata": {
        "colab": {
          "base_uri": "https://localhost:8080/"
        },
        "id": "RRYSu48huSUW",
        "outputId": "64e4984b-4b62-4709-847a-a021d4730a8f"
      },
      "outputs": [
        {
          "name": "stdout",
          "output_type": "stream",
          "text": [
            "\u001b[2K     \u001b[90m━━━━━━━━━━━━━━━━━━━━━━━━━━━━━━━━━━━━━━━\u001b[0m \u001b[32m759.0/759.0 kB\u001b[0m \u001b[31m7.3 MB/s\u001b[0m eta \u001b[36m0:00:00\u001b[0m\n",
            "\u001b[2K     \u001b[90m━━━━━━━━━━━━━━━━━━━━━━━━━━━━━━━━━━━━━━━━\u001b[0m \u001b[32m71.9/71.9 kB\u001b[0m \u001b[31m3.3 MB/s\u001b[0m eta \u001b[36m0:00:00\u001b[0m\n",
            "\u001b[2K     \u001b[90m━━━━━━━━━━━━━━━━━━━━━━━━━━━━━━━━━━━━━━━━\u001b[0m \u001b[32m1.7/1.7 MB\u001b[0m \u001b[31m34.6 MB/s\u001b[0m eta \u001b[36m0:00:00\u001b[0m\n",
            "\u001b[2K     \u001b[90m━━━━━━━━━━━━━━━━━━━━━━━━━━━━━━━━━━━━━━━━\u001b[0m \u001b[32m46.4/46.4 kB\u001b[0m \u001b[31m2.5 MB/s\u001b[0m eta \u001b[36m0:00:00\u001b[0m\n",
            "\u001b[2K     \u001b[90m━━━━━━━━━━━━━━━━━━━━━━━━━━━━━━━━━━━━━━━━\u001b[0m \u001b[32m1.0/1.0 MB\u001b[0m \u001b[31m7.3 MB/s\u001b[0m eta \u001b[36m0:00:00\u001b[0m\n",
            "\u001b[2K     \u001b[90m━━━━━━━━━━━━━━━━━━━━━━━━━━━━━━━━━━━━━━━━\u001b[0m \u001b[32m90.0/90.0 kB\u001b[0m \u001b[31m5.9 MB/s\u001b[0m eta \u001b[36m0:00:00\u001b[0m\n",
            "\u001b[2K     \u001b[90m━━━━━━━━━━━━━━━━━━━━━━━━━━━━━━━━━━━━━━\u001b[0m \u001b[32m922.4/922.4 kB\u001b[0m \u001b[31m10.2 MB/s\u001b[0m eta \u001b[36m0:00:00\u001b[0m\n",
            "\u001b[2K     \u001b[90m━━━━━━━━━━━━━━━━━━━━━━━━━━━━━━━━━━━━━━━━\u001b[0m \u001b[32m57.0/57.0 kB\u001b[0m \u001b[31m2.5 MB/s\u001b[0m eta \u001b[36m0:00:00\u001b[0m\n",
            "\u001b[?25h  Installing build dependencies ... \u001b[?25l\u001b[?25hdone\n",
            "  Getting requirements to build wheel ... \u001b[?25l\u001b[?25hdone\n",
            "  Preparing metadata (pyproject.toml) ... \u001b[?25l\u001b[?25hdone\n",
            "\u001b[2K     \u001b[90m━━━━━━━━━━━━━━━━━━━━━━━━━━━━━━━━━━━━━━━━\u001b[0m \u001b[32m62.5/62.5 kB\u001b[0m \u001b[31m5.3 MB/s\u001b[0m eta \u001b[36m0:00:00\u001b[0m\n",
            "\u001b[2K     \u001b[90m━━━━━━━━━━━━━━━━━━━━━━━━━━━━━━━━━━━━━━━\u001b[0m \u001b[32m86.0/86.0 kB\u001b[0m \u001b[31m364.5 kB/s\u001b[0m eta \u001b[36m0:00:00\u001b[0m\n",
            "\u001b[?25h  Preparing metadata (setup.py) ... \u001b[?25l\u001b[?25hdone\n",
            "\u001b[2K     \u001b[90m━━━━━━━━━━━━━━━━━━━━━━━━━━━━━━━━━━━━━━━━\u001b[0m \u001b[32m58.3/58.3 kB\u001b[0m \u001b[31m6.0 MB/s\u001b[0m eta \u001b[36m0:00:00\u001b[0m\n",
            "\u001b[2K     \u001b[90m━━━━━━━━━━━━━━━━━━━━━━━━━━━━━━━━━━━━━━\u001b[0m \u001b[32m149.6/149.6 kB\u001b[0m \u001b[31m17.1 MB/s\u001b[0m eta \u001b[36m0:00:00\u001b[0m\n",
            "\u001b[2K     \u001b[90m━━━━━━━━━━━━━━━━━━━━━━━━━━━━━━━━━━━━━━\u001b[0m \u001b[32m114.5/114.5 kB\u001b[0m \u001b[31m12.0 MB/s\u001b[0m eta \u001b[36m0:00:00\u001b[0m\n",
            "\u001b[2K     \u001b[90m━━━━━━━━━━━━━━━━━━━━━━━━━━━━━━━━━━━━━━\u001b[0m \u001b[32m268.8/268.8 kB\u001b[0m \u001b[31m26.3 MB/s\u001b[0m eta \u001b[36m0:00:00\u001b[0m\n",
            "\u001b[2K     \u001b[90m━━━━━━━━━━━━━━━━━━━━━━━━━━━━━━━━━━━━━━━━\u001b[0m \u001b[32m1.3/1.3 MB\u001b[0m \u001b[31m50.2 MB/s\u001b[0m eta \u001b[36m0:00:00\u001b[0m\n",
            "\u001b[2K     \u001b[90m━━━━━━━━━━━━━━━━━━━━━━━━━━━━━━━━━━━━━━━━\u001b[0m \u001b[32m2.7/2.7 MB\u001b[0m \u001b[31m74.0 MB/s\u001b[0m eta \u001b[36m0:00:00\u001b[0m\n",
            "\u001b[2K     \u001b[90m━━━━━━━━━━━━━━━━━━━━━━━━━━━━━━━━━━━━━━━━\u001b[0m \u001b[32m49.1/49.1 kB\u001b[0m \u001b[31m5.3 MB/s\u001b[0m eta \u001b[36m0:00:00\u001b[0m\n",
            "\u001b[2K     \u001b[90m━━━━━━━━━━━━━━━━━━━━━━━━━━━━━━━━━━━━━━━━\u001b[0m \u001b[32m66.9/66.9 kB\u001b[0m \u001b[31m7.3 MB/s\u001b[0m eta \u001b[36m0:00:00\u001b[0m\n",
            "\u001b[2K     \u001b[90m━━━━━━━━━━━━━━━━━━━━━━━━━━━━━━━━━━━━━━━━\u001b[0m \u001b[32m7.0/7.0 MB\u001b[0m \u001b[31m88.3 MB/s\u001b[0m eta \u001b[36m0:00:00\u001b[0m\n",
            "\u001b[2K     \u001b[90m━━━━━━━━━━━━━━━━━━━━━━━━━━━━━━━━━━━━━━━━\u001b[0m \u001b[32m1.3/1.3 MB\u001b[0m \u001b[31m69.6 MB/s\u001b[0m eta \u001b[36m0:00:00\u001b[0m\n",
            "\u001b[2K     \u001b[90m━━━━━━━━━━━━━━━━━━━━━━━━━━━━━━━━━━━━━━\u001b[0m \u001b[32m224.5/224.5 kB\u001b[0m \u001b[31m23.6 MB/s\u001b[0m eta \u001b[36m0:00:00\u001b[0m\n",
            "\u001b[2K     \u001b[90m━━━━━━━━━━━━━━━━━━━━━━━━━━━━━━━━━━━━━━━━\u001b[0m \u001b[32m58.3/58.3 kB\u001b[0m \u001b[31m6.7 MB/s\u001b[0m eta \u001b[36m0:00:00\u001b[0m\n",
            "\u001b[2K     \u001b[90m━━━━━━━━━━━━━━━━━━━━━━━━━━━━━━━━━━━━━━\u001b[0m \u001b[32m129.9/129.9 kB\u001b[0m \u001b[31m15.5 MB/s\u001b[0m eta \u001b[36m0:00:00\u001b[0m\n",
            "\u001b[2K     \u001b[90m━━━━━━━━━━━━━━━━━━━━━━━━━━━━━━━━━━━━━━━━\u001b[0m \u001b[32m1.3/1.3 MB\u001b[0m \u001b[31m70.5 MB/s\u001b[0m eta \u001b[36m0:00:00\u001b[0m\n",
            "\u001b[2K     \u001b[90m━━━━━━━━━━━━━━━━━━━━━━━━━━━━━━━━━━━━━━━━\u001b[0m \u001b[32m4.1/4.1 MB\u001b[0m \u001b[31m90.2 MB/s\u001b[0m eta \u001b[36m0:00:00\u001b[0m\n",
            "\u001b[2K     \u001b[90m━━━━━━━━━━━━━━━━━━━━━━━━━━━━━━━━━━━━━━\u001b[0m \u001b[32m414.1/414.1 kB\u001b[0m \u001b[31m27.5 MB/s\u001b[0m eta \u001b[36m0:00:00\u001b[0m\n",
            "\u001b[2K     \u001b[90m━━━━━━━━━━━━━━━━━━━━━━━━━━━━━━━━━━━━━━━━\u001b[0m \u001b[32m7.8/7.8 MB\u001b[0m \u001b[31m49.0 MB/s\u001b[0m eta \u001b[36m0:00:00\u001b[0m\n",
            "\u001b[?25h  Building wheel for hnswlib (pyproject.toml) ... \u001b[?25l\u001b[?25hdone\n",
            "  Building wheel for sentence-transformers (setup.py) ... \u001b[?25l\u001b[?25hdone\n"
          ]
        }
      ],
      "source": [
        "!pip -q install langchain openai tiktoken chromadb"
      ]
    },
    {
      "cell_type": "code",
      "execution_count": null,
      "metadata": {
        "colab": {
          "base_uri": "https://localhost:8080/"
        },
        "id": "J-KFB7J_u_3L",
        "outputId": "a29ed872-d0bc-41ef-bb72-b6a0fe426a08"
      },
      "outputs": [
        {
          "name": "stdout",
          "output_type": "stream",
          "text": [
            "Name: langchain\n",
            "Version: 0.0.161\n",
            "Summary: Building applications with LLMs through composability\n",
            "Home-page: https://www.github.com/hwchase17/langchain\n",
            "Author: \n",
            "Author-email: \n",
            "License: MIT\n",
            "Location: /usr/local/lib/python3.10/dist-packages\n",
            "Requires: aiohttp, async-timeout, dataclasses-json, numexpr, numpy, openapi-schema-pydantic, pydantic, PyYAML, requests, SQLAlchemy, tenacity, tqdm\n",
            "Required-by: \n"
          ]
        }
      ],
      "source": [
        "!pip show langchain"
      ]
    },
    {
      "cell_type": "code",
      "execution_count": null,
      "metadata": {
        "id": "l6XPLPVrqEaV"
      },
      "outputs": [],
      "source": [
        "!wget -q https://www.dropbox.com/s/vs6ocyvpzzncvwh/new_articles.zip\n",
        "!unzip -q new_articles.zip -d new_articles"
      ]
    },
    {
      "cell_type": "markdown",
      "metadata": {
        "id": "7AnZQpL_IZZZ"
      },
      "source": [
        "# LangChain multi-doc retriever with ChromaDB\n",
        "\n",
        "***New Points***\n",
        "- Multiple Files\n",
        "- ChromaDB\n",
        "- Source info\n",
        "- gpt-3.5-turbo API"
      ]
    },
    {
      "cell_type": "markdown",
      "metadata": {
        "id": "HqwsGJDhvAQ5"
      },
      "source": [
        "## Setting up LangChain\n"
      ]
    },
    {
      "cell_type": "code",
      "execution_count": 38,
      "metadata": {
        "id": "dNA4TsHpu6OM"
      },
      "outputs": [
        {
          "data": {
            "text/plain": [
              "True"
            ]
          },
          "execution_count": 38,
          "metadata": {},
          "output_type": "execute_result"
        }
      ],
      "source": [
        "import os\n",
        "from dotenv import load_dotenv\n",
        "load_dotenv()"
      ]
    },
    {
      "cell_type": "code",
      "execution_count": 39,
      "metadata": {
        "id": "XHVE9uFb3Ajj"
      },
      "outputs": [],
      "source": [
        "from langchain.vectorstores import Chroma\n",
        "from langchain.embeddings import OpenAIEmbeddings\n",
        "from langchain.text_splitter import RecursiveCharacterTextSplitter\n",
        "from langchain.llms import OpenAI\n",
        "from langchain.chains import RetrievalQA\n",
        "from langchain.document_loaders import PyPDFLoader\n",
        "from langchain.document_loaders import DirectoryLoader\n",
        "from langchain_community.embeddings.sentence_transformer import (\n",
        "    SentenceTransformerEmbeddings)\n"
      ]
    },
    {
      "cell_type": "markdown",
      "metadata": {
        "id": "9UcQKUId3X2M"
      },
      "source": [
        "## Load multiple and process documents"
      ]
    },
    {
      "cell_type": "code",
      "execution_count": 99,
      "metadata": {
        "id": "PRSeXXc_3Ypj"
      },
      "outputs": [],
      "source": [
        "# Load and process the text files\n",
        "# loader = TextLoader('single_text_file.txt')\n",
        "loader = DirectoryLoader('books/', glob=\"./*.pdf\", loader_cls=PyPDFLoader)\n",
        "\n",
        "documents = loader.load()"
      ]
    },
    {
      "cell_type": "code",
      "execution_count": 100,
      "metadata": {},
      "outputs": [
        {
          "data": {
            "text/plain": [
              "[Document(page_content='Chapter 25\\nElectric Potential', metadata={'source': 'books/Ch25 (revised2022)(2).pdf', 'page': 0}),\n",
              " Document(page_content='Major topics covered in Chapter 25 –Electric Potential\\n•Definition of electric potential and potential difference\\n•Electric potential and potential energy due to charges\\n•Relation between electric field and electric potential\\n•Electric potential due to a charged conductor\\nIntroduction2', metadata={'source': 'books/Ch25 (revised2022)(2).pdf', 'page': 1}),\n",
              " Document(page_content='Electric Potential, Introduction\\nWe have discussed the electric forces of electromagnetism in the previous chapters.\\nIn this chapter, electromagnetism will be linked to energy .\\nBy using an energy approach, we can solve problems that were insoluble using \\nforces.\\nBecause the electrostatic force is conservative , electrostatic phenomena can be \\nconveniently described in terms of an electric potential energy.\\nThis will enable the definition of electric potential energy and electric potential.\\nIntroduction3', metadata={'source': 'books/Ch25 (revised2022)(2).pdf', 'page': 2}),\n",
              " Document(page_content='A brief review of the conservation of (mechanical) energy\\nConservation of Mechanical Energy\\n𝐸𝑓𝑖𝑛𝑎𝑙=𝐸𝑖𝑛𝑖𝑡𝑖𝑎𝑙\\n𝐾𝐸𝑓+𝑃𝐸𝑓=𝐾𝐸𝑖+𝑃𝐸𝑖\\nGravitational Potential \\nEnergy transforms to \\nKinetic Energy\\nDecrease in PE\\nIncrease in KE', metadata={'source': 'books/Ch25 (revised2022)(2).pdf', 'page': 3}),\n",
              " Document(page_content='Electrical Potential Energy (EPE)\\nWhen a charge q is placed in an electric field 𝐄, \\nit experiences an electric force Ԧ𝐅𝑬=𝑞0𝐄. \\nIn the following discussions, we assume q0is positive ( 𝑞𝑜>0) for simplicity.\\nAccording to Newton’s second law, q0will accelerate and move faster and faster, i.e. its \\nkinetic energy is increasing. The increase in KE comes from the decrease in (electrical) PE.\\nTo determine the formula of electrical PE (EPE), we calculate the work done by the electric \\nfield on the charge:\\nis an infinitesimal displacement vector that is oriented tangent to a path through space.\\nFor a finite displacement of the charge from A to B, EPE should decrease and the change \\nin EPE of the system is given by:\\nsE sF\\uf072\\uf072\\uf072\\uf072\\nd q d W \\uf0d7\\uf03d\\uf0d7\\uf03d0\\n\\uf0f2\\uf0d7\\uf02d\\uf03d\\uf02d\\uf03d\\uf044B\\nAA B d q U UU sE\\uf072\\uf072\\n0\\nNote that the discussion above is also valid for 𝑞𝑜<0.\\ns\\uf072dThe negative sign means that as a positive charge moves \\nalong the field lines, the potential energy decreases.\\nA B', metadata={'source': 'books/Ch25 (revised2022)(2).pdf', 'page': 4}),\n",
              " Document(page_content='Electric Potential\\nSection  25.1\\n\\uf0f2\\uf0d7\\uf02d\\uf03d\\uf044\\uf03d\\uf044B\\nAdqUV sE\\uf072\\uf072\\n06It is called the electric potential V. \\n\\uf0f2\\uf0d7\\uf02d\\uf03d\\uf02d\\uf03d\\uf044B\\nAA B d q U UU sE\\uf072\\uf072\\n0Noted that the electric potential energy depends on the charge q0.  \\nSimilar to the derivation of the electric field -which is just the electric force per unit \\ncharge,\\n𝐄≡Ԧ𝐅\\n𝑞𝑜\\nwe would like to define a physical quantity which is electrical potential energy per \\nunit charge, 𝑈\\n𝑞𝑜. :\\n*Since V is just energy per unit charge, multiplying charge (q) and potential (V) \\nwill give you the energy (U), i.e. \\uf044U = q\\uf044V. Units: 1 J/C ≡1 V', metadata={'source': 'books/Ch25 (revised2022)(2).pdf', 'page': 5}),\n",
              " Document(page_content='Example 1: Potential Difference in a Uniform Field\\nThe equations for electric potential between two points A and B can be simplified \\nif the electric field is uniform:\\nThe displacement points from A to B is parallel to the field lines.\\nThe negative sign indicates that the electric potential \\nat point Bis lower than that at point A.\\nSection  25.2\\nEd dE d V VVB\\nAB\\nAA B \\uf02d\\uf03d\\uf02d\\uf03d\\uf0d7\\uf02d\\uf03d\\uf044\\uf03d\\uf02d \\uf0f2\\uf0f2s sE\\uf072 \\uf072\\uf0727\\nA positive charge moving along the electric field \\nlines will decrease its electrical potential energy \\nand increase its kinetic energy. \\nElectric field lines always point in the direction \\nof decreasing electric potential .\\nV=3 V=2 V=1', metadata={'source': 'books/Ch25 (revised2022)(2).pdf', 'page': 6}),\n",
              " Document(page_content='Energy and the Direction of Electric Field\\nAn electric field does work on \\na positive charge when the \\ncharge moves in the direction \\nof the electric field.\\nSection  25.2\\nIfqoisnegative, then ΔUispositive .Inother word, asystem consisting ofa\\nnegative charge and anelectric field gains potential energy when thecharge\\nmoves inthedirection ofthefield.Inorder foranegative charge tomove inthe\\ndirection ofthefield, anexternal agent must dopositive work onthecharge .\\n8Conservation of Energy:\\nThe charged particle gains kinetic \\nenergy and the potential energy of \\nthe charge -field system decreases \\nby an equal amount of energy.', metadata={'source': 'books/Ch25 (revised2022)(2).pdf', 'page': 7}),\n",
              " Document(page_content='Charged Particle in a Uniform Field, Example\\nA positive charge is released from rest and \\nmoves in the direction of the electric field.\\nThe change in both potential 𝑉𝐵−𝑉𝐴=−𝐸𝑑\\nand potential energy is negative.\\nThe force and acceleration are in the direction \\nof the field.\\nConservation of Energy can be used to find its \\nspeed.\\nSection  25.2\\n9𝐾𝐸𝐵+𝑃𝐸𝐵= 𝐾𝐸𝐴+𝑃𝐸𝐴\\n1\\n2𝑚𝑣2+𝑞𝑉𝐵=0+𝑞𝑉𝐴\\n1\\n2𝑚𝑣2=𝑞𝑉𝐴−𝑉𝐵\\n1\\n2𝑚𝑣2=𝑞𝐸𝑑', metadata={'source': 'books/Ch25 (revised2022)(2).pdf', 'page': 8}),\n",
              " Document(page_content='Equipotentials\\nConsider the work done along AB & AC.\\nBoth work done are the same.\\nTherefore, points Band Care at the same \\npotential.\\n\\uf0a7In fact, all points (   ) in a plane \\nperpendicular to a uniform electric field \\nare at the same electric potential.\\nThe name equipotential surface is given to \\nany surface consisting of a continuous \\ndistribution of points having the same electric \\npotential.\\nSection  25.2\\nEquipotential \\nsurfaces are \\nperpendicular to \\nelectric field lines\\n10\\n\\uf0f2\\uf0d7\\uf02d\\uf03d\\uf044\\uf03d\\uf044B\\nAdqUV sE\\uf072\\uf072\\n0', metadata={'source': 'books/Ch25 (revised2022)(2).pdf', 'page': 9}),\n",
              " Document(page_content='Section  25.311𝑉𝐵−𝑉𝐴=−න\\n𝐴𝐵\\n𝐄⋅𝑑Ԧ𝐬=−න\\n𝐴𝐵′\\n𝐄⋅𝑑Ԧ𝐬\\n=−න\\n𝑟𝐴𝑟𝐵′\\n𝑘𝑒𝑞\\n𝑟2𝑑𝑟=𝑘𝑒𝑞1\\n𝑟𝐵−1\\n𝑟𝐴\\nElectric Potential of a Point Charge\\nAn isolated positive point charge ( q) produces a \\nfield directed radially outward.\\nThe potential difference between points Aand B\\nwill be\\nIt is customary to choose a reference potential of \\n𝑉=0at 𝑟𝐴=∞, and t hen the potential due to a \\npoint charge at some point 𝑟is\\n𝑉=𝑘𝑒𝑞\\n𝑟', metadata={'source': 'books/Ch25 (revised2022)(2).pdf', 'page': 10}),\n",
              " Document(page_content='Electric Potential of a Point Charge\\nThe electric potential in the plane around \\na single point charge is shown.\\nThe red -brown line shows the 1/ rnature \\nof the potential.\\nSection  25.3\\nElectric Potential with Multiple Charges\\nThe electric potential due to several point charges is the sum of the potentials \\ndue to each individual charge.\\n\\uf0a7This is another example of the superposition principle.\\n\\uf0a7The sum is the algebraic sum\\n\\uf0a7𝑉=0at 𝑟=∞\\n12\\n\\uf0e5\\uf03d\\ni ii\\nerqkV', metadata={'source': 'books/Ch25 (revised2022)(2).pdf', 'page': 11}),\n",
              " Document(page_content='E and Vfor a Point Charge\\nThe equipotential lines are the dashed blue lines.\\nThe electric field lines are the brown lines.\\nThe equipotential lines are everywhere perpendicular to the field lines.\\nFor 𝑉=𝑘𝑒𝑞\\n𝑟, we may check that\\nNotes: This relation holds when the \\nelectric field is only in radial directions.𝐸𝑟=𝑘𝑒𝑞\\n𝑟2=−𝑑𝑉\\n𝑑𝑟\\nSection  25.413', metadata={'source': 'books/Ch25 (revised2022)(2).pdf', 'page': 12}),\n",
              " Document(page_content='Finding E From V\\nIf the electric field has only an xcomponent, we have\\nSimilar statements would apply to the yand zcomponents.\\nEquipotential surfaces must always be perpendicular to the electric field lines \\npassing through them.\\ndxdVEx\\uf02d\\uf03d\\nSection  25.4Electric Field from Potential, General\\nIn general, the electric potential is a function of all three dimensions.\\nGiven V(x, y, z)you can find the  electric field components Ex, Eyand Ezby doing \\npartial differentiations:\\n14𝐸𝑥=−𝜕𝑉\\n𝜕𝑥𝐸𝑦=−𝜕𝑉\\n𝜕𝑦𝐸𝑧=−𝜕𝑉\\n𝜕𝑧\\n(treat y, zas constants) (treat x, zas constants) (treat x, yas constants)\\nThe symbol “ 𝜕” has a meaning similar to “ 𝑑” in calculus. It is used when more variables is used.', metadata={'source': 'books/Ch25 (revised2022)(2).pdf', 'page': 13}),\n",
              " Document(page_content='Potential Energy of Multiple Charges\\nThe potential energy of the system is\\nIf the two charges are the same sign, Uis \\npositive and work must be done to bring the \\ncharges together.\\nIf the two charges have opposite signs, Uis \\nnegative and negative work is done to bring \\nthe charges together. Energy is needed to \\nkeep the charges apart.\\n1221\\n122\\n1 21 ) (rqqkrqkq VqUe e\\uf03d \\uf03d\\uf03d\\nSection  25.3\\nIf there are more than two charges, then find \\nUfor each pair of charges and add them.\\nFor three charges:\\n\\uf0f7\\uf0f7\\n\\uf0f8\\uf0f6\\n\\uf0e7\\uf0e7\\n\\uf0e8\\uf0e6\\uf02b\\uf02b\\uf03d\\n2332\\n1331\\n1221\\nrqq\\nrqq\\nrqqkUe\\n15', metadata={'source': 'books/Ch25 (revised2022)(2).pdf', 'page': 14}),\n",
              " Document(page_content='Example 3: Electric Potential for a Continuous Charge Distribution\\nMethod 1 : The charge distribution is known. Consider a \\nsmall charge element dq\\n\\uf0a7Treat it as a point charge.\\nThe potential at some point due to this charge element is\\nTo find the total potential, you need to integrate to include \\nthe contributions from all the elements.\\nrdqk dVe\\uf03d\\nSection  25.5\\n\\uf0f2\\uf03drdqkVe\\n\\uf0f2\\uf0d7\\uf02d\\uf03d\\uf044B\\nAd V sE\\uf072\\uf072Method 2 : If the electric field is already known from other considerations, the \\npotential can be calculated using the original approach:\\nIf the charge distribution has sufficient symmetry, first find the field from Gauss ’s \\nLaw and then find the potential difference between any two points.\\n16', metadata={'source': 'books/Ch25 (revised2022)(2).pdf', 'page': 15}),\n",
              " Document(page_content='Vfor a Finite Line of Charge (Optional)\\nA rod of line ℓhas a total charge of Q\\nand a linear charge density of λ.\\n\\uf0a7There is no symmetry to use, but \\nthe geometry is simple.\\nSection  25.5\\ndV=kedq\\nr=keldx\\na2+x2\\nV= keldx\\na2+x2=ke0lò ldx\\na2+x2 0lò\\n=keQ\\nlln(x+a2+x2)0l=keQ\\nlln(l+a2+l2)-lnaé\\nëù\\nû\\n=keQ\\nllnl+a2+l2\\naæ\\nèççö\\nø÷÷17\\ndx\\na2+x2 bcò =ln(x+a2+x2)bc', metadata={'source': 'books/Ch25 (revised2022)(2).pdf', 'page': 16}),\n",
              " Document(page_content='Example: Calculate E first, then V\\n(a) For a conducting sphere with radius R and net charge Q, determine the E -\\nfield at the center of the sphere and right outside its surface.\\nThe charges reside on the surface of the conducting sphere\\n𝛷𝐸=ර𝐄⋅𝑑𝐀=𝑞in\\n𝜀𝑜\\n𝑞in=0\\uf0de𝐸=0 𝛷𝐸=ර𝐄⋅𝑑𝐀=𝑞𝑖𝑛\\n𝜀𝑜\\nර𝐸𝑑𝐴=𝑄\\n𝜀𝑜\\n𝐸ර𝑑𝐴=𝑄\\n𝜀𝑜\\n𝐸(4𝜋𝑟2)=𝑄\\n𝜀𝑜\\n\\uf0de𝐸=𝑄\\n4𝜋𝜀𝑜𝑟2=𝑘𝑒𝑄\\n𝑟2At the center : \\nRight outside its surface\\n', metadata={'source': 'books/Ch25 (revised2022)(2).pdf', 'page': 17}),\n",
              " Document(page_content='Example: Calculate E first, then V\\n(b) Derive the electric potential V at the surface and at the center of the sphere, \\nassuming V=0 at infinite distance.\\n\\uf0f2\\uf0d7\\uf02d\\uf03d\\uf044\\uf03d\\uf044B\\nAdqUV sE\\uf072\\uf072\\n0\\n𝑉𝑅=−න\\n∞𝑅\\n𝐸𝑑𝑟\\n=𝑘𝑒𝑄1\\n𝑟∞𝑅\\n=𝑘𝑒𝑄\\n𝑅At the surface At the center : \\n𝑉0=−න\\n∞0\\n𝐸𝑑𝑟\\n=−න\\n∞𝑅\\n𝑘𝑒𝑄\\n𝑟2𝑑𝑟+−න\\n𝑅0\\n𝐸𝑑𝑟\\n=𝑘𝑒𝑄\\n𝑅=−න\\n∞𝑅\\n𝑘𝑒𝑄\\n𝑟2𝑑𝑟', metadata={'source': 'books/Ch25 (revised2022)(2).pdf', 'page': 18}),\n",
              " Document(page_content='Example: electric potential due to a charged conductor\\nConsider two points on the surface of the charged \\nconductor as shown.\\n𝐄is always perpendicular to the displacement 𝑑Ԧ𝐬.\\nTherefore, 𝐄⋅𝑑Ԧ𝐬=0\\uf0aethe potential difference \\nbetween Aand Bis also zero.\\nVis constant everywhere on the surface of a \\ncharged conductor in equilibrium ( Δ𝑉=0).\\nThe surface of any charged conductor in \\nelectrostatic equilibrium is an equipotential surface.\\nBecause the electric field is zero inside the \\nconductor, we conclude that the electric potential \\nis constant everywhere inside the conductor\\nand equal to the value at the surface.\\nSection  25.6\\n20', metadata={'source': 'books/Ch25 (revised2022)(2).pdf', 'page': 19}),\n",
              " Document(page_content='Cavity in a Conductor\\nAssume an irregularly shaped cavity is \\ninside a conductor.\\nAssume no charges are inside the cavity.\\nThe electric field inside the conductor must \\nbe zero.\\nThe electric field inside does not depend \\non the charge distribution on the outside \\nsurface of the conductor.\\nFor all paths between Aand B,\\nA cavity surrounded by conducting walls is \\na field -free region (E = 0) as long as no \\ncharges are inside the cavity.\\nSection  25.6\\n0\\uf03d\\uf0d7\\uf02d\\uf03d\\uf02d\\uf0f2B\\nAA B d VV sE\\uf072\\uf07221', metadata={'source': 'books/Ch25 (revised2022)(2).pdf', 'page': 20}),\n",
              " Document(page_content='Corona Discharge (Optional)\\nIf the electric field near a conductor is sufficiently strong, electrons resulting from \\nrandom ionizations of air molecules near the conductor accelerate away from their \\nparent molecules.\\nThese electrons can ionize additional molecules near the conductor. This creates \\nmore free electrons with higher energy. When the energy is released as light, a \\nglow occurs.\\nThe corona discharge is the glow \\nthat results from the recombination \\nof these free electrons with the \\nionized air molecules.\\nThe ionization and corona \\ndischarge are most likely to occur \\nnear very sharp points.\\nSection  25.622', metadata={'source': 'books/Ch25 (revised2022)(2).pdf', 'page': 21}),\n",
              " Document(page_content='Chapter 9\\nInterference and diﬀraction\\nCopyright 2010 by David Morin, morin@physics.harvard.edu (Version 1, June 25, 2010)\\nThis ﬁle contains the “Interference and diﬀraction” chapter of a potential book on Waves, designed\\nfor college sophomores.\\nIn this chapter we’ll study what happens when waves from two or more sources exist at a\\ngiven point in space. In the case of two waves, the total wave at the given point is the sum\\nof the two waves. The waves can add constructively if they are in phase, or destructively if\\nthey are out of phase, or something inbetween for other phases. In the general case of many\\nwaves, we need to add them all up, which involves keeping track of what all the phases\\nare. The results in this chapter basically boil down to (as we’ll see) getting a handle on the\\nphases and adding them up properly. We won’t need to worry about various other wave\\ntopics, such as dispersion, polarization, and so on; it pretty much all comes down to phases.\\nThe results in this chapter apply to any kind of wave, but for convenience we’ll generally\\nwork in terms of electromagnetic waves.\\nThe outline of this chapter is as follows. In Section 9.1 we do the warm-up case of two\\nwaves interfering. The setup consists of a plane wave passing through two very narrow\\n(much narrower than the wavelength of the wave) slits in a wall, and these two slits may be\\nconsidered to be the two sources. We will calculate the interference pattern on a screen that\\nis located far away. We’ll be concerned with this “far-ﬁeld” limit for most of this chapter,\\nwith the exception of Section 9.5. In Section 9.2 we solve the general case of interference\\nfrom Nnarrow slits. In addition to showing how the phases can be added algebraically, we\\nshow how they can be added in an extremely informative geometric manner. In Section 9.3\\nwe switch gears from the case of many narrow slits to the case of one wide slit. The word\\n“diﬀraction” is used to describe the interference pattern that results from a slit with non-\\nnegligible width. We will see, however, that this still technically falls into the category of N\\nnarrow slits, because one wide slit can be considered to be a collection of a large (inﬁnite)\\nnumber of narrow slits. In section 9.4 we combine the results of the two previous sections\\nand calculate the interference pattern from Nwide slits. Finally, in Section 9.5 we drop the\\nassumption that the screen is far away from the slit(s) and discuss “near-ﬁeld” interference\\nand diﬀraction. This case is a bit more complicated, but fortunately there is still a nice\\ngeometric way of seeing how things behave. This involves a very interesting mathematical\\ncurve known as the Cornu spriral .\\n1', metadata={'source': 'books/interference.pdf', 'page': 0}),\n",
              " Document(page_content='2 CHAPTER 9. INTERFERENCE AND DIFFRACTION\\n9.1 Two-slit interference\\nConsider a plane wave moving toward a wall, and assume that the wavefronts are parallel to\\nthe wall, as shown in Fig. 1. If you want, you can consider this plane wave to be generated\\n plane wave\\nwall\\nFigure 1by a point source that is located a very large distance to the left of the wall. Let there be\\ntwo very small slits in the wall that let the wave through. (We’ll see in Section 9.3 that\\nby “very small,” we mean that the height is much smaller than the wavelength.) We’re\\nassuming that the slits are essentially inﬁnite in length in the direction perpendicular to the\\npage. So they are very wide but very squat rectangles. Fig. 2 shows a head-on view from\\nwall\\nwall slits(view from distant source)\\nwall extends infinitely\\n   in both directionswall\\nwall extends infinitely\\n   in both directions\\nFigure 2the far-away point source.\\nBy Huygens’ principle we can consider each slit to be the source of a cylindrically propa-\\ngating wave. It is a cylindrical (and not spherical) wave because the wave has no dependence\\nin the direction perpendicular to the page, due to the fact that it is generated by a line source\\n(the slit). If we had a point source instead of a line source, then we would end up with\\na standard spherically propagating wave. The reason why we’re using a line source is so\\nthat we can ignore the coordinate perpendicular to the page. However, having said this, the\\nfact that we have a cylindrical wave instead of a spherical wave will be largely irrelevant in\\nthis chapter. The main diﬀerence is that the amplitude of a cylindrical wave falls oﬀ like\\n1/√r(see Section [to be added] in Chapter 7) instead of the usual 1 /rfor a spherical wave.\\nBut for reasons that we will see, we can usually ignore this dependence. In the end, since\\nwe’re ignoring the coordinate perpendicular to the page, we can consider the setup to be\\na planer one (in the plane of the page) and eﬀectively think of the line source as a point\\nsource (namely, the point on the line that lies in the page) that happens to produce a wave\\nwhose amplitude falls oﬀ like 1 /√r(although this fact won’t be very important).\\nThe important thing to note about our setup is that the two sources are in phase due\\nto the assumption that the wavefronts are parallel to the wall.1Note that instead of this\\nsetup with the incoming plane wave and the slits in a wall, we could of course simply have\\ntwo actual sources that are in phase. But it is sometimes diﬃcult to generate two waves\\nthat are exactly in phase. Our setup with the slits makes this automatically be the case.\\nAs the two waves propagate outward from the slits, they will interfere. There will be\\nconstructive interference at places where the two waves are in phase (where the pathlengths\\nfrom the two slits diﬀer by an integral multiple of the wavelength). And there will be\\ndestructive interference at places where the two waves are 180◦out of phase (where the\\npathlengths from the two slits diﬀer by an odd multiple of half of the wavelength). For\\nexample, there is constructive interference at point Ain Fig. 3 and destructive interference\\nA\\nB\\nFigure 3at point B.\\nWhat is the interference pattern on a screen that is located very far to the right of the\\nwall? Assume that the screen is parallel to the wall. The setup is shown in Fig. 4. The\\ndistance between the slits is d, the distance to the screen is D, the lengths of the two paths\\nto a given point Parer1andr2, and θis the angle that the line to Pmakes with the\\nnormal to the wall and screen. The distance xfrom Pto the midpoint of the screen is then\\nx=Dtanθ.\\n1Problem 9.1 shows how things are modiﬁed if the wavefronts aren’t parallel to the wall. This is done in\\nthe context of the N-slit setup in Section 9.2. The modiﬁcation turns out to be a trivial one.', metadata={'source': 'books/interference.pdf', 'page': 1}),\n",
              " Document(page_content='9.1. TWO-SLIT INTERFERENCE 3\\nwall screen\\nP\\ndx S1r1\\nr2\\nS2\\nDθessentially\\nparallel\\nFigure 4\\nIn ﬁnding the interference pattern on the screen, we will work in the so-called far-ﬁeld\\nlimit where the screen is very far away. (We’ll discuss the near-ﬁeld case in Section 9.5.)2\\nThe quantitative deﬁnition of the far-ﬁeld limit is D≫d. This assumption that Dis much\\nlarger than dleads to two important facts.\\n•IfD≫d, then we can say that the two pathlengths r1andr2in Fig. 4 are essentially\\nequal in a multiplicative sense. That is, the ratio r1/r2is essentially equal to 1. This\\nfollows from the fact that the additive diﬀerence |r1−r2|is negligible compared with\\nr1andr2(because |r1−r2|can’t be any larger than d, which we are assuming is\\nnegligible compared with D, which itself is less than r1andr2). This r1/r2≈1 fact\\nthen tells us that the amplitudes of the two waves at point Pfrom the two slits are\\nessentially equal (because the amplitudes are proportional to 1 /√r, although the exact\\npower dependence here isn’t important).\\n•IfD≫d, then we can say that the r1andr2paths in Fig. 4 are essentially parallel,\\nand so they make essentially the same angle (namely θ) with the normal. The parallel\\nnature of the paths then allows us to easily calculate the additive diﬀerence between\\nthe pathlengths. A closeup of Fig. 4 near the slits is shown in Fig. 5. The diﬀerence\\nto screen \\nfar away\\ndS1\\nS2θθ\\nd sinθ\\nFigure 5in the pathlengths is obtained by dropping the perpendicular line as shown, so we see\\nthat the diﬀerence r2−r1equals dsinθ. The phase diﬀerence between the two waves\\nis then\\nk(r2−r1) =kdsinθ=2π\\nλdsinθ= 2π·dsinθ\\nλ. (1)\\nIn short, dsinθ/λis the fraction of a cycle that the longer path is ahead of the shorter\\npath.\\nRemark: We found above that r1is essentially equal to r2in amultiplicative sense, but not in\\nanadditive sense. Let’s be a little more explicit about this. Let ϵbe deﬁned as the diﬀerence,\\nϵ≡r2−r1. Then r2=r1+ϵ, and so r2/r1= 1 + ϵ/r1. Since r1> D, the second term here is less\\nthan ϵ/D. As we mentioned above, this quantity is negligible because ϵcan’t be larger than d, and\\nbecause we’re assuming D≫d. We therefore conclude that r2/r1≈1. In other words, r1≈r2in a\\nmultiplicative sense. This then implies that the amplitudes of the two waves are essentially equal.\\nHowever, the phase diﬀerence equals k(r2−r1) = 2 π(r2−r1)/λ= 2πϵ/λ. So if ϵis of the\\nsame order as the wavelength, then the phase diﬀerence isn’t negligible. So r2isnotequal to r1\\n2The fancier terminology for these two cases comes from the people who did pioneering work in them:\\ntheFraunhofer limit for far-ﬁeld, and the Fresnel limit for near-ﬁeld. The correct pronunciation of “Fresnel”\\nappears to be fray-NELL, although many people say freh-NELL.', metadata={'source': 'books/interference.pdf', 'page': 2}),\n",
              " Document(page_content='4 CHAPTER 9. INTERFERENCE AND DIFFRACTION\\nin an additive sense. To sum up, the multiplicative comparison of r2andr1(which is relevant for\\nthe amplitudes) involves the comparison of ϵandD, and we know that ϵ/D is negligible in the\\nfar-ﬁeld limit. But the additive comparison of r2andr1(which is relevant for the phases) involves\\nthe comparison of ϵandλ, and ϵmay very well be of the same order as λ.♣\\nHaving found the phase diﬀerence in Eq. (1), we can now ﬁnd the total value of the wave\\nat point P. Let APbe the common amplitude of each of the two waves at P. Then up to\\nan overall phase that depends on when we pick the t= 0 time, the total (complex) wave at\\nPequals\\nEtot(P) = APei(kr1−ωt)+APei(kr2−ωt)\\n=AP(eikr1+eikr2)e−iωt. (2)\\nOur goal is to ﬁnd the amplitude of the total wave, because that (or rather the square of it)\\nyields the intensity of the total wave at point P. We can ﬁnd the amplitude by factoring\\nout the average of the two phases in the wave, as follows.\\nEtot(P) = AP(\\neik(r1−r2)/2+e−ik(r1−r2)/2)\\neik(r1+r2)/2e−iωt\\n= 2 APcos(k(r1−r2)\\n2)\\nei(\\nk(r1+r2)/2−ωt)\\n= 2 APcos(kdsinθ\\n2)\\nei(\\nk(r1+r2)/2−ωt)\\n, (3)\\nwhere we have used k(r2−r1) =kdsinθfrom Eq. (1). The amplitude is the coeﬃcient of\\nthe exponential term, so we see that the total amplitude at Pis\\nAtot(P) = 2 APcos(kdsinθ\\n2)\\n−→ Atot(θ) = 2 A(θ) cos(kdsinθ\\n2)\\n, (4)\\nwhere we have rewritten APasA(θ), and Atot(P) asAtot(θ), to emphasize the dependence\\nonθ. Note that the amplitude at θ= 0 is 2 A(0) cos(0) = 2 A(0). Therefore,\\nAtot(θ)\\nAtot(0)=A(θ)\\nA(0)cos(kdsinθ\\n2)\\n(5)\\nThe intensity is proportional to the square of the amplitude, which gives\\nItot(θ)\\nItot(0)=A(θ)2\\nA(0)2cos2(kdsinθ\\n2)\\n(6)\\nSince the amplitude of a cylindrically propagating wave is proportional to 1 /√r, we have\\nA(θ)\\nA(0)=1/√\\nr(θ)\\n1/√\\nr(0)=√\\nr(0)\\nr(θ)=√\\nD\\nD/cosθ=√\\ncosθ. (7)\\nTherefore,\\nItot(θ)\\nItot(0)= cos θcos2(kdsinθ\\n2)\\n= cos θcos2(πdsinθ\\nλ)\\n. (8)', metadata={'source': 'books/interference.pdf', 'page': 3}),\n",
              " Document(page_content='9.1. TWO-SLIT INTERFERENCE 5\\nThis result holds for all values of θ, even ones that approach 90◦. The only approximation\\nwe’ve made so far is the far-ﬁeld one, which allows us to say that (1) the amplitudes of the\\nwaves from the two slits are essentially equal, and (2) the two paths are essentially parallel.\\nThe far-ﬁeld approximation has nothing to do with the angle θ.\\nIf we want to write Itotin terms of the distance xfrom the midpoint of the screen,\\ninstead of θ, then we can use cos θ=D/√\\nx2+D2and sin θ=x/√\\nx2+D2. This gives\\nItot(x)\\nItot(0)=D√\\nx2+D2cos2(xkd\\n2√\\nx2+D2)\\n=D√\\nx2+D2cos2(xπd\\nλ√\\nx2+D2)\\n. (9)\\nPlots of Itot(x)/Itot(0) are shown in Fig. 6, for dvalues of ( .01)λ, (0.5)λ, 5λ, and 50 λ.\\nI(x)/I(0) I(x)/I(0)\\nI(x)/I(0) I(x)/I(0)\\n(d = 50λ) (d = 5λ)(d = 0.5  λ) (d = .01  λ)\\nx/D\\nx/D x /Dx/D- -\\n- - - -- - 4 2 0 2 40.20.40.60.81.0\\n4 2 0 2 40.20.40.60.81.0\\n4 2 0 2 40.20.40.60.81.0\\n4 2 0 2 40.20.40.60.81.0\\nFigure 6\\nAs you can see from the ﬁrst plot, if dis much smaller than λ, the interference pattern\\nisn’t too exciting, because the two paths are essentially in phase with each other. The\\nmost they can be out of phase is when θ→90◦(equivalently, x→ ∞ ), in which case the\\npathlength diﬀerence is simply b= (.01)λ, which is only 1% of a full phase. Since we have\\nd≪λin the ﬁrst plot, the cosine-squared term in Eq. (9) is essentially equal to 1, so\\nthe curve reduces to a plot of the function D/√\\nx2+D2. It decays to zero for the simple\\nintuitive reason that the farther we get away from the slit, the smaller the amplitude is\\n(more precisely, A(θ) =A(0)√\\ncosθ). In this d≪λcase, we eﬀectively have a single light\\nsource from a single slit; interference from the two slits is irrelevant because the waves can\\nnever be much out of phase. The function in the ﬁrst plot is simply the intensity we would\\nsee from a single slit.\\nThed= (0.5)λplot gives the cutoﬀ case when there is barely destructive interference at\\nx=∞. (Of course, the amplitude of both waves is zero there, so the total intensity is zero\\nanyway.) The d= 5λandd= 50λplots exhibit noticeable interference. The local maxima\\noccur where the two pathlengths diﬀer by an integral multiple of the wavelength. The local\\nminima occur where the two pathlengths diﬀer by an odd multiple of half of the wavelength.\\nTheD/√\\nx2+D2function in Eq. (9) is the envelope of the cosine-squared function. In the\\nﬁrst plot, the D/√\\nx2+D2function is all there is, because the cosine-squared function', metadata={'source': 'books/interference.pdf', 'page': 4}),\n",
              " Document(page_content='6 CHAPTER 9. INTERFERENCE AND DIFFRACTION\\nessentially never deviates from 1. But in the d= 5λandd= 50λcases, it actually goes\\nthrough some cycles.\\nFig.7shows a close-up version of the d= 50λcase. For small x(equivalently, for small θ),\\nI(x)/I(0)\\n(d = 50λ)x/D- -0.2 0.1 0.0 0.1 0.20.20.40.60.81.0\\nFigure 7the ratio A(θ)/A(0) =√\\ncosθis essentially equal to 1, so the envelope is essentially constant.\\nWe therefore simply have a cosine-squared function with a nearly-constant amplitude. In\\npractice, we’re usually concerned only with small xandθvalues, in which case Eqs. (8) and\\n(9) become\\nItot(θ)\\nItot(0)≈cos2(θπd\\nλ)\\n(for θ≪1)\\nItot(x)\\nItot(0)≈cos2(xπd\\nλD)\\n(for x≪D) (10)\\nFor the remainder of this chapter, we will generally work in this small-angle approximation.\\nSo we won’t need the exact (at least exact in the far-ﬁeld approximation) results in Eqs. (8)\\nand (9).\\nThe plot of Itot(x)/Itot(0) from Eq. (10) is shown in Fig.8. The maxima occur at integer\\nI(x)/I(0)\\nx0.20.40.60.81.0\\nλD\\nd___2λD\\nd____0\\nFigure 8multiples of λD/d . It makes sense that the spacing grows with λ, because the larger λis,\\nthe more tilted the paths in Fig. 5 have to be to make the diﬀerence in their lengths (which\\nisdsinθ) be a given multiple of λ. The approximations we’ve made in Fig. 8 are that we’ve\\nignored the facts that as we move away from the center of the screen, (a) the amplitude\\nA(θ) of the two waves decreases, and (b) the peaks become spaced farther apart. You can\\ncompare Fig. 8 with the third and fourth plots in Fig. 6.\\nRemember that the small-angle approximation we’ve made here is diﬀerent from the\\n“far-ﬁeld” approximation. The far-ﬁeld approximation is the statement that the distances\\nfrom the two slits to a given point Pon the screen are essentially equal, multiplicatively.\\nThis holds if d≪D. (We’ll eventually drop this assumption in Section 9.5 when we discuss\\nthe near-ﬁeld approximation.) The small-angle approximation that leads to Eq. (10) is the\\nstatement that the distances from the two slits to diﬀerent points on the screen are all\\nessentially equal. This holds if x≪D, or equivalently θ≪1. Note that the small-angle\\napproximation has no chance of being valid unless the far-ﬁeld approximation already holds.\\nRemark: The small-angle approximation in Eq. (10) shoves the A(θ) dependence in Eq. (6) under\\nthe rug. Another way to get rid of this dependance is to use a cylindrical screen instead of a ﬂat\\nscreen, with the axis of the cylinder coinciding with the slits. So in Fig. 4 the screen would be\\nrepresented by a semicircle in the plane of the page, with the slits located at the center. In the\\nfar-ﬁeld limit, all of the paths in diﬀerent θdirections now have the same length, multiplicatively.\\n(The diﬀerence in pathlengths to a given point on the screen is still dsinθ.) So A(θ) =A(0) for all\\nθ, and the A’s cancel in Eq. (6). Note, however, that the spacing between the local maxima on the\\ncylindrical screen still isn’t uniform, because they occur where sin θ=λ/d. And sin θisn’t a linear\\nfunction of θ. At any rate, the reason why we generally work in terms of a ﬂat screen isn’t that\\nthere is anything fundamentally better about it compared with a cylindrical screen. It’s just that\\nin practice it’s easier to ﬁnd a ﬂat screen. ♣\\n9.2 N-slit interference\\n9.2.1 Standard derivation\\nLet’s now looks at the case where we have a general number, N, of equally-spaced slits,\\ninstead of 2. The setup is shown in Fig. 9 for the case of N= 5.', metadata={'source': 'books/interference.pdf', 'page': 5}),\n",
              " Document(page_content='9.2. N-SLIT INTERFERENCE 7\\nwall screen\\nP\\nr1\\nrNd\\nd\\nd\\nd\\nFigure 9\\nSimilar to the N= 2 case above, we will make the far-ﬁeld assumption that the distance\\nto the screen is much larger than the total span of the slits, which is ( N−1)d. We can then\\nsay, as we did in the N= 2 case, that all the paths to a given point Pon the screen have\\nessentially the same length in a multiplicative (but not additive) sense, which implies that\\nthe amplitudes of the waves are all essentially equal. And we can also say that all the paths\\nare essentially parallel. A closeup version near the slits is shown in Fig. 10. Additively, each\\nto screen \\nfar away\\nd\\nd\\nd\\nd\\nθθ\\nd sinθ\\nFigure 10pathlength is dsinθlonger than the one right above it. So the lengths take the form of\\nrn=r1+ (n−1)dsinθ.\\nTo ﬁnd the total wave at a given point at an angle θon the screen, we need to add up\\ntheNindividual waves (call them En). The procedure is the same as in the N= 2 case,\\nexcept that now we simply have more terms in the sum. In the N= 2 case we factored out\\nthe average of the phases (see Eq. (3)), but it will now be more convenient to factor out the\\nphase of the top wave in Fig. 9 (the r1path). The total wave at an angle θon the screen is\\nthen (with A(θ) being the common amplitude of all the waves)\\nEtot(θ) =N∑\\nn=1En=N∑\\nn=1A(θ)ei(krn−ωt)\\n=A(θ)ei(kr1−ωt)N∑\\nn=1eik(n−1)dsinθ. (11)\\nWith z≡eikdsinθ, the sum here is 1 + z+z2+···+zN−1. The sum of this geometric series\\nis\\nzN−1\\nz−1=eikNd sinθ−1\\neikdsinθ−1\\n=eik(N/2)dsinθ\\neik(1/2)dsinθ·eik(N/2)dsinθ−e−ik(N/2)dsinθ\\neik(1/2)dsinθ−e−ik(1/2)dsinθ\\n=eik((N−1)/2)dsinθ·sin(1\\n2Nkd sinθ)\\nsin(1\\n2kdsinθ). (12)\\nSubstituting this into Eq. (11) yields a total wave of\\nEtot(θ) =A(θ)sin(1\\n2Nkd sinθ)\\nsin(1\\n2kdsinθ)(\\nei(kr1−ωt)eik((N−1)/2)dsinθ)\\n. (13)\\nThe amplitude is the coeﬃcient of the exponential factors, so we have\\nAtot(θ) =A(θ)sin(1\\n2Nkd sinθ)\\nsin(1\\n2kdsinθ)≡A(θ)sin(Nα/2)\\nsin(α/2)(14)', metadata={'source': 'books/interference.pdf', 'page': 6}),\n",
              " Document(page_content='8 CHAPTER 9. INTERFERENCE AND DIFFRACTION\\nwhere\\nα≡kdsinθ=2πdsinθ\\nλ. (15)\\nSince adjacent pathlengths diﬀer by dsinθ, the physical interpretation of αis that it is the\\nphase diﬀerence between adjacent paths.\\nWhat is the value of Atot(θ) at the midpoint of the screen where θ= 0 (which implies\\nα= 0)? At α= 0, Eq. (14) yields Atot(θ) = 0 /0, which doesn’t tell us much. But we can\\nobtain the actual value by taking the limit of small α. Using sin ϵ≈ϵ, we have\\nAtot(0) = lim\\nθ→0Atot(θ) = lim\\nα→0A(θ)sin(Nα/2)\\nsin(α/2)=A(0)Nα/2\\nα/2=A(0)·N. (16)\\nIt is customary to deal not with the amplitude itself, but rather with the amplitude relative\\nto the amplitude at θ= 0. Combining Eqs. (14) and (16) gives\\nAtot(θ)\\nAtot(0)=A(θ)\\nA(0)·sin(Nα/2)\\nNsin(α/2). (17)\\nSince we generally deal with small angles, we’ll ignore the variation in the A(θ) coeﬃcient.\\nIn other words, we’ll set A(θ)≈A(0). This gives\\nAtot(α)\\nAtot(0)≈sin(Nα/2)\\nNsin(α/2)(for small θ) (18)\\nThe intensity at θrelative to the intensity at θ= 0 is then\\nItot(α)\\nItot(0)≈(sin(Nα/2)\\nNsin(α/2))2\\n(for small θ) (19)\\nEven for large angles, the eﬀect of A(θ) is to simply act as an envelope function of the\\noscillating sine functions. We can always bring A(θ) back in if we want to, but the more\\ninteresting behavior of Atot(θ) is the oscillatory part. We’re generally concerned with the\\nlocations of the maxima and minima of the oscillations and not with the actual value of\\nthe amplitude. The A(θ) factor doesn’t aﬀect these locations.3We’ll draw a plot of what\\nItot(α)/Itot(0) looks like, but ﬁrst a remark.\\nRemark: Technically, we’re being inconsistent here in our small-angle approximation, because\\nalthough we set A(θ) =A(0) (which from Eq. (7) is equivalent to setting cos θ= 1), we didn’t set\\nsinθ=θin the expression for α. To be consistent, we should approximate α=kdsinθbyα=kd·θ.\\nThe reason why we haven’t made this approximation is that we want to keep the locations of the\\nbumps in the interference pattern correct, even for large θ. And besides, the function A(θ) depends\\non the nature of the screen. A ﬂat screen has A(θ)/A(0) =√\\ncosθ, which decreases with θ, while\\na cylindrical screen has A(θ)/A(0) = 1, which is constant. Other shapes yield other functions of\\nθ. But they’re all generally slowly-varying functions of θ, compared with the oscillations of the\\nsin(Nα/2) function (unless you use a crazily-shaped wiggly screen, which you have no good reason\\nto do). The main point is that the function A(θ) isn’t an inherent property of the interference\\npattern; it’s a property of the screen. On the other hand, the angular locations of the maxima and\\nminima of the oscillations arean inherent property of the pattern. So it makes sense to keep these\\nlocations exact and not lose this information when making the small-angle approximation. If you\\nwant, you can write the intensity in Eq. (19) as\\nItot(θ)\\nItot(0)=F(θ)(\\nsin(Nα/2)\\nNsin(α/2))2\\n(where α≡kdsinθ), (20)\\n3Strictly speaking, A(θ) does aﬀect the locations of the maxima in a very slight manner (because when\\ntaking the overall derivative, the derivative of A(θ) comes into play). But A(θ) doesn’t aﬀect the locations\\nof the minima, because those are where Itot(α) is zero.', metadata={'source': 'books/interference.pdf', 'page': 7}),\n",
              " Document(page_content='9.2. N-SLIT INTERFERENCE 9\\nwhere F(θ) is a slowly-varying function of θthat depends on the shape of the screen. We will\\ngenerally ignore this dependence and set F(θ) = 1. ♣\\nWhat does the Itot(α)/Itot(0) ratio in Eq. (19) look like as a function of α? The plot\\nforN= 4 is shown in Fig. 11. If we’re actually talking about small angles, then we have\\nI(α)/I(0)\\n(N = 4) 2π π πα\\n_\\n23π__\\n20.20.40.60.81.0\\nFigure 11α=kdsinθ≈kd·θ. But the distance from the center of the screen is x=Dtanθ≈D·θ.\\nSo for small angles, we have α∝x. You can therefore think of Fig. 11 as showing the actual\\nintensity on the screen as a function of x(up to a scaling constant).\\nNote that although we generally assume θto be small, αisnotnecessarily small, because\\nα≡kdsinθinvolves a factor of kwhich may be large. Said in another way, αis the phase\\ndiﬀerence between adjacent slits, so if kis large (more precisely, if λ≪d), then even a small\\nangle θcan lead to a pathlength diﬀerence (which is dsinθ) equal to λ. This corresponds\\nto a phase diﬀerence of α=kdsinθ= (2π/λ)dsinθ= 2π. Consistent with this, the values\\non the horizontal axis in Fig. 11 are on the order of π(that is, they are not small), and the\\nﬁrst side peak is located at 2 π.\\nA number of things are evident from both Fig. 11 and Eq. (19):\\n1. The value of Itot(α)/Itot(0) at θ= 0 is 1, by construction.\\n2.Itot(α)/Itot(0) has a period of 2 πinα. The sine function in the denominator picks\\nup a minus sign when αincreases by 2 π, and likewise in the numerator if Nis odd.\\nBut an overall minus sign is irrelevant because the intensity involves the squares of\\nthe sines.\\n3.Itot(α) has zeroes whenever Nα/2 is a multiple of π, that is, whenever Nα/2 =mπ=⇒\\nα= 2mπ/N , which means that αis an even multiple of π/N. The one exception to\\nthis is when α/2 is also a multiple of π, that is, when α/2 =m′π=⇒α= 2m′π,\\nbecause then the denominator in Eq. (19) is also zero. (In this case, Eq. (16) tells us\\nthat the value at θ= 0 is 1. And likewise at any integer multiple of 2 π. These are the\\nlocations of the main peaks.) In the N= 4 case in Fig. 11, you can see that the zeros\\ndo indeed occur at\\n\\x13\\x13\\x130π\\n4,2π\\n4,4π\\n4,6π\\n4,\\x13\\x13\\x138π\\n4,10π\\n4,12π\\n4,14π\\n4,\\x00\\x00\\x0016π\\n4,···. (21)\\nAnd likewise for negative values. In general, the number of zeros between the main\\npeaks is N−1.\\n4. If you take the derivative of Itot(α), you will ﬁnd that the local maxima (of the small\\nbumps) occur when tan( Nα/2) = Ntan(α/2). This has to be solved numerically.\\nHowever, for large N, the solutions for αare generally very close to the odd multiples\\nofπ/N (except for values of the form of 2 π±π/N); see Problem [to be added]. In\\nother words, the local maxima are approximately right between the local minima (the\\nzeros) which themselves occur exactly at the even multiples of π/N, except at the\\nintegral multiples of 2 πwhere the main peaks are. In Fig. 11 you can see that the\\nsmall bumps do indeed occur at approximately\\n\\x13\\x13\\x131π\\n4,3π\\n4,5π\\n4,\\x13\\x13\\x137π\\n4,\\x13\\x13\\x139π\\n4,11π\\n4,13π\\n4,\\x00\\x00\\x0015π\\n4,\\x00\\x00\\x0017π\\n4,19π\\n4,···. (22)\\nAnd likewise for negative values. In general, the number of little bumps between the\\nmain peaks is N−2.\\n5. The little bumps in Fig. 11 have the same height, simply because there are only two\\nof them. For larger values of N, the bump sizes are symmetric around α=π(or in', metadata={'source': 'books/interference.pdf', 'page': 8}),\n",
              " Document(page_content='10 CHAPTER 9. INTERFERENCE AND DIFFRACTION\\ngeneral any multiple of π). They are the shortest there (because the denominator in\\nEq. (19) is largest at α=π), and they grow in size as they get closer to the main\\npeaks. Fig. 12 shows the interference pattern for N= 8.\\nI(α)/I(0)\\n(N = 8) 2ππα0.20.40.60.81.0\\nFigure 12Note that if d < λ , then α≡kdsinθ= (2π/λ)dsinθ <2πsinθ≤2π. Soαcan’t achieve\\nthe value of 2 π, which means that none of the tall side peaks in Fig. 11 exist. We have only\\none tall peak at α= 0, and then a number of small peaks. This makes sense physically,\\nbecause the main peaks occur when the waves from all the slits are in phase. And if d < λ\\nthere is no way for the pathlengths to diﬀer by λ, because the diﬀerence can be at most d\\n(which occurs at θ= 90◦). In general, the upper limit on αiskd, because sin θcan’t exceed\\n1. So no matter what the relation between dandλis, a plot such as the one in Fig. 12\\nexists out to the α=kdpoint (which corresponds to θ= 90◦), and then it stops.\\nIn the case of N= 2, we should check that the expression for Itot(α)/Itot(0) in Eq.\\n(19) reduces properly to the expression in Eq. (6) (with A(θ) set equal to A(0)). Indeed, if\\nN= 2, then the quotient in Eq. (19) becomes sin(2 ·α/2)/2 sin( α/2). Using the double-angle\\nformula in the numerator turns this into cos( α/2) = cos(\\n(1/2)kdsinθ)\\n, which agrees with\\nEq. (6).\\n9.2.2 Geometric construction\\nLet’s now derive the amplitude in Eq. (14) in a diﬀerent way. It turns out that there is an\\nextremely informative geometric way of seeing how this amplitude arises. The main task in\\nﬁnding the amplitude is calculating the sum in Eq. (11). With α≡kdsinθ, this sum is\\nN∑\\nn=1eik(n−1)dsinθ= 1 + eiα+ei2α+···+ei(N−1)α. (23)\\nEach term in this sum is a complex number with magnitude 1. If we plot these numbers\\nas vectors in the complex plane, they make angles of 0, α, 2α, etc. with respect to the x\\naxis. For example, in the case of N= 4 we might have the unit vectors shown in Fig. 13.\\n(N=4)\\nei 2α\\nei αei 3α\\n1ααα\\nFigure 13(Remember that αdepends on θ, which depends on where the point Pis on the screen.\\nSo for any point P, we have a set of Nvectors in the plane. The angle αbetween them\\nincreases as Pmoves farther oﬀ to the side.) The easiest way to add up these vectors is to\\nput them tail-to-head, as shown in Fig. 14. Each of the unit vectors is tilted at an angle α\\nααααr\\n1111Rei φ\\nFigure 14with respect to the one before it. The desired sum is the thick vector shown. As with any\\ncomplex number, we can write this sum as a magnitude times a phase, that is, as Reiφ.\\nThe total amplitude Atot(θ) equals Rtimes the A(θ) in Eq. (11), because the phase\\nei(kr1−ωt)in Eq. (11) and the phase eiφin the sum don’t aﬀect the amplitude. So our goal\\nis to ﬁnd R, which can be done in the following way. (If you want to ﬁnd the value of φ, see\\nProblem [to be added].)\\nThe thick vector in Fig. 14 is the base of an isosceles triangle with vertex angle 4 α, which\\nin general is Nα. So we have\\nR= 2·rsin(Nα/2), (24)\\nwhere ris the length shown in the ﬁgure. But from looking at any one of the four thinner\\nisosceles triangles with vertex angle αand base 1, we have\\n1 = 2·rsin(α/2). (25)\\nTaking the quotient of the two preceding equations eliminates the length r, and we arrive\\nat\\nR=sin(Nα/2)\\nsin(α/2). (26)', metadata={'source': 'books/interference.pdf', 'page': 9}),\n",
              " Document(page_content='9.2. N-SLIT INTERFERENCE 11\\nThis reproduces Eq. (14), because the total amplitude Atot(θ) equals R·A(θ).\\nAs time increases, the whole picture in Fig. 14 rotates clockwise in the plane, due to the\\n−ωtin the phase. There is also a phase shift due to the k1randφterms in the phase, but\\nthis simply aﬀects the starting angle. Since all the little vectors keep their same relative\\norientation, the ﬁgure keeps its same shape. That is, it rotates as a rigid “object.” The sum\\n(the thick vector) therefore always has the same length. This (constant) length is therefore\\nthe amplitude, while the (changing) horizontal component is the real part that as usual\\ngives the actual physical wave.\\nThe above geometric construction makes it easy to see why the main peaks and all the\\nvarious local maxima and minima appear in Fig. 12. The main peaks occur when αis a\\nmultiple of 2 π, because then all the little vectors point in the same direction (rightward at\\na given instant, if the ﬁrst little vector points to the right at that instant). The physical\\nreason for this is that α=m·2πimplies that\\nkdsinθ= 2mπ =⇒2πdsinθ\\nλ= 2mπ =⇒dsinθ=mλ. (27)\\nThis says that the diﬀerence in pathlengths from adjacent slits is a multiple of the wave-\\nlength, which in turn says that the waves from all of the slits constructively interfere. Hence\\nthe maximal amplitude.\\nA local minimum (a zero) occurs if the value of αis such that the chain of little vectors\\nin Fig. 14 forms a closed regular polygon (possibly wrapped around multiple times). In this\\ncase the sum (the thick vector in Fig. 14) has no length, so the amplitude is zero. The\\n“polygons” for the seven zeros in the N= 8 case in Fig. 12 are shown in Fig. 15. We’ve\\ntaken the ﬁrst of the vectors to always point horizontally to the right, although this isn’t\\nnecessary. We’ve drawn the ﬁgures slightly oﬀ from the case where the sum of the vectors\\nis zero, to make it easier to see what’s going on. The last three ﬁgures are mirror images of\\nthe ﬁrst three.\\n(α= π/4)\\n(α= π/2)\\n(α= 5π/4) ( α= 3π/2) ( α= 7π/4)(α= 3π/4)\\n(α= π)\\nFigure 15', metadata={'source': 'books/interference.pdf', 'page': 10}),\n",
              " Document(page_content='12 CHAPTER 9. INTERFERENCE AND DIFFRACTION\\nThe local maxima occur between the local minima. In the case of large N, it’s easy to\\ndetermine the approximate locations of these maxima. For large N, the vectors form an\\nessentially smooth curve, and the maxima occur roughly when the amplitude is a diameter\\nof a circle. The ﬁrst few of these occurrences are shown in Fig. 16 for the case of N= 50.\\nWe’ve made the curve spiral slightly inward so that you can see how many times it wraps\\naround. But in reality (in the far-ﬁeld limit), the curve just keeps tracing over itself.\\n(N=50)\\n(α=3π/50) ( α=5π/50) ( α=7π/50)\\n(α=0 for comparison)\\nFigure 16\\nThe maxima don’t occur exactly at the diameters, because the circle shrinks as the\\nlittle vectors wrap around further as αincreases, so there are competing eﬀects. But it\\nis essentially the diameter if the wrapping number is large (because in this case the circle\\nhardly changes size as the amplitude line swings past the diameter, so the shrinking eﬀect\\nis basically nonexistent). So we want the vectors to wrap (roughly) 3 /2, 5/2, 7/2, etc. times\\naround the circle. Since each full circle is worth 2 πradians, this implies that the total angle,\\nwhich is Nα, equals 3 π, 5π, 7π, etc. In other words, αis an odd multiple of π/N, excluding\\nπ/N itself (and also excluding the other multiples adjacent to multiples of 2 π). This agrees\\nwith the result in the paragraph preceding Eq. (22). The amplitude of the main peaks that\\noccur when αequals zero or a multiple of 2 πis also shown in Fig. 16 for comparison. In\\nthis case the circular curve is unwrapped and forms a straight line. The little tick marks\\nindicate the N= 50 little vectors.\\n9.2.3 Diﬀraction gratings\\nAdiﬀraction grating is a series of a large number, N, of slits with a very small spacing d\\nbetween them. If a source emits light that consists of various diﬀerent wavelengths, a diﬀrac-\\ntion grating provides an extremely simple method for determining what these wavelengths\\nare.\\nAs we saw above, the N-slit interference pattern consists of the main peaks, plus many\\nsmaller peaks in between. However, we will be concerned here only with the main peaks,\\nbecause these completely dominate the smaller peaks, assuming Nis large. Let’s justify\\nthis statement rigorously and discuss a few other things, and then we’ll do an example.\\nFrom the discussion that led to Eq. (22), the smaller peaks occur when αtakes on values\\nthat are approximately the odd multiples of π/N (except for values of the form 2 π±π/N),\\nthat is, when αequals 3 π/N, 5π/N, etc. The corresponding values of Itot(α)/Itot(0) are\\nobtained from Eq. (19). The numerator equals ( ±1)2, and since Nis large we can use a', metadata={'source': 'books/interference.pdf', 'page': 11}),\n",
              " Document(page_content='9.2. N-SLIT INTERFERENCE 13\\nsmall-angle approximation in the denominator, which turns the denominator into Nα/2.\\nThe resulting values of Itot(α)/Itot(0) are then (2 /3π)2, (2/5π)2, etc. Note that these are\\nindependent of N.\\nThe ﬁrst of the side peaks isn’t negligible compared with the main peak (it’s about\\n(2/3π)2= 4.5% as tall). But by the 10th peak, the height is negligible (it’s about 0 .1% as\\ntall). However, even though the ﬁrst few side peaks aren’t negligible, they are squashed very\\nclose to the main peaks if Nis large. This follows from the fact that the spacing between\\nthe main peaks is ∆ α= 2π, whereas the side peaks are on the order of π/N away from\\nthe main peaks. The ﬁgure for N= 20 is shown in Fig. 17. We can therefore make the\\nI(α)/I(0)\\n(N = 20)2π -2π 0α0.20.40.60.81.0\\nFigure 17approximation that the interference pattern is non-negligible only at (or extremely close to)\\nthe main peaks where αis a multiple of 2 π.\\nWhen dealing with diﬀraction gratings, we’re generally concerned only with the location\\nof the bright spots in the interference pattern, and not with the actual intensity. So any extra\\nintensity from the little side peaks is largely irrelevant. And since they’re squashed so close\\nto the main peaks, it’s impossible to tell that they’re distinct bumps anyway. The location\\nof the main peaks tells us what the various wavelengths are, by using kdsinθ= 2π=⇒\\n(2π/λ)dsinθ= 2π=⇒λ=dsinθ. The intensity tells us how much of each wavelength the\\nlight is made of, but for most purposes we’re not so concerned about this.\\nRemarks:\\n1. A diﬀraction grating should more appropriately be called an “interference grating,” because\\nit is simply an example of N-slit interference. It is notan example of diﬀraction, which we\\nwill deﬁne and discuss in Section 9.3.1. We’ll see there that a feature of a diﬀraction pattern\\nis that there are no tall side peaks, whereas these tall side peaks are the whole point of an\\n“interference grating.” However, we’ll still use the term “diﬀraction grating” here, since this\\nis the generally accepted terminology.\\n2. If we view the interference pattern on a screen, we know that it will look basically like Fig.\\n17 (we’ll assume for now that only one wavelength is involved). However, if you put your eye\\nright behind the grating, very close to it, what do you see? If you look straight at the light\\nsource, then you of course see the source. But if you look oﬀ at an angle (but still through\\nthe grating; so your eye has to be close to it), then you will also see a bright spot there. And\\nyou will also see bright spots at other angles. The number of spots depends on the relation\\nbetween the wavelength and the spacing. We’ll discuss a concrete case in the example below.\\nThe angles at which you see the spots are the same as the angles of the main peaks in Fig. 17,\\nfor the following reason. Fig. 18 shows the typical locations of the ﬁrst few main peaks in the\\ndirections of first\\n   few maxima\\nθ2θ1\\nFigure 18interference pattern from a standard set of slits contained in a small span in a wall. Imagine\\nputting additional sets of slits in the wall at locations such that a given spot on the screen\\n(your eye) is located at the angles of successive oﬀ-center peaks. This scenario is shown in\\nFig. 19. Each set of slits also produces many other peaks, of course, but you don’t see them\\neyeθ2\\nθ1\\nFigure 19because your eye is at only one location.\\nA diﬀraction grating is a continuous set of slits, but most of the slits are irrelevant. The\\nonly slits that matter are the ones that are located at positions such that the angle to your\\neye is one of the main-peak angles. In other words, we can replace the entire wall in Fig. 19\\nwith a continuous set of slits, and you will still see the same thing. Only the small regions of\\nslits shown in the ﬁgure will produce bright spots. In short, a diﬀraction grating acts like a\\ncollection of interference setups at speciﬁc locations in the grating.\\n3. You might be concerned that if your eye is close enough to the grating, then the far-ﬁeld\\napproximation (and hence all of the result so far in this chapter) will be invalid. After all, the\\ndistance Dfrom your eye to the grating isn’t large compared with the total span of the slits\\nin the grating. However, the far-ﬁeld approximation does indeed still hold, because from the\\nprevious remark we’re not concerned with the total span of the slits in the grating, but rather\\nwith the span of a small region near each of the main-peak angles. Assuming that the spacing\\nbetween the lines in the grating is very small (it’s generally on the order of 10−6m), the span', metadata={'source': 'books/interference.pdf', 'page': 12}),\n",
              " Document(page_content='14 CHAPTER 9. INTERFERENCE AND DIFFRACTION\\nof a few hundred lines will still be very small compared with the distance from your eye to\\nthe grating (assuming that your eyelashes don’t touch it). So the far-ﬁeld approximation still\\nholds. That is, the distances from these few hundred slits to your eye are all essentially equal\\n(multiplicatively).\\n4. In reality, most diﬀraction gratings are made by etching regularly-spaced lines into the mate-\\nrial. The exact details of the slits/etchings are’t critical. Any periodic structure with period\\ndwill do the trick. The actual intensities depend on the details, but the locations of the main\\npeaks don’t. This follows from the usual argument that if dsinθis a multiple of λ, then there\\nis constructive interference from the slits (whatever they may look like).\\n5. Problem 9.1 shows that it doesn’t matter whether or not the incident light is normal to the\\nwall (which is the diﬀraction grating here), as long as the deviation angle is small. If we\\nmeasure all angles relative to the incident angle, then all of our previous result still hold.\\nThis is fortunate, of course, because if you hold a diﬀraction grating in front of your eye, it\\nis highly unlikely that you will be able orient it at exactly a 90◦angle to the line between it\\nand the light source. ♣\\nExample (Blue and red light): A diﬀraction grating has 5000 lines per cm. Consider\\na white-light source (that is, it includes all wavelengths), and assume that it is essentially a\\npoint source far away. Taking the wavelengths of blue and red light to be roughly 4 .5·10−5cm\\nand 7 ·10−5cm, ﬁnd the angles at which you have to look to the side to see the oﬀ-center\\nblue and red maxima. What is the total number of maxima for each color that you can\\ntheoretically see on each side of the light source?\\nSolution: We basically have to do the same problem here twice, once for blue light and once\\nfor red light. As usual, the main peaks occur where the diﬀerence in pathlengths from adjacent\\nslits is an integral multiple of the wavelength. So we want dsinθ=mλ. (Equivalently, we\\nwant α=m·2π, which reduces to dsinθ=mλ.) We therefore want sin θ=mλ/d , where\\nd= (1 cm) /5000 = 2 ·10−4cm.\\nFor blue light, this gives sin θ=m(4.5·10−5cm)/(2·10−4cm) = m(0.225). So we have the\\nfollowing four possible pairs of mandθvalues:\\n(m, θ) : (1 ,13.0◦) (2 ,26.7◦) (3 ,42.5◦) (4 ,64.2◦) (28)\\nThere are only four possible angles (plus their negatives), because m= 5 gives a value of\\nsinθthat is larger than 1.\\nFor red light, we have sin θ=m(7·10−5cm)/(2·10−4cm) = m(0.35). So we have the\\nfollowing two possible pairs of mandθvalues:\\n(m, θ) : (1 ,20.5◦) (2 ,44.4◦) (29)\\nThere are only two possible angles (plus their negatives), because m= 3 gives a value of sin θ\\nthat is larger than 1. The red angles are larger than the corresponding blue angles because\\nthe red wavelength is longer, so it takes a larger angle to make adjacent pathlengths diﬀer\\nby a wavelength (or two wavelengths, etc.).\\nThe rest of the spectrum falls between blue and red, so we obtain rainbow bands of colors.\\nNote, however, that the ﬁrst band (from 13 .0◦to 20 .5◦, although the endpoints are fuzzy) is\\nthe only “clean” band that doesn’t overlap with another one. The second band ends at 44 .4◦,\\nwhich is after the third band starts at 42 .5◦. And the third band doesn’t even ﬁnish by the\\ntime the angle hits 90◦. Your viewing angle has to be less than 90◦, of course, because you\\nhave to be looking at least a little bit toward the grating. The angles of the various bands\\nare shown in Fig. 20. The mirror images of these angles on the left side work too.\\nθ = 90θ = 0\\n13.0\\n26.742.5\\n64.220.5\\n44.4112\\n23\\n4bands\\neyegratingto far away source\\nFigure 20\\n', metadata={'source': 'books/interference.pdf', 'page': 13}),\n",
              " Document(page_content='9.3. DIFFRACTION FROM A WIDE SLIT 15\\n9.3 Diﬀraction from a wide slit\\n9.3.1 Derivation\\nWe’ll now discuss what happens when a plane wave impinges on just one wide slit with width\\na, instead of a number of inﬁnitesimally thin ones. See Fig. 21. We’ll ﬁnd that if the width a\\nisn’t negligible compared with the wavelength λ, then something interesting happens. The\\ninterference pattern will depend on ain a particular way, whereas it didn’t depend on the\\ninﬁnitesimal width in the previous sections. We’ll keep working in the far-ﬁeld limit, which\\nhere means that D≫a.\\nwall screen\\nP\\nθa\\nD\\nFigure 21\\nBy Huygen’s principle, we can consider the wide slit to consist of an inﬁnite number of\\nline sources (or point sources, if we ignore the direction perpendicular to the page) next to\\neach other, each creating a cylindrical wave. In other words, the diﬀraction pattern from\\none continuous wide slit is equivalent to the N→ ∞ limit of the N-slit result in Eq. (19).\\nSo we’ve already done most of the work we need to do. We’ll present three ways we can go\\nabout taking the continuum limit. But ﬁrst some terminology.\\nThe word diﬀraction refers to a situation with a continuous aperture. The word inter-\\nference refers to a situation involving two or more apertures whose waves interfere. On one\\nhand, since diﬀraction is simply the N→ ∞ limit of interference, there is technically no need\\nto introduce a new term for it. But on the other hand, a speciﬁc kind of pattern arises, so it\\nmakes sense to give it its own name. Of course, we can combine interference and diﬀraction\\nby constructing a setup with waves coming from a number of wide apertures. We’ll deal\\nwith this in Section 9.4. A name that causes confusion between the words “interference”\\nand “diﬀraction” is the diﬀraction grating that we discussed above. As we mentioned in the\\nﬁrst remark in Section 9.2.3, this should technically be called an interference grating.\\nN→ ∞ limit\\nFor our ﬁrst derivation of the diﬀraction pattern, we’ll take the N→ ∞ limit of Eq. (19).\\nTheαin Eq. (19) equals kdsinθ. But if we imagine the slit of width ato consist of N\\ninﬁnitesimal slits separated by a distance d=a/N, then we have α=k(a/N) sinθ.4(The\\nNhere should perhaps be N−1, depending on where you put the slits, but this is irrelevant\\n4Of course, if we actually have inﬁnitesimal slits separated by little pieces of wall, then the intensity will\\ngo down. But this doesn’t matter since our goal is only to ﬁnd the relative intensity Itot(θ)/Itot(0). As\\nwe’ll see below, if the distance d=a/N is much smaller than the wavelength (which it is, in the N→ ∞\\nlimit) then we actually don’t even need to have little pieces of wall separating the slits. The slits can bump\\nright up against each other.', metadata={'source': 'books/interference.pdf', 'page': 14}),\n",
              " Document(page_content='16 CHAPTER 9. INTERFERENCE AND DIFFRACTION\\nin the N→ ∞ limit.) Plugging this value of αinto Eq. (19) gives\\nItot(θ)\\nItot(0)≈(\\nsin(kasinθ\\n2)\\nNsin(kasinθ\\n2N))2\\n. (30)\\nIn the N→ ∞ limit, we can use sin ϵ≈ϵin the denominator to obtain\\nItot(θ)\\nItot(0)≈(\\nsin(1\\n2kasinθ)\\n1\\n2kasinθ)2\\n=⇒Itot(θ)\\nItot(0)≈(sin(β/2)\\nβ/2)2\\n(31)\\nwhere\\nβ≡kasinθ=2πasinθ\\nλ. (32)\\nAnother convention is to deﬁne β≡(1/2)kasinθ, in which case the result in Eq. (31) takes\\nthe simpler form of(\\n(sinβ)/β)2. The reason why we chose β≡kasinθhere is because it\\nparallels the deﬁnition of αin Eq. (15). The results in Eqs. (19) and (31) are then similar,\\nin that they both involve factors of 2. The physical meaning of αin Eq. (15) is that it is the\\nphase diﬀerence between adjacent paths. The physical meaning of βis that is it the phase\\ndiﬀerence between the paths associated with the endpoints of the wide slit of width a.\\nThe function (sin x)/xis knows as the “sinc” function, sinc( x)≡(sinx)/x. A plot is\\nshown in Fig. 22. It is a sine function with a 1 /xenvelope. The result in Eq. (31) can\\n0.20.20.40.60.81.0\\n2π4π6πxsinc(x)\\nFigure 22therefore be written as Itot(θ)/Itot(0) = sinc2(β/2). A plot of this is shown in Fig. 23.\\nsinc2(β/2)\\n0.20.20.40.60.81.0\\n2π4π6πβ\\nFigure 23The factor of 2 in the argument makes the plot expanded by a factor of 2 in the horizontal\\ndirection compared with the plot in Fig. 22. Since sin θcan’t exceed 1, βcan’t exceed ka.\\nSo the plot in Fig. 23 exists out to the β=kapoint (which corresponds to θ= 90◦), and\\nthen it stops.\\nNote that the diﬀraction pattern has only one tall bump, whereas the interference pat-\\nterns we’ve seen generally have more than one tall bump (assuming that d > λ ). This is\\nconsistent with the discussion in the second-to-last paragraph in Section 9.2.1. We saw there\\nthat if d < λ , then there is only one tall bump. And indeed, in the present case we have\\nd=a/N, which becomes inﬁnitesimal as N→ ∞ . Sodis certainly smaller than λ.\\nThe zeros of Itot(θ) occur when βis a multiple of 2 π(except β= 0). And since β≡\\n2πasinθ/λ, this is equivalent to asinθbeing a multiple of λ. We’ll give a physical reason\\nfor this relation below in Section 9.3.2, but ﬁrst let’s give two other derivations of Eq. (31).\\nGeometric derivation\\nWe can give another derivation of the diﬀraction pattern by using the geometric construction\\nin Section 9.2.2. In the N→ ∞ limit, the little vectors in Fig. 14 become inﬁnitesimal,\\nso the crooked curve becomes a smooth curve with no kinks. If β= 0 (which corresponds\\ntoθ= 0 and hence α= 0 in Fig. 14), then all of the inﬁnitesimal vectors are in phase, so\\nwe get a straight line pointing to the right. If βis nonzero, then the vectors curl around,\\nand we get something like the picture shown in Fig. 24. The bottom inﬁnitesimal vector\\nβ\\nrβ\\n2r sin(β/2)r\\nFigure 24corresponds to one end of the wide slit, and the top inﬁnitesimal vector corresponds to the\\nother end. The pathlength diﬀerence between the ends is asinθ, so the phase diﬀerence is\\nkasinθ, which is by deﬁnition β. This phase diﬀerence is the angle between the top and\\nbottom vectors in Fig. 24. But this angle equals the central angle subtended by the arc.\\nThe central angle is therefore β, as shown.\\nNow, the amplitude Atot(0) is the length of the straight line in the β= 0 case. But\\nthis is also the length of the arc in Fig. 24, which we know is rβ, where ris the radius of\\nthe circle. And Atot(θ) is the sum of all the inﬁnitesimal vectors, which is the straight line', metadata={'source': 'books/interference.pdf', 'page': 15}),\n",
              " Document(page_content='9.3. DIFFRACTION FROM A WIDE SLIT 17\\nshown. From the isosceles triangle in the ﬁgure, this sum has length 2 rsin(β/2). Therefore,\\nsince the intensity is proportional to the square of the amplitude, we have\\nItot(θ)\\nItot(0)=(2rsin(β/2)\\nrβ)2\\n=(sin(β/2)\\nβ/2)2\\n, (33)\\nin agreement with Eq. (31).\\nContinuous integral\\nWe can also ﬁnd the diﬀraction pattern by doing a continuous integral over all the phases\\nfrom the possible paths from diﬀerent parts of the wide slit. Let the slit run from y=−a/2\\ntoy=a/2. And let B(θ)dybe the amplitude that would be present at a location θon the\\nscreen if only an inﬁnitesimal slit of width dywas open. So B(θ) is the amplitude (on the\\nscreen) per unit length (in the slit). B(θ)dyis the analog of the A(θ) in Eq. (11). If we\\nmeasure the pathlengths relative to the midpoint of the slit, then the path that starts at\\nposition yis shorter by ysinθ(so it is longer if y <0). It therefore has a relative phase of\\ne−ikysinθ. Integrating over all the paths that emerge from the diﬀerent values of y(through\\nimaginary slits of width dy) gives the total wave at position θon the screen as (up to an\\noverall phase from the y= 0 point, and ignoring the ωtpart of the phase)\\nEtot(θ) =∫a/2\\n−a/2(\\nB(θ)dy)\\ne−ikysinθ. (34)\\nThis is the continuous version of the discrete sum in Eq. (11). B(θ) falls oﬀ like 1 /√r, where\\nr=D/cosθ. However, as in Section 9.2.1, we’ll assume that θis small, which mean that\\nwe can let cos θ≈1. (And even if θisn’t small, we’re not so concerned about the exact\\nintensities and the overall envelope of the diﬀraction pattern.) So we’ll set B(θ) equal to\\nthe constant value of B(0). We therefore have\\nEtot(θ)≈B(0)∫a/2\\n−a/2e−ikysinθdy=B(0)\\n−iksinθ(\\ne−ik(a/2) sin θ−eik(a/2) sin θ)\\n=B(0)·−2isin(kasinθ\\n2)\\n−iksinθ\\n=B(0)a·sin(1\\n2kasinθ)\\n1\\n2kasinθ. (35)\\nThere aren’t any phases here, so this itself is the amplitude Atot(θ). Taking the usual limit\\natθ= 0, we obtain Atot(0) = B(0)a. Therefore, Atot(θ)/Atot(0) = sin( β/2)/(β/2), where\\nβ≡kasinθ. Since the intensity is proportional to the square of the amplitude, we again\\narrive at Eq. (31).\\n9.3.2 Width of the diﬀraction pattern\\nFrom Fig. 23, we see that most of the intensity of the diﬀraction pattern is contained within\\nthe main bump where |β|<2π. Numerically, you can shown that the fraction of the total\\narea that lies under the main bump is about 90%. So it makes sense to say that the angular\\nhalf-width of the pattern is given by\\nβ= 2π=⇒2πasinθ\\nλ= 2π=⇒ sinθ=λ\\na(36)', metadata={'source': 'books/interference.pdf', 'page': 16}),\n",
              " Document(page_content='18 CHAPTER 9. INTERFERENCE AND DIFFRACTION\\nFor small θ, this becomes\\nθ≈λ\\na(for small θ) (37)\\nNote that this is inversely proportional to a. The narrower the slit, the wider the diﬀraction\\npattern. There are two ways of understanding the sin θ=λ/aresult, or equivalently why\\nthe intensity is zero when this relation holds.\\n•As indicated in Eq. (36), sin θ=λ/ais equivalent to β= 2π. So in the geometric\\nconstruction that led to Eq. (33), this means that the arc in Fig. 24 is actually a full\\ncircle, as shown in Fig. 25. The sum of all the inﬁnitesimal vectors is therefore zero,\\nβ=2π\\nFigure 25so the amplitude and intensity are zero.\\n•If sin θ=λ/a, then the pathlength from one end of the slit is asinθ=λlonger than\\nthe pathlength from the other end, as shown in Fig. 26. So the waves from the two\\nto screen \\nfar away\\na\\nθθ\\na sinθ = λ\\nFigure 26ends are in phase. You might think that this implies that there should be constructive\\ninterference (which would be the case if we simply had two inﬁnitesimal slits separated\\nbya). But in fact it’s exactly the opposite in the present case of a continuous wide slit.\\nWe have complete destructive interference when the whole slit is taken into account,\\nfor the following reason.\\nImagine dividing the slit into two halves, as shown in Fig. 27. For every path in the\\n(a/2)  sinθ = λ/2a\\nFigure 27upper half (the lightly shaded region), there is a path in the lower half (the darkly\\nshaded region) that is λ/2 longer. So the two waves are exactly out of phase. Three\\npairs of dotted lines are shown. The waves therefore cancel in pairs throughout the\\nslit, and we end up with zero amplitude. This is equivalent to saying that the phases\\ncancel at diametrically opposite points in Fig. 25.\\nYou can quickly show by taking a derivative that the local maxima of I(β)/I(0) =(\\n(sin(β/2))/(β/2))2occur when tan β/2 =β/2. This must be solved numerically, but you\\ncan get a sense of what the roots are by plotting the functions y=β/2 and y= tan β/2,\\nand then looking at where the curves intersect. In Fig. 28 the intersections are indicated\\n151055101520\\n3ππ 5π7π---βy = β/2 y = tanβ/2 y\\nFigure 28by the dots, and you can see that the associated βvalues (in addition to the β= 0 root)\\nare close to 3 π, 5π, 7π, etc. (the larger βis, the better these approximations are). These\\nmaxima therefore occur roughly halfway between the zeros, which themselves occur when\\nβequals (exactly) 2 π, 4π, 6π, etc. The task of Problem [to be added] is to show how the\\n3π, 5π, 7π, etc. values follow from each of the above two bullet-point reasonings.\\nThe (half) angular spread of the beam, θ≈λ/a, is large if ais small. Physically, the\\nreason for this is that if ais small, then the beam needs to tilt more in order to generate\\nthe path diﬀerences (and hence phase diﬀerences) that lead to the total cancelation at the\\nﬁrst zero (at β= 2π). Said in a diﬀerent way, if ais small, then the beam can tilt quite a\\nbit and still have all the diﬀerent paths be essentially in phase.\\nIfa < λ , then even if the beam is titled at θ=π/2, there still can’t be total cancelation.\\nSo if a < λ , then the diﬀraction pattern has no zeros. It simply consists of one bump that\\nis maximum at θ= 0 and decreases as θ→π/2. It actually does approach zero in this limit\\n(assuming we have a ﬂat screen and not a cylindrical one) because of the B(θ) factor in Eq.\\n(34). θ→π/2 corresponds to points on the screen that are very far from the slit, so the\\namplitude of all the waves is essentially zero.\\nIn the limit a≪λ, all of the waves from the diﬀerent points in the slit are essentially in\\nphase for any angle θ. Interference eﬀects therefore don’t come into play, so the slit behaves\\nessentially like a point (or rather a line) source. The only θdependence in the diﬀraction\\npattern comes from the B(θ) factor. If we have a cylindrical screen, then we don’t even\\nhave this factor, so the diﬀraction pattern is constant. If we have a ﬂat screen and deal\\nonly with small angles (for which B(θ)≈B(0)), then the diﬀraction pattern is constant', metadata={'source': 'books/interference.pdf', 'page': 17}),\n",
              " Document(page_content='9.3. DIFFRACTION FROM A WIDE SLIT 19\\nthere, too. Since we generally deal with small angles, it is customary to say that a≪λ\\nleads to a constant diﬀraction pattern. We now see what we meant by “narrow slits” or\\n“inﬁnitesimal slits” in Sections 9.1 and 9.2. We meant that a≪λ. This allowed us to\\nignore any nontrivial diﬀraction eﬀects from the individual slits.\\nIf we have the other extreme where a≫λ, then even the slightest tilt of the beam will\\nlead to a pathlength diﬀerence of λbetween the paths associated with the two ends of the\\nslit. This corresponds to the ﬁrst zero at β= 2π. So the diﬀraction pattern is very narrow in\\nan angular sense. In the far-ﬁeld limit, the distances on the screen arising from the angular\\nspread (which take the rough form of Dθ) completely dominate the initial spread of the\\nbeam due to the thickness aof the slit. So as long as Dis very large, increasing the value\\nofawilldecrease the size of the bright spot in the screen. If the screen were right next to\\nthe slit, then increasing awould of course increase the size of the spot. But we’re working\\nin the far-ﬁeld limit here, where the angular spread is all that matters.\\nLet’s now do two examples that illustrate various aspects of diﬀraction. For both of\\nthese examples, we’ll need to use the diﬀraction pattern from a wide slit, but with it not\\nnormalized to the value at θ= 0. Conveniently, this is the result we found in Eq. (35),\\nwhich we’ll write in the form,\\nAtot(θ) =B(0)·sin(1\\n2kasinθ)\\n1\\n2ksinθ=⇒Atot(θ)∝sin(1\\n2kasinθ)\\n1\\n2ksinθ. (38)\\nTheB(0) term (which is simply a measure of how bright the light is as it impinges on the\\nslit) will cancel out in these two examples, so all that matters is the second proportionality\\nrelation in Eq. (38). The intensity is then\\nItot(θ)∝(\\nsin(1\\n2kasinθ)\\n1\\n2ksinθ)2\\n. (39)\\nExample (Four times the light?): If we let θ= 0 in Eq. (39), and if we make the usual\\nsinϵ≈ϵapproximation, we see that Itot(0)∝a2. This means that if we double a, then Itot(0)\\nincreases by a factor of 4. Intensity equals energy per unit time per unit area, so 4 times as\\nmuch energy is now hitting a given tiny region around θ= 0. Does this makes sense? Does\\nit mean that if we double the width of the slit, then 4 times as much light makes it through?\\nSolution: The answers to the above two questions are yes and no, respectively. The answer\\nto the second one had better be no, because otherwise energy would be created out of nowhere.\\nIf we double the width of the slit, then our intuition is entirely correct: twice as much light\\nmakes it through, not 4 times as much. The reason why the 4-fold increase in Itot(0) doesn’t\\nimply that 4 times as much light makes it through is the following.\\nThe critical point is that although the intensity goes up by a factor of 4 at θ= 0, the\\ndiﬀraction pattern gets thinner . So the range of θvales that have a signiﬁcant intensity\\ndecreases. It turns out that the combination of theses eﬀects leads to just a factor of 2 in\\nthe end. This is quite believable, and we can prove it quantitatively as follows. We’ll assume\\nthat the bulk of the diﬀraction pattern is contained in the region where θis small. For the\\ngeneral case without this assumption, see Problem [to be added].\\nIfθis small, then we can use sin θ≈θin Eq. (39) to write5\\nItot(θ)∝(\\nsin(1\\n2kaθ)\\n1\\n2kθ)2\\n. (40)\\n5Note that even though we’re assuming that θis small, we cannot assume that kaθ/2 is small and thereby\\nmake another sin ϵ≈ϵapproximation in the numerator. This is because kmay be large, or more precisely\\nλmay be much smaller than a.', metadata={'source': 'books/interference.pdf', 'page': 18}),\n",
              " Document(page_content='20 CHAPTER 9. INTERFERENCE AND DIFFRACTION\\nThe larger ais, the quicker sin( kaθ/2) runs through its cycles. In particular, the ﬁrst zero\\n(which gives the “width” of the diﬀraction pattern) occurs at θ= 2π/ka . This is proportional\\nto 1/a, so increasing aby a general factor fshrinks the pattern by a factor fin the horizontal\\ndirection. And since we saw above that Itot(0)∝a2, increasing aby a factor fexpands the\\npattern by a factor of f2in the vertical direction. The combination of these two eﬀects makes\\nthe total area under the curve (which is the total intensity) increase by a factor f2/f=f.\\nThis is consistent with the fact that ftimes as much light makes it through the widened slit\\nof width fa, as desired. This reasoning is summarized in Fig. 29 for the case where f= 2\\nθ\\n2π\\nka__ 2π\\nk(2a)____I(θ)\\nslit width  = 2a\\nslit width  = aratio of\\nheights  = 4\\nratio of\\nwidths  = 1/2\\nFigure 29(with arbitrary units on the vertical axis).\\nRemarks: The main point here is that intensity equals energy per unit time per unit area . So we\\ncan’t conclude anything by using only the fact that Itotincreases by a factor of f2at the speciﬁc\\npoint θ= 0. We need to integrate over all θvalues on the screen (and then technically multiply\\nby some length in the direction perpendicular to the page to obtain an actual area, but this isn’t\\nimportant for the present discussion). From Fig. 29, the curve as a whole is most certainly notsimply\\nscaled up by a factor f2.\\nThere are two issues we glossed over in the above solution. First, in ﬁnding the area under the\\nintensity curve, the integral should be done over the position xalong the screen, and not over θ. But\\nsince xis given by Dtanθ≈Dθfor small θ, the integral over xis the same (up to the constant factor\\nD) as the integral over θ. Second, we actually showed only that Itot(θ) increases by a factor of f2\\nright at the origin. What happens at other corresponding points isn’t as obvious. If you want to be\\nmore rigorous about the integral∫\\nItot(θ)dθ, you can let a→fain Eq. (40), and then make the\\nchange of variables θ′≡fθ. The integral will pick up a factor of f2/f=f. But having said this, you\\ncan do things completely rigorously, with no approximations, in Problem [to be added]. ♣\\nExample (Increasing or decreasing intensity?): Given a slit with width a, consider the\\nintensity at a particular point on the screen that is a reasonable distance oﬀ to the side. (By\\nthis we mean that the distance is large compared with the width λ/aof the central bump.) If\\nwe make alarger, will the intensity increase or decrease at the point? By intensity here, we\\nmean the average intensity in a small region, so that we take the average over a few bumps\\nin the diﬀraction pattern.\\nOn one hand, increasing awill allow more light through the slit, so the intensity should\\nincrease. But on the other hand, increasing awill make the diﬀraction pattern narrower, so\\nthe intensity should decrease. Which eﬀect wins?\\nSolution: It turns out that these two eﬀects exactly cancel, for the following reason. If we\\ntake the average over a few oscillations of the Itot(θ) function in Eq. (40), the sin2(kaθ/2)\\nterm averages to 1 /2 (we can ignore the variation of the denominator over a few oscillations\\nof the sine term). So the average value of Itot(θ) in a small region near a given value of θis\\nItot,avg(θ)∝2/(k2θ2). This is independent of a. So the intensity at the given point doesn’t\\nchange as we widen the slit. In short, the envelope of the wiggles in the diﬀraction pattern\\nbehaves like a 1 /θ2function, and this is independent of a. Fig. 30 shows the diﬀraction\\nθθI(θ)\\nI(θ)(a = 20λ)\\n(a = 50λ)\\n0.0 0.1 0.2 0.3 0.40.0 0.1 0.2 0.3 0.4\\nFigure 30patterns for a= 20λanda= 50λ. The envelope is the same for each.\\n9.3.3 Relation to the Fourier transform\\nIf the sin(1\\n2kasinθ)\\n/1\\n2kasinθfunction in Eq. (31) looks familiar to you, it’s because this\\nfunction is basically (up to an overall constant) the Fourier transform of the square-wave\\nfunction shown in Fig. 31. We discussed this function in Chapter 3, but let’s derive the\\nxA\\na/2-a/2\\nFigure 31transform again here since it’s quick. If we let the argument of the Fourier transform be\\nksinθinstead of the usual k(we’re free to pick it to be whatever we want; if you wish, you', metadata={'source': 'books/interference.pdf', 'page': 19}),\n",
              " Document(page_content='9.3. DIFFRACTION FROM A WIDE SLIT 21\\ncan deﬁne k′≡ksinθand work in terms of k′), then Eq. (3.43) gives\\nC(ksinθ) =1\\n2π∫∞\\n−∞f(x)e−i(ksinθ)xdx\\n=1\\n2π∫a/2\\n−a/2Ae−ikxsinθdx\\n=A\\n2πe−i(kasinθ)/2−ei(kasinθ)/2\\n−iksinθ\\n=A\\n2π−2isin(1\\n2kasinθ)\\n−iksinθ\\n=aA\\n2πsin(1\\n2kasinθ)\\n1\\n2kasinθ. (41)\\nSo in view of Eq. (31), the intensity on the screen is (up to an overall constant) the square\\nof the Fourier transform of the slit. This might seem like a random coincidence, but there’s\\nactually a good reason or it: In Eq. (35) we saw that the amplitude of the diﬀraction pattern\\nwas obtained by integrating up a bunch of e−ikysinθphases. But this is exactly the same\\nthing we do when we compute a Fourier transform. So that’s the reason, and that’s pretty\\nmuch all there is to it.\\nMore generally, instead of a slit we can have a wall with transmittivity T(y).T(y) gives\\nthe fraction (compared with no wall) of the amplitude coming through the wall at position\\ny. For example, a normal slit has T(y) = 1 inside the slit and T(y) = 0 outside the slit. But\\nyou can imagine having a partially opaque wall where T(y) takes on values between 0 and\\n1 in various regions. In terms of T(y), the total wave at an angle θon the screen is given\\nby Eq. (35), but with the extra factor of T(y) in the integrand:\\nEtot(θ) =B(0)∫∞\\n−∞T(y)e−ikysinθdy. (42)\\nNote that the integral now runs from −∞to∞, although there may very well be only a ﬁnite\\nregion where T(y) is nonzero. Up to an overall constant, the result of this integral is simply\\n˜T(ksinθ), where ˜Tdenotes the Fourier transform of T(y). So the diﬀraction pattern is the\\n(absolute value of the square of the) Fourier transform of the transmittivity function. (We’re\\nassuming that the region of nonzero T(y) is small compared with the distance to the screen,\\nso that we can use the standard far-ﬁeld approximation that all the paths from the diﬀerent\\npoints in the “slit” to a given point on the screen have equal lengths (multiplicatively).)\\nRecall the uncertainty principle from Problem [to be added] in Chapter 3, which stated\\nthat the thinner a function f(x) is, the broader the Fourier transform ˜f(k) is, and vice\\nversa. The present result (that the diﬀraction pattern is the square of the Fourier transform\\nof the slit) is consistent with this. A narrow slit gives a wide diﬀraction pattern, and a wide\\nslit gives a narrow (in an angular sense) pattern.\\nThere are two ways of deﬁning the Fourier transform. The deﬁnition we used above is\\nthe statement in the second equation in Eq. (3.43): The Fourier transform is the result of\\nmultiplying each f(x) value by a phase e−ikxand then integrating. This makes it clear\\nwhy the diﬀraction pattern is the Fourier transform of the transmittivity function, because\\nthe diﬀraction pattern is the result of attaching an extra phase of e−ikysinθto the Huygens\\nwavelets coming from each point in the slit.\\nThe other deﬁnition of the Fourier transform comes from the ﬁrst equation in Eq. (3.43):\\nThe Fourier transform gives a measure of how much the function f(x) is made up of the\\nfunction eikx. (This holds in a simpler discrete manner in the case of a Fourier series for', metadata={'source': 'books/interference.pdf', 'page': 20}),\n",
              " Document(page_content='22 CHAPTER 9. INTERFERENCE AND DIFFRACTION\\na periodic function.) Does this interpretation of the Fourier transform have an analog in\\nthe diﬀraction setup? That is, does the diﬀraction pattern somehow give a measure of how\\nmuch the transmittivity function is made up of the function eikysinθ? Indeed it does, for\\nthe following reason.\\nWe’ll be qualitative here, but this should suﬃce to illustrate the general idea. Let’s\\nassume that we observe a large amplitude in the diﬀraction pattern at an angle θ. This means\\nthat the wavelets from the various points in the slit generally constructively interfere at the\\nangle θ. From Fig. 32, we see that the transmittivity function must have a large component\\nto screen \\nfar away\\nθθsinθλ\\nλ___\\nsinθλ___\\nsinθλ___\\nsinθλ___\\nFigure 32with spatial period λ/sinθ. This means that the spatial frequency of the transmittivity\\nfunction is κ= 2π/(λ/sinθ) = (2 π/λ) sinθ=ksinθ, where kis the spatial frequency of\\nthe light wave. In other words, a large amplitude at angle θmeans that T(y) has a large\\ncomponent with spatial frequency ksinθ. The larger the amplitude at angle θ, the larger the\\ncomponent of T(y) with spatial frequency ksinθ. But this is exactly the property that the\\nFourier transform of T(y) has: The larger the value of ˜T(ksinθ), the larger the component\\nofT(y) with spatial frequency ksinθ. So this makes it believable that the amplitude of the\\ndiﬀraction pattern equals the Fourier transform of T(y), with ksinθin place of the usual k.\\nThe actual proof of this fact is basically the statement in Eq. (42).\\n9.4 Combined Interference and diﬀraction\\nSo far we’ve dealt with either Ninﬁnitesimally thin slits, or one wide slit. We’ll now combine\\nthese two setups and consider Nwide slits. Let the slits have width a, and let the spatial\\nperiod be d(this is the distance between, say, two adjacent bottom ends). Fig. 33 shows\\nthe case with N= 3 and d= 3a. We’ll continue to work in the far-ﬁeld limit.\\nwall screen\\nP\\ndy\\nar0\\nDθ(close-up view) (zoomed-out view)\\nlight\\nFigure 33\\nWhat is the amplitude of the wave at an angle θon a distant screen? To answer this,\\nwe can use the reasoning in the “Continuous integral” derivation of the one-wide-slit result\\nin Section 9.3.1. Let r0be the pathlength from the bottom of the bottom slit, as shown\\nin Fig. 33. Deﬁne yto be the distance from the bottom of the bottom slit up to a given\\nlocation in a slit. Then the relevant yvalues are from 0 to afor the bottom slit, then dto\\nd+afor the next slit, and so on.\\nThe integral that gives the total wave from the bottom slit is simply the integral in Eq.\\n(34), but with the integration now running from 0 to a. (We technically need to multiply\\nby the phase ei(kr0−ωt), but this phase is tacked on uniformly to all the slits, so it doesn’t\\naﬀect the overall amplitude.) The integral that gives the total wave from the second slit\\nis again the same, except with the integration running from dtod+a. And so on, up to', metadata={'source': 'books/interference.pdf', 'page': 21}),\n",
              " Document(page_content='9.4. COMBINED INTERFERENCE AND DIFFRACTION 23\\nlimits of ( N−1)dand ( N−1)d+afor the top slit. So the total wave at angle θfrom all\\nthe slits is (as usual, we’ll approximate the B(θ) in Eq. (34) by B(0))\\nEtot(θ) =B(0)(∫a\\n0e−ikysinθdy+∫d+a\\nde−ikysinθdy+···+∫(N−1)d+a\\n(N−1)de−ikysinθdy)\\n.\\n(43)\\nThe second integral here is simply e−ikdsinθtimes the ﬁrst integral, because the yvalues\\nare just shifted by a distance d. Likewise, the third integral is e−2ikdsinθtimes the ﬁrst.\\nLetting z≡e−ikdsinθ, we therefore have\\nEtot(θ) =B(0)(∫a\\n0e−ikysinθdy)(\\n1 +z+z2+···+zN−1)\\n. (44)\\nShifting the limits of this integral by −a/2 (which only introduces a phase, which doesn’t\\naﬀect the amplitude) puts it in the form of Eq. (34). So we can simply copy the result in\\nEq. (35). (Or you can just compute the integral with the 0 and alimits.) And the geometric\\nseries is the same one we calculated in Eq. (12), so we can copy that result too. (Our zhere\\nis the complex conjugate of the zin Eq. (12), but that will only bring in an overall minus\\nsign in the ﬁnal result, which doesn’t aﬀect the amplitude.) So the total amplitude at angle\\nθis\\nAtot(θ) =B(0)a·sin(1\\n2kasinθ)\\n1\\n2kasinθ·sin(1\\n2Nkd sinθ)\\nsin(1\\n2kdsinθ). (45)\\nTaking the usual limit as θ→0, the value of the amplitude at θ= 0 is B(0)aN. The\\nintensity relative to θ= 0 is therefore\\nItot(θ)\\nItot(0)=(\\nsin(1\\n2kasinθ)\\n1\\n2kasinθ·sin(1\\n2Nkd sinθ)\\nNsin(1\\n2kdsinθ))2\\n(46)\\nThis result really couldn’t have come out any nicer. It is simply the product of the\\nresults for the two separate cases we’ve discussed. The ﬁrst quotient is the one-wide-slit\\ndiﬀraction result, and the second quotient is the N-thin-slit interference result. Note that\\nsince Nd > a (because d > a ), the second quotient oscillates faster than the ﬁrst. You can\\ntherefore think of this result as the N-thin-slit interference result modulated by (that is,\\nwith an envelope of) the one-wide-slit diﬀraction result.\\nIn retrospect, it makes sense that we obtained the product of the two earlier results. At\\na given value of θ, we can think of the setup as just N-thin-slit interference, but where the\\namplitude from each slit is decreased by the one-wide-slit diﬀraction result. This is clear if\\nwe rearrange Eq. (45) and write it as (we’ll switch the B(0) back to B(θ))\\nAtot(θ) =(\\nB(θ)asin(1\\n2kasinθ)\\n1\\n2kasinθ)\\n·sin(1\\n2Nkd sinθ)\\nsin(1\\n2kdsinθ). (47)\\nThis is the N-thin-slit result, with B(θ)a(which equals the A(θ) in Eq. (14)) replaced by\\nB(θ)a·sin(1\\n2kasinθ)/1\\n2kasinθ. Basically, at a given θ, you can’t tell the diﬀerence between\\na wide slit, and an inﬁnitesimal slit with an appropriate amount of light coming through.\\nFig. 34 shows the interference/diﬀraction pattern for N= 4 and for various slit widths\\na, given the spatial period d. The coordinate on the horizontal axis is α≡kdsinθ. The\\na≈0 plot is exactly the same as the thin-slit plot in Fig. 11, as it should be. As the width\\naincreases, the envelope becomes narrower. Recall from Eq. (36) that the width of the\\none-wide-slit diﬀraction pattern is inversely proportional to a.', metadata={'source': 'books/interference.pdf', 'page': 22}),\n",
              " Document(page_content='24 CHAPTER 9. INTERFERENCE AND DIFFRACTION\\nI(α)/I(0)\\n(Plots for N = 4)2ππ πα\\n_\\n23π__\\n2\\n0.20.40.60.81.0\\n0.20.40.60.81.00.20.40.60.81.0\\n0.20.40.60.81.0\\n0.20.40.60.81.0(a       0) (a = d/4) (a = d/2)\\n(a = 3d/4) (a = d)\\nFigure 34\\nWhen aﬁnally reaches the value of din the last plot, the four slits blend together, and\\nwe simply have one slit with width 4 a. (It doesn’t make any sense to talk about avalues\\nthat are larger than d.) And the a=dplot is indeed the plot for a single wide slit with\\nwidth 4 a. The only diﬀerence between it and the envelope (which comes from a slit width\\na) is that it is squashed by a factor of 4 in the horizontal direction. It turns out that in\\nthea=dcase, the zeros of the envelope fall exactly where the main peaks would be if the\\nenvelope weren’t there (see the a≈0 case). This follows from the fact that the zeros of the\\ndiﬀraction envelope occur when β≡kasinθequals 2 π, while the main peaks of the N-slit\\ninterference pattern occur when α≡kdsinθequals 2 π. So if a=d, these occur at the same\\nlocations.\\n9.5 Near-ﬁeld diﬀraction\\n9.5.1 Derivation\\nEverything we’ve done so far in this chapter has been concerned with the far-ﬁeld approx-\\nimation (the so-called Fraunhofer approximation). We have assumed that the distance to\\nthe screen is large compared with the span of the slit(s). As discussed in Section 9.1, this\\nassumption leads to two facts:\\n•The pathlengths from the various points in the slit(s) to a given point on the screen\\nare all essentially equal in a multiplicative sense. This implies that the amplitudes of\\nall the various wavelets are equal. In other words, we can ignore the 1 /√rdependence\\nin the individual amplitudes of the cylindrically-propagating Huygens wavelets.\\n•The paths from the various points in the slit(s) to a given point on the screen are all\\nessentially parallel. This implies that the additive diﬀerence between adjacent path-\\nlengths equals dsinθ(ordysinθin the continuous case). The pathlengths therefore\\ntake the nice general form of r0+ndsinθ(orr0+ysinθ), and the phases are easy to\\nget a handle on.\\nIn the ﬁrst of these points, note that we’re talking about the various distances from a\\nparticular point on the screen to all the diﬀerent points in the slit(s) . We are nottalking\\nabout the various distances from a particular point in the slit(s) to all the diﬀerent points', metadata={'source': 'books/interference.pdf', 'page': 23}),\n",
              " Document(page_content='9.5. NEAR-FIELD DIFFRACTION 25\\non the screen. These distances certainly aren’t equal; the fact that they aren’t equal is what\\nbrought in the factor of A(θ) in, say, Eq. (4) or Eq. (14). But this lack of equality is ﬁne;\\nit simply leads to an overall envelope of the interference curve. The relevant fact in the\\nfar-ﬁeld approximation is that the various distances from a particular point on the screen\\nto all the diﬀerent points in the slit(s) are essentially equal. This lets us associate all the\\ndiﬀerent wavelets (at a given point on the screen) with a single value of A(θ), whatever that\\nvalue may be.\\nWe’ll now switch gears and discuss the near-ﬁeld approximation (the so-called Fresnel\\napproximation). That is, we will notassume that the distance to the screen is large compared\\nwith the span of the slit(s). The above two points are now invalid. To be explicit, in the\\nnear-ﬁeld case:\\n•We cannot say that the pathlengths from the various points in the slit(s) to a given\\npoint on the screen are all equal in a multiplicative sense. We will need to take into\\naccount the 1 /√rdependence in the amplitudes.\\n•We cannot say that the pathlengths take the nice form of r0+ndsinθ(orr0+ysinθ).\\nWe will have to calculate the lengths explicitly as a function of the position in the\\nslit(s).\\nThe bad news is that all of the previous results in this chapter are now invalid. But\\nthe good news is that they’re close to being correct. The strategy for the near-ﬁeld case\\nis basically the same as for the far-ﬁeld case, as long as we incorporate the changes in the\\nabove two points.\\nThe procedure is best described by an example. We’ll look at a continuous case involv-\\ning diﬀraction from a wide slit, but we could of course have a near-ﬁeld setup involving\\ninterference from Nnarrow slits, or a combination of interference and diﬀraction from N\\nwide slits.\\nOur wide slit will actually be an inﬁnite slit. Our goal will be to ﬁnd the intensity at\\nthe point Pdirectly across from the top of a “half-wall” (see Fig. 35). Since our slit is\\nscreen\\nP\\nDy\\nFigure 35inﬁnitely large, we’re automatically in the near-ﬁeld case, because it is impossible for the\\nwall-screen distance Dto be much greater than the slit width a, since a=∞. The various\\npathlengths (which are inﬁnite in number) to the given point Pfrom all of the possible points\\nin the slit (three of these paths are indicated by dotted lines in Fig. 35) certainly cannot\\nbe approximated as having the same length. These paths have lengths r(y) =√\\nD2+y2,\\nwhere yis measured from the top of the wall. If we instead had an inﬁnite number of thin\\nslits extending upward with separation d, the pathlengths would be rn=√\\nD2+ (nd)2.\\nSince the amplitudes of the various cylindrically-propagating wavelets are proportional\\nto 1/√r, we need to tack on a factor of 1 /√\\nr(y) in front of each wavelet. More precisely,\\nletB0dybe the amplitude of the wave that would hit point Pdue to an inﬁnitesimal span\\ndyin the slit at y= 0, if the distance Dwere equal to 1 (in whatever units we’re using).6\\nThen B0dy/√\\nr(y) is the amplitude of the wave that hits point Pdue to a span dyin the\\nslit at height y. The length r(y) depends on where the screen is located (which gives D),\\nand also on the height y.\\nAs far as the phases go, the phase of the wavelet coming from a height yin the slit is\\neikr(y), neglecting the e−iωtphase and an overall phase associated with the y= 0 path.\\nUsing these facts about the amplitude and phase of the wavelets, we can integrate over\\nthe entire (inﬁnite) slit to ﬁnd the total wave at the point Pdirectly across from the top\\n6B0is slightly diﬀerent from the B(0) in Eq. (35), because we didn’t take into account the distance to\\nthe screen there. We assumed the position was ﬁxed. But we want to be able to move the screen in the\\npresent setup and get a handle on how this aﬀects things.', metadata={'source': 'books/interference.pdf', 'page': 24}),\n",
              " Document(page_content='26 CHAPTER 9. INTERFERENCE AND DIFFRACTION\\nof the wall. The integral is similar to Eq. (34). But with the modiﬁed amplitude, the more\\ncomplicated phase, and the new limits of integration, we now have\\nEtot(P) =∫∞\\n0B0dy√\\nr(y)eikr(y)=∫∞\\n0B0dy\\n(D2+y2)1/4eik√\\nD2+y2. (48)\\nThis integral must be computed numerically, but we can get a sense of what’s going on if\\nwe draw a picture similar to the far-ﬁeld case in Fig. 14. In that ﬁgure we had little vectors\\nofequal length wrapping around in a circle, with successive vectors always making the same\\nangle with respect to each other. In the present near-ﬁeld case, these two italicized words\\nare modiﬁed for the following reasons.\\nLet’s imagine discretizing the slit into equal dyintervals. Then as yincreases, the\\nlengths of the little vectors decrease due to the ( D2+y2)1/4factor in the denominator in\\nEq. (48). Also, the phase doesn’t increase at a constant rate. For small y, the phase hardly\\nchanges at all, because the derivative of the√\\nD2+y2term in the exponent is zero at\\ny= 0. But for large y, the rate of change of the phase approaches a constant, because the\\nderivative of√\\nD2+y2equals 1 for y≫D. So as yincreases, the angle between successive\\nvectors increases and asymptotically approaches a particular value. Both of these eﬀects\\n(the shortening lengths and the increasing rate of change of the phase) have the eﬀect of\\ndecreasing the radius of curvature of the circle that is being wrapped around. In other\\nwords, the “circles” get tighter and tighter, and instead of a circle we end up with a spiral,\\nas shown in Fig. 36 (we’ve arbitrarily chosen λ=Dhere).\\nλ = D,  ∆y = (0.1) D\\nλ = D,  ∆y    0 \\nFigure 36In the ﬁrst spiral in Fig. 36, we have discretized the integral in Eq. (48) by doing a\\ndiscrete sum over intervals with length ∆ y= (0.1)Din the slit. You can see that the little\\nvectors get smaller as they wrap around.7And you can also see that the angle between them\\nstarts oﬀ near zero and then increases. The second spiral shows the continuous limit where\\n∆y≈0. So this corresponds to the actual integral in Eq. (48). In reality, this plot was\\ngenerated by doing a discrete sum with ∆ y= (0.01)D. But the little vectors are too small\\nto see, so the spiral is essentially continuous. So neither of these spirals actually corresponds\\nto the continuous integral in Eq. (48). But the second one is a very good approximation. If\\nyou look closely, you can see that the slope of the straight line in the ﬁrst spiral is slightly\\ndiﬀerent from the slope in the second.\\nWe haven’t drawn the axes in these plots, because the absolute size of the resulting\\namplitude isn’t so important. We’re generally concerned with how large the amplitude is\\nrelative to a particular case. The most reasonable case to compare all others to is the one\\nwhere there is no wall at all (so the slit extends from y=−∞ toy=∞). We’ll talk\\nabout this below. But if you’re curious about the rough size of the spiral, the horizontal\\nand vertical spans (for the case in Fig. 36 where λ=D) are around (0 .5)B0.\\nThis spiral is known as the Cornu spiral ,8or the Euler spiral . In the present case where\\nthe upper limit on yis inﬁnity, the spiral keeps wrapping around indeﬁnitely (even though\\nwe stopped drawing it after a certain point in Fig. 36). The radius gets smaller and smaller,\\nand the spiral approaches a deﬁnite point. This point is the sum of the inﬁnite number\\nof tiny vectors. The desired amplitude of the wave at Pis the distance from the origin to\\nthis point, as indicated by the straight line in the ﬁgure. As usual, the whole ﬁgure rotates\\naround in the plane with frequency ωas time progresses. The horizontal component of the\\nstraight line is the actual value of the wave.\\n7We’ve stopped drawing the vectors after a certain point, but they do spiral inward all the way to the\\ncenter of the white circle you see in the ﬁgure. If we kept drawing them, they would end up forming a black\\nblob where the white circle presently is.\\n8Technically, this name is reserved for the simpler approximate spiral we’ll discuss in Section 9.5.3. But\\nwe’ll still use the name here.', metadata={'source': 'books/interference.pdf', 'page': 25}),\n",
              " Document(page_content='9.5. NEAR-FIELD DIFFRACTION 27\\nThe shape of the spiral depends on the relative size of λandD. If we deﬁne the\\ndimensionless quantity zbyy≡zD, then Eq. (48) can be written as (using k= 2π/λand\\ndy=D dz)\\nEtot(P) =∫∞\\n0B0√\\nD dz\\n(1 +z2)1/4e2iπ(D/λ)√\\n1+z2. (49)\\nFor a given value of D/λ, the factor of√\\nDin the numerator simply scales the whole spiral,\\nso it doesn’t aﬀect the overall shape. However, the factor of D/λ in the exponent does aﬀect\\nthe shape, but it turns out that the dependence is fairly weak. If we instead had spherically\\npropagating waves with ( D2+y2)1/2instead of ( D2+y2)1/4in the denominator of Eq. (48),\\nthen there would be a noticeable dependence on D/λ, especially for large λ.\\n9.5.2 Changing the slit\\nWhat happens if instead of extending to inﬁnity, the slit runs from y= 0 up to a ﬁnite value\\nymax? The only change in Eq. (48) is that the upper limit is now ymax. The integrand is\\nexactly the same. So Eqs. (48) and (49) become\\nEtot(P) =∫ymax\\n0B0dy\\n(D2+y2)1/4eik√\\nD2+y2=∫zmax\\n0B0√\\nD dz\\n(1 +z2)1/4e2iπ(D/λ)√\\n1+z2.(50)\\nIn terms of Fig. 36 (we’ll again assume λ=D), we now only march along the spiral until we\\nget to the little vector associated with ymax, the location of which can be found numerically.\\n(We know r(ymax), so we know the relative phase, so we know the angle (slope) of the spiral\\nat the stopping point.) The amplitude is then the length of the line from the origin to the\\nstopping point. A few cases are shown in Fig. 37.\\nymax  = D/2ymax  = D y max  =      D y max  = 3D(λ = D in all cases)\\n3\\nFigure 37\\nThey=√\\n3Dcase is an interesting one because it yields a pathlength of√\\nD2+y2=\\n2D, which equals 2 λsince we’re assuming λ=D. This pathlength is therefore λmore than\\nthe pathlength associated with y= 0. So the wavelet from y=√\\n3Dis in phase with the\\nwavelet from y= 0. And this is exactly what we observe in the ﬁgure; the slope of the\\nspiral at the y=√\\n3Dpoint equals the slope at the start (both slopes equal zero). A few\\nother values of ythat yield pathlengths that are integral multiples of λare shown in Fig. 38,\\nPD\\nD2D3D4D5D\\n(λ = D)2λ3λ4λ5λFigure 38\\nand the corresponding points in the Cornu spiral are shown in Fig. 39 (eventually the points\\n(λ = D)pathlength = λ, 2λ, 3λ\\nFigure 39blend together). The spiral also has zero slope at the top of the “circles” in the spiral. These\\npoints correspond to pathlengths of 3 λ/2, 5λ/2, 7λ/2, etc. (The λ/2 is missing here because\\nall the pathlengths are at least D=λ.) But the associated little vectors in the spiral now\\npoint to the left, because the wavelets are exactly out of phase with the wavelet from y= 0\\n(which we deﬁned as pointing to the right).', metadata={'source': 'books/interference.pdf', 'page': 26}),\n",
              " Document(page_content='28 CHAPTER 9. INTERFERENCE AND DIFFRACTION\\nRemarks:\\n1. Note that the distance between the ﬁrst two dots along the spiral in Fig. 39 is large, and\\nthen it decreases as we march along the spiral. There are two reasons for this. First, there is\\na large span of yvalues (from zero up to y=√\\n3D) that corresponds to the region between\\nthe ﬁrst two dots on the spiral. This span then gets smaller as yincreases, and it eventually\\napproaches the wavelength λ(which we’ve chosen to equal D). Second, the amplitudes of\\nthe wavelets get smaller as yincreases (because the amplitude is proportional to 1 /√r), so\\nthe little vectors that make up the spiral get shorter as we spiral inward.\\n2. From Fig. 37, we see that the largest amplitude occurs for a ymaxthat is somewhere around\\nD. It happens to occur at ymax≈(0.935)D. Ifymaxis increased above this value, then\\napparently the upside of having more light coming through the slit is more than canceled out\\nby the downside of this extra light canceling (due to the relation of the phases) some of the\\nlight that was already there. At any local max or min of the amplitude, the line representing\\nthe amplitude is perpendicular to the tangent to the spiral.\\n3. A plot of the amplitude, A(P) (in units of B0√\\nD), as a function of ymaxis shown in Fig. 40.\\nA(P)/B0\\nymax____\\nDD\\n0 2 4 6 8 100.00.10.20.30.40.50.60.7Figure 40\\nAs the spiral circles around and around, the amplitude oscillates up and down. Since the\\ncircles keep getting smaller, the bumps in Fig. 40 likewise keep getting smaller. The plot\\noscillates around a value that happens to be about 0 .5. This is the amplitude associated with\\nymax=∞. For large ymax, the period of the oscillations is essentially λ. This follows from\\nthe fact that as we noted in Fig. 38, if yincreases by λ(which corresponds to a full circle\\nin the spiral), then the pathlength essentially does also, if the path is roughly parallel to the\\nwall. A plot of the intensity (which is proportional to the amplitude squared) is shown in\\nFig. 41, with arbitrary units on the vertical axis. ♣\\nI(P)\\nymax____\\nD 0 2 4 6 8 100.00.10.20.30.40.5Figure 41\\nWhat happens if we put the upper limit ymaxback at inﬁnity, but now move the top of\\nthe wall (the bottom of the slit) downward, so that yruns from some negative value, ymin,\\nto inﬁnity? (The point in question on the screen is still the point Pdirectly across from\\ny= 0.) To answer this, let’s ﬁrst consider the case where we move the top of the wall all\\nthe way down to y=−∞. So we have no wall at all. We claim that the total amplitude at\\npoint Pis given by the length of the diagonal line in Fig. 42. This is believable, of course,\\n(λ = D)ymax  =8\\nymin  = -8Figure 42\\nbecause the length of this line is twice the length of the line in Fig. 36 for the case where\\nthe “slit” was half as large. But to be rigorous, you can think of things in the following way.\\nIn Fig. 36 imagine starting at y= +∞and decreasing down to y= 0. This corresponds\\nto starting in the middle of the spiral and “unwrapping” clockwise around it until you reach\\nthe origin. The clockwise nature is consistent with the fact that the phase decreases as\\nydecreases (because the pathlength decreases), and we always take positive phase to be\\ncounterclockwise. If you then want to keep going to negative values of y, you simply have to\\nkeep adding on the little vectors. But now the phase is increasing , because the pathlength is\\nincreasing. So the spiral wraps around counterclockwise . This is indeed what is happening\\nin Fig. 42. (The spiral for the y <0 region has to have the same shape as the spiral for the\\ny >0 region, of course, due to symmetry. The only question is how it is oriented.)\\nIf we want the slit to go down to a ﬁnite value of yinstead of y=−∞, then we simply\\nneed to stop marching along the spiral at the corresponding point. For example, if the wall\\ngoes down to y=−2D, then the amplitude is given by the diagonal line in Fig. 43.\\n(λ = D)ymax  =8\\nymin  = -2DFigure 43\\nMore generally, if we want to ﬁnd the amplitude (still at the point Pdirectly across from\\ny= 0) due to a slit that goes from a ﬁnite yminto a ﬁnite ymax, then we just need to ﬁnd\\nthe corresponding points on the spiral and draw the line between them. For example, if a\\nslit goes from y=−2Dtoy= 3D, then the amplitude is given by the length of the diagonal\\nline in Fig. 44. In the event that yminandymaxare both positive (or both negative), the\\n(λ = D)ymax  = 3D\\nymin  = -2D\\nFigure 44diagonal line is contained within the upper right (or lower left) half of the full Cornu spiral\\nin Fig. 42. An example of this will come up in Section 9.5.5.', metadata={'source': 'books/interference.pdf', 'page': 27}),\n",
              " Document(page_content='9.5. NEAR-FIELD DIFFRACTION 29\\nRemarks:\\n1. Note that in Fig. 44 the slope of the little vector at y=−2Dis nonzero. This is because\\nwe’re still measuring all the phases relative to the phase of the wavelet at y= 0. If you want,\\nyou can measure all the phases relative to the phase at y=−2D(or any other point). But\\nonly the relative phases matter, so this just rotates the whole ﬁgure, leaving the length of\\nthe diagonal line (the amplitude) unchanged. (The whole ﬁgure rotates around in the plane\\nanyway as time goes on, due to the ωtterm in the phase, which we’ve been ignoring since\\nwe only care about the amplitude.) By convention, it is customary to draw things as we’ve\\ndone in Fig. 42, with a slope of zero at the middle of the complete spiral.\\n2. In a realistic situation, the slit location is ﬁxed, and we’re concerned with the intensity at\\nvarious points Pon the screen. But instead of varying P, you can consider the equivalent\\nsituation where Pis ﬁxed (and deﬁned to be across from y= 0), and where the slit is moved.\\nThis simply involves changing the values of yminandymax, or equivalently the endpoints\\nof the diagonal line on the Cornu spiral representing the amplitude. So the above analysis\\nactually gives the wave at any point Pon the screen, not just the point across from y= 0.\\n3. In the earlier far-ﬁeld case of interference and diﬀraction, the customary thing to do was to\\ngive the intensity relative to the intensity at θ= 0. The most natural thing to compare the\\nnear-ﬁeld amplitude to is the amplitude when there is no wall. This is the amplitude shown\\nin Fig. 42. The Cornu spiral (the shape of which depends on the ratio D/λ in Eq. (49))\\ncompletely determines all aspects of the diﬀraction pattern for any location of the slit. And\\nthe length of the diagonal line in Fig. 42 gives the general length scale of the spiral, so it\\nmakes sense to compare all other lengths to this one. ♣\\n9.5.3 The D≫λlimit\\nWhen dealing with light waves, it is invariably the case that D≫λ. If this relation holds,\\nthen the Cornu spiral approaches a particular shape, and we can write down an approximate\\n(and simpler) expression for the integral in Eq. (49). Note that D≫λdoes notmean that\\nwe’re in the far-ﬁeld limit. The far-ﬁeld limit involves a comparison between Dand the span\\nof the slit(s), and it results in the approximation that all of the paths from the various points\\nin the slit(s) to a given point on the screen are essentially equal in length (multiplicatively),\\nand essentially parallel. The wavelength λhas nothing to do with this.\\nIfD≫λ, the actual size(but not the shape) of the spiral depends on λ; the smaller λ\\nis, the smaller the spiral is. But the size (or the shape) doesn’t depend on D. Both of these\\nfacts will follow quickly from the approximate expression we’ll derive in Eq. (51) below. The\\nﬁxed shape of the spiral is shown in Fig. 45, and it looks basically the same as Fig. 36.\\nFigure 45The size dependence on λis fairly easy to see physically. Even a slight increase in yfrom\\ny= 0 will lead to a pathlength that increases on the order of λ, ifλis small. This means\\nthat the phases immediately start canceling each other out. The wave has no opportunity\\nto build up, because the phase oscillates so rapidly as a function of y. The smaller λis, the\\nquicker the phases start to cancel each other.\\nIfD≫λ, we can give an approximate expression for the wave in Eq. (49). We claim that\\nonly small values of z(much less than 1) are relevant in Eq. (49). (These values correspond\\ntoybeing much less than D.) Let’s see what Etot(P) reduces to under the assumption that\\nz≪1, then we’ll justify this assumption.\\nIfzis small, then we can use the approximation√\\n1 +z2≈1+z2/2 in both the exponent\\nand the denominator of Eq. (49). We can ignore the z2/2 term in the denominator, because\\nit is small compared with 1. In the exponent we have 2 πiD/λ + 2πi(D/λ)z2/2. The ﬁrst\\nof these terms is constant, so it just gives an overall phase in the integral, so we can ignore\\nit. The second term involves a z2, but we can’t ignore it because it also contains a factor of', metadata={'source': 'books/interference.pdf', 'page': 28}),\n",
              " Document(page_content='30 CHAPTER 9. INTERFERENCE AND DIFFRACTION\\nD/λ, which we’re assuming is large. Eq. (49) therefore reduces to (recalling z≡y/D)\\nEtot(P)≈∫zmax\\n0B0√\\nD eiπ(D/λ)z2dz=∫ymax\\n0(\\nB0/√\\nD)\\neiπy2/Dλdy, (51)\\nwhere zmaxis a number much smaller than 1, but also much larger than√\\nλ/D. And\\nymax=Dzmax. The reason for this lower bound of√\\nλ/D comes from the following reasoning\\nthat justiﬁes why we need to consider only zvalues that are much less than 1 in Eq. (49).\\nIfzis much larger than√\\nλ/D (which corresponds to ybeing much larger than√\\nλD),\\nbut still satisﬁes our assumption of z≪1, then the exponent in Eq. (49) is a rapidly\\nchanging function of z. This corresponds to being deep inside the spiral where the circles\\nare small. By this point in the spiral, the integral in Eq. (49) has essentially reached its\\nlimiting value, so it doesn’t matter whether we truncate the integral at this (small) value of\\nzor keep going to the actual upper limit of z=∞. So if you want, you can let the upper\\nbounds in Eq. (51) be inﬁnity:\\nEtot(P)≈∫∞\\n0B0√\\nD eiπ(D/λ)z2dz=∫∞\\n0(\\nB0/√\\nD)\\neiπy2/Dλdy (52)\\nPictorially, if you want to get a handle on which yvalues correspond to which points in\\nthe spiral, note that an increase in pathlength by one wavelength λcorresponds to a full\\ncircle of the spiral. The value of ythat yields a pathlength of the form D+nλis found\\nfrom the right triangle in Fig. 46. The Pythagorean theorem gives\\nPy\\nDD + nλFigure 46\\nD2+y2= (D+nλ)2=⇒y2= 2nDλ +n2λ2=⇒y≈√\\n2nDλ, (53)\\nwhere we have ignored the second-order λ2term due to the D≫λassumption. Fig.47shows\\nP\\nwally values yielding \\npathlength = D + nλ\\nn =1\\nn =0n =2\\nFigure 47the ﬁrst 40 of these values of yfor the case where D/λ = 200, although for actual setups\\ninvolving light, this ratio is generally much higher, thereby making the approximations even\\nbetter. This ﬁgure is analogous to Fig. 38. As you can see, the yvalues get closer together\\nasyincreases, due to the√ndependence. This is consistent with the above statement that\\nthe exponent in Eq. (49) is a rapidly changing function of z.\\nRemarks:\\n1. As we noted above, the amplitude is essentially constant for small z, since√\\n1 +z2≈1. So\\nthe little vectors that make up the spiral all have essentially the same length, for small z\\n(y≪D). The size of a “circle” in the spiral is therefore completely determined by how fast\\nthe phase is changing. Since the phase changes very quickly for y≫Dλ, the circles are very\\nsmall, which means that we have essentially reached the limiting value at the center of the\\ncircle.\\n2. We mentioned above that if D≫λ, then the size of the spiral depends on λbut not on D.\\nAnd the shape depends on neither. These facts follow from Eq. (52) if we make the change\\nof variables, w≡z√\\nD/λ (which equals y/√\\nDλ). This turns the integral into\\nEtot(P)≈√\\nλ∫∞\\n0B0eiπw2dw. (54)\\nThere are no D’s in this expression, so the size and shape don’t depend on D. But the size\\ndoes depend on λ, according to√\\nλ(which decreases as λdecreases, as we argued near the\\nbeginning of this subsection). However, the shape doesn’t depend on λ, because λappears\\nonly in an overall constant.\\n3. An interesting fact about the Cornu spiral described by Eq. (52) and shown in Fig. 45 is that\\nthe curvature at a given point is proportional to the arclength traversed (starting from the', metadata={'source': 'books/interference.pdf', 'page': 29}),\n",
              " Document(page_content='9.5. NEAR-FIELD DIFFRACTION 31\\nlower left end) to that point. The curvature is deﬁned to be 1 /R, where Ris the radius of\\nthe circle that matches up with the curve at the given point.\\nThis property makes the Cornu spiral very useful as a transition curve in highways and\\nrailways. If you’re driving down a highway and you exit onto an exit ramp that is shaped\\nlike the arc of a circle, then you’ll be in for an uncomfortable jolt. Even though it seems like\\nthe transition should be a smooth one (assuming that the tangent to the circle matches up\\nwith the straight road), it isn’t. When you hit the circular arc, your transverse acceleration\\nchanges abruptly from zero to v2/R, where Ris the radius of the circle. You therefore have\\nto suddenly arrange for a sideways force to act on you (perhaps by pushing on the wall of\\nthe car) to keep you in the same position with respect to the car. Consistent with this, you\\nwill have to suddenly twist the steering wheel to immediately put it in a rotated position.\\nIt would be much more desirable to have the curvature change in a gradual manner, ideally\\nat a constant rate. This way you can gradually apply a larger sideways force, and you can\\ngradually turn the steering wheel. No sudden movements are required. The task of Problem\\n9.2 is to show that the Cornu spiral does indeed have the property that the curvature is\\nproportional to the arclength. ♣\\n9.5.4 Diﬀraction around an object\\nThe Cornu spiral gives the key to explaining the diﬀraction of light around an object. If we\\nshine light on an object and look at the shadow, something interesting happens near the\\nboundary. Fig. 48 shows the shadow of a razor blade illuminated by laser light.9Fig. 49\\nFigure 48shows the result of a more idealized setup with an essentially inﬁnite straight edge (oriented\\nvertically on the page).10\\nFigure 49\\nIn a normal shadow, we would naively expect to have an abrupt change from a bright\\nregion to a dark region. Indeed, if instead of a light wave we had particles (such as baseballs)\\npassing by a wall, then the boundary between the “shadow” and the region containing\\nbaseballs would be sharp. Now, even if we realize that light is a wave and can therefore\\nexperience interference/diﬀraction, we might still semi-naively expect to have the same kind\\nof behavior on each side of the boundary, whatever that behavior might be. However, from\\nFig. 49 we see that there is something fundamentally diﬀerent between the bright and dark\\nregions. The amplitude oscillates in the bright region, but it appears to (and indeed does)\\ndecrease monotonically in the dark region. What causes this diﬀerence? We can answer this\\nby looking at the Cornu spiral.\\nIf we scan our eye across Fig. 49, this is equivalent to changing the location of point P\\nin Fig. 35. Points far to the left (right) in Fig. 49 correspond to Pbeing low (high) in Fig.\\n35. So as we scan our eye from left to right in Fig. 49, this corresponds to Pbeing raised\\nup from a large negative value to a large positive value in Fig. 35. However, as we noted in\\nthe second remark at the end of Section 9.5.2, raising the location of point Pis equivalent\\n9I’m not sure where this picture originated.\\n10This image comes from the very interesting webpage, http://spiﬀ.rit.edu/richmond/occult/bessel/bessel.html,\\nwhich discusses diﬀraction as applied to lunar occultation.', metadata={'source': 'books/interference.pdf', 'page': 30}),\n",
              " Document(page_content='32 CHAPTER 9. INTERFERENCE AND DIFFRACTION\\nto keeping Pﬁxed and instead lowering the top of the wall.11Therefore, scanning our eye\\nfrom left to right in Fig. 49 corresponds to lowering the top of the wall from a large positive\\nvalue to a large negative value. And we can eﬀectively take these values to be ±∞.\\nSo to determine the intensity of the diﬀraction pattern as a function of position, we\\nsimply need to determine the intensity at Pas we lower the wall. In turn, this means that\\nwe need to look at the length of the appropriate line in the Cornu spiral (and then square\\nit to go from amplitude to intensity). The line we’re concerned with always has one end\\nlocated at the center of the upper-right spiral in Fig. 42, because in our setup the upper end\\nof the “slit” is always located at + ∞. The other end of the line corresponds to the bottom\\nof the slit, and since we’re lowering this position down from + ∞, this other end simply\\nstarts at the center of the upper-right spiral and then winds its way outward in the spiral.\\nWhen the top of the wall has moved all the way down to y= 0 (that is, across from P), the\\ncorresponding point on the spiral is as usual the center point between the two halves of the\\nspiral. And when the top of the wall has moved all the way down to −∞, the corresponding\\npoint on the spiral is the center of the lower-left spiral.\\nWhat happens to the amplitude (the length of the line) as we march through this entire\\nprocess? It start out at zero when the top of the wall is at + ∞, and then it monotonically\\nincreases as we spiral outward in the upper-right spiral. It keeps increasing as we pass\\nthrough the origin, but then it reaches its maximum possible value, shown in Fig. 50. (This\\nFigure 50spiral has D=λ, which undoubtedly isn’t the case with light. But the shape of the D≫λ\\nspiral isn’t much diﬀerent from the D=λone.) After this point, the length of the line\\noscillates up and down as we spiral inward in the lower-left spiral. The size of the oscillations\\ngradually decreases as the circles get smaller and smaller, and the line approaches the one\\nshown in Fig. 42, where the ends are at the centers of the two spirals. This corresponds to\\nthe top of the wall being at y=−∞, so there is no wall at all.\\nThe length of the amplitude line at the origin (which corresponds to Pbeing at the edge\\nof the location of the naive sharp shadow) is exactly half the length that it eventually settles\\ndown to. Since the intensity is proportional to the square of the amplitude, this means that\\nthe intensity at the naive edge is 1 /4 of the intensity far away from the shadow. Numerically,\\nthe maximum amplitude associated with Fig. 50 is about 1.18 times the amplitude far away,\\nwhich means that the intensity is about 1.39 times as large.\\nNote that although the two half-spirals in Fig. 50 have the same shape, one of them\\n(the lower-left spiral) produces oscillations in the amplitude, while the other doesn’t. The\\nsymmetry is broken due to where the starting point of the line is located. It is always located\\nat the center of the upper-right spiral, and this is what causes the diﬀerent behaviors inside\\nand outside the shadow in Fig. 49.\\nThe plot of the intensity (proportional to the amplitude squared) is shown in Fig. 51,\\nI(P)\\n- -4 20 2 4 6 8100.20.40.60.81.01.21.4\\nyP/D\\n(λ = D)\\nFigure 51with arbitrary units on the vertical axis. The horizontal axis gives the ycoordinate of P,\\nwith y= 0 being across from the top of the wall. The left part corresponds to Pbeing low\\nin Fig. 35 (or equivalently, keeping Pﬁxed and having the wall be high). In other words, P\\nis in the left part of Fig. 49, in the shadow. The right part corresponds to Pbeing high (or\\nequivalently, keeping Pﬁxed and having the wall be low). So Pis in the left part of Fig.\\n49, outside the shadow. Moving from left to right in Fig. 51 corresponds to moving from\\nleft to right in Fig. 49, and also to running around the spiral in the direction we discussed\\nabove, starting at the inside of the upper-right spiral. As we mentioned above, you can see\\nin Fig. 51 that the intensity at yP= 0 is 1 /4 of the intensity at large yP.\\nIn the D≫λlimit (which is generally applicable to any setup involving light), the\\nlocations of the bright lines in the diﬀraction pattern are given by essentially the same\\nreasoning that led to Eq. (53). So we essentially have y≈√\\n2nDλ. The√ndependence\\n11With an inﬁnite straight edge, we do indeed have the situation in Fig. 35 with a “half wall.” The case\\nof the razor blade is more complicated because it has holes and corners, but the general idea is the same.', metadata={'source': 'books/interference.pdf', 'page': 31}),\n",
              " Document(page_content='9.5. NEAR-FIELD DIFFRACTION 33\\nimplies that the bright lines get closer together as Pmoves farther away from the shadow\\n(see Fig. 47). This is what we observe in Fig. 49. Note that the angles at which he bright\\nlines occur are given by (assuming the angle is small) θ≈y/D =√\\n2nDλ/D =√\\n2nλ/D .\\nSo although the yvalues increase with D, the angles decrease with D.\\n9.5.5 Far-ﬁeld limit\\nThe expression for the wave in Eq. (48) is an exact one. It holds for arbitrary values of Dand\\nk(or equivalently λ), and also for arbitrary values of the limits of integration associated\\nwith the endpoints of the slit. Therefore, Eq. (48) and all conclusions drawn from the\\nassociated Cornu spiral hold for any setup. There is no need to actually be in the near-ﬁeld\\nregime; the results hold just as well in the far-ﬁeld limit. So technically, the title of Section\\n9.5 should more appropriately be called “Anything-ﬁeld diﬀraction” instead of “Near-ﬁeld\\ndiﬀraction.” We should therefore be able to obtain the far-ﬁeld result as a limiting case of\\nthe “near-ﬁeld” result. Let’s see how this comes about.\\nFor concreteness, let the distance to the screen be D= 100, and let the width of the slit be\\na= 5. Then D≫ais a fairly good approximation, so we should be able to (approximately)\\nextract the far-ﬁeld results from the Cornu spiral. Let’s pick the wavelength to be λ= 1.\\nFig. 52 shows three possible locations of the slit. The reason for the particular bounds on\\nthe highest of these slits will be made clear shortly.\\nwall screen\\nP\\nD = 1000 < y < 510 < y < 1517.3  < y < 22.3\\nFigure 52\\nWe can geometrically ﬁnd the amplitudes at point Pdue to these three slits in the\\nfollowing way. The ﬁrst spiral in Fig. 53 shows the relevant part of the spiral (the thick\\npart) for the 0 < y < 5 slit, along with the resulting amplitude (the straight line). The\\nphases from the diﬀerent points in the slit are roughly equal (because all of the pathlengths\\nare roughly the same), so the wavelets add generally constructively (they mostly point to\\nthe right), and we end up with a decent-sized amplitude.', metadata={'source': 'books/interference.pdf', 'page': 32}),\n",
              " Document(page_content='34 CHAPTER 9. INTERFERENCE AND DIFFRACTION\\n0 < y < 5 10  < y < 15 17.3  < y < 22.3(D = 100,  λ = 1,  a = 5)\\nslit:\\nFigure 53\\nThe second spiral shows the situation for the 10 < y < 15 slit. The phases now diﬀer by a\\nlarger amount, so the relevant part of the spiral curls around more, and resulting amplitude\\nisn’t as large. As the slit is raised, eventually we get to a point where the relevant part of\\nthe spiral forms a complete “circle.” (It’s not an actual circle, of course, because it doesn’t\\nclose on itself, but it’s close.) The resulting amplitude is then very small. This corresponds\\nto the ﬁrst zero in the diﬀraction pattern back in Fig. 23. The reason why the amplitude\\nisn’t exactly zero (as it was in the far-ﬁeld result) is that D/a is only 20 here. This is fairly\\nlarge, but not large enough to make the far-ﬁeld approximation a highly accurate one. But\\nremember that the present result is the correct one. The far-ﬁeld result is an approximation.\\nIf we choose a smaller slit width a, then the relevant part of the spiral (the thick part\\nin Fig. 53) is shorter. It therefore needs to march deeper into the spiral to get to the point\\nwhere it forms a complete circle (because the circles keep shrinking). Since the circles get\\ncloser together as they shrink (eventually they blend together in the ﬁgure to form a black\\nblob), the small sideways shift that represents the amplitude in the third spiral in Fig. 53\\nis very tiny if the circle is deep in the spiral. So it’s a better approximation to say that the\\namplitude there is zero. And consistent with this, the far-ﬁeld approximation is a better\\none, because D/a is larger now. Basically, in the far-ﬁeld limit, the length of the thick\\nsection in the spiral is much smaller than the general length scale of the spiral.\\nNote, however, that since the Cornu spiral never crosses itself, it is impossible to ever\\nget an exactly complete cancelation of the wavelets and thereby a zero amplitude. There\\nwill always be a nonzero sideways shift between the two endpoints of the “circle.” The zeros\\nin the far-ﬁeld limit in Fig. 23 are therefore just approximations (but good approximations\\nifD≫a).\\nReturning to the above case with a= 5, let’s check that the numbers work out. In\\nthe third spiral in Fig. 53, having a complete circle means that the wavelets from the two\\nends of the slit have the same phase (because they have the same slope in the spiral). So\\nthe pathlengths from the two ends diﬀer by one wavelength. (This is consistent with the\\nreasoning in the second bullet point near the beginning of Section 9.3.2.) And indeed, since\\nthe slit runs from y= 17.3 toy= 22.3, and since D= 100, the pathlength diﬀerence is\\n√\\n1002+ 22.32−√\\n1002+ 17.32= 0.95. (55)\\nThis isn’t exactly equal to one wavelength (which we chose to be λ= 1), but it’s close. A\\nlarger value of D/a would make the diﬀerence be closer to one wavelength.\\nNote that the angle at which the point Pis oﬀ to the side from the middle of the\\n17.3< y < 22.3 slit (which is located at y= 19.8) is given by tan θ= 19.8/100 =⇒θ=\\n11.2◦= 0.195 rad. In the far-ﬁeld approximation where the paths are essentially parallel,\\nthe diﬀerence in pathlengths from the ends of the slit is asinθ= (5)(sin 11 .2◦) = 0 .97, which\\nis approximately one wavelength, as it should be.', metadata={'source': 'books/interference.pdf', 'page': 33}),\n",
              " Document(page_content='9.5. NEAR-FIELD DIFFRACTION 35\\nWhat if we keep spiraling down into the spiral beyond the position shown in the third\\ncase in Fig. 53? This corresponds to raising the slit (while still keeping the width at a= 5).\\nEventually we’ll get to a point where the circles are half as big, so the relevant part of the\\ncurve (the thick part) will wrap twice around a circle. This corresponds to the second zero\\nin Fig. 23. The diﬀerence in the pathlengths from the ends of the slit is now (approximately)\\n2λ. If we keep spiraling in, the next zero occurs when we wrap three times around a circle.\\nAnd so on.\\nHowever, we should be careful with this “and so on” statement. In the present case with\\na= 5 and λ= 1, it turns out that the part of the curve corresponding to the slit can wrap\\naround a circle at most 5 times. (And the 5th time actually occurs only in the limit where\\nthe slit is inﬁnitely far up along the wall.) This follows from the fact that since λ= 1, even\\nif the slit is located at y=∞, the pathlength from the far end of the slit is only a= 5 longer\\nthan the pathlength from the near end. So the phase diﬀerence can be at most 5 cycles. In\\nother words, the thick part of the curve can’t wrap more than 5 times around in a circle.\\nWithout using this physical reasoning, this limit of 5 circles isn’t obvious by just looking\\nat the spiral. The circles get smaller and smaller, so you might think that the wrapping\\nnumber can be arbitrarily large. However, the little vectors corresponding to a given span\\ndyare also getting smaller (because the amplitude is small if the slit is far away), which\\nmeans that the thick part of the curve gets shorter and shorter. From simply looking at the\\ncurve, it isn’t obvious which eﬀect wins.', metadata={'source': 'books/interference.pdf', 'page': 34}),\n",
              " Document(page_content='36 CHAPTER 9. INTERFERENCE AND DIFFRACTION\\n9.6 Problems\\n9.1.Non-normal incidence *\\nA light wave impinges on an N-slit setup at a small angle γwith respect to the normal.\\nShow that for small angles, the interference pattern on a far-away screen has the same\\nform as in Fig. 12, except that the entire plot is shifted by an angle γ. In other words,\\nit’s the same interference pattern, but now centered around the direction pointing\\nalong a ray of light (or whatever) that passes through the slit region.\\n9.2.Cornu curvature **\\nWe stated in the last remark in Section 9.5.3 that the Cornu spiral has the property\\nthat the curvature at a given point is proportional to the arclength traversed (starting\\nat the origin) to that point. Prove this. Hint: Write down the xandycoordinates\\nassociated with Eq. (51), and then ﬁnd the “velocity” and “acceleration” vectors with\\nrespect to u≡zmax, and then use a=v2/R.', metadata={'source': 'books/interference.pdf', 'page': 35}),\n",
              " Document(page_content='9.7. SOLUTIONS 37\\n9.7 Solutions\\n9.1.Non-normal incidence\\nFig. 54 shows how to obtain the distances from a given wavefront (the left one in the ﬁgure)\\nθ\\nγd\\nd sinθd sinγ\\nFigure 54to a distance screen. We see that the lower path is longer than the upper path by an amount\\ndsinθ, but also shorter by an amount dsinγ. So the diﬀerence in pathlengths is d(sinθ−sinγ).\\nIn the derivation in Section 9.2.1 for the γ= 0 case, the diﬀerence in pathlengths was dsinθ.\\nSo the only modiﬁcation we need to make in the γ̸= 0 case is the replacement of dsinθin\\nEq. (11) (and all subsequent equations) with d(sinθ−sinγ). So Eqs. (14) and (15) become\\nAtot(θ) =A(θ)sin(1\\n2Nkd(sinθ−sinγ))\\nsin(1\\n2kd(sinθ−sinγ))≡A(θ)sin(Nα/2)\\nsin(α/2), (56)\\nwhere\\nα≡kd(sinθ−sinγ) =2πd(sinθ−sinγ)\\nλ. (57)\\nAs before, αis the phase diﬀerence between adjacent paths.\\nFor small angles, we can use sin ϵ≈ϵto write these results as\\nAtot(θ) =A(θ)sin(1\\n2Nkd(θ−γ))\\nsin(1\\n2kd(θ−γ))≡A(θ)sin(Nα/2)\\nsin(α/2), (58)\\nwhere\\nα≡kd(θ−γ) =2πd(θ−γ)\\nλ. (59)\\nThe only diﬀerence between this result and the original γ= 0 result (for small θ) is that the\\nargument is θ−γinstead of θ. So the whole interference pattern is translated by an angle γ.\\nThat is, it is centered around θ=γinstead of θ= 0, as we wanted to show.\\nRemark: The same result holds for the diﬀraction pattern from a wide slit, because this is simply\\nthe limit of an N-slit setup, with N→ ∞ . But Fig. 55 gives another quick way of seeing why the\\nwall\\nscreen\\nFigure 55diﬀraction pattern is centered around the direction of the incident light. Imagine tilting the setup so\\nthat the angle of the incident light is horizontal (so the wavefronts are vertical). Then the wall and\\nthe screen are tilted. But these tilts are irrelevant (for small angles) because when we use Huygens\\nprinciple near the slit, the little wavelets are created simultaneously from points on the wavefronts ,\\nand not in the slit. So the setup shown in Fig. 55 is equivalent to having the slit be vertical and\\nlocated where the rightmost wavefront is at this instant. (Technically, the width of this vertical slit\\nwould be smaller by a factor of cos γ, but cos γ≈1 for small γ.) And the tilt of the screen is irrelevant\\nfor small angles, because any distances along the screen are modiﬁed by at most a factor of cos γ.♣\\n9.2.Cornu curvature\\nWriting the exponential in Eq. (51) in terms of trig functions tells us that the xandy\\ncoordinates of the points on the spiral in the complex plane are given by (with a≡πD/λ ,\\nand ignoring the factor of B0√\\nD)\\nx(u) =∫u\\n0cos(az2)dz, and y(u) =∫u\\n0sin(az2)dz. (60)\\nThe “velocity” vector with respect to uis given by ( dx/du, dy/du ). But by the fundamental\\ntheorem of calculus, these derivatives are the values of the integrands evaluated at u. So we\\nhave (up to an overall factor of B0√\\nD)\\n(dx\\ndu,dy\\ndu)\\n=(\\ncos(au2),sin(au2))\\n. (61)\\nThe magnitude of this velocity vector is cos2(au2) + sin2(au2) = 1. So the speed is constant,\\nindependent of the value of u. The total arclength from the origin is therefore simply u.', metadata={'source': 'books/interference.pdf', 'page': 36}),\n",
              " Document(page_content='38 CHAPTER 9. INTERFERENCE AND DIFFRACTION\\nSince uis the upper limit on the zintegral, and since zis proportional to the position yin\\nthe slit (from z≡y/D), we’ve just shown that if the upper end of the slit is moved up at a\\nconstant rate (the bottom end is held ﬁxed at y= 0), then the corresponding point on the\\nCornu spiral moves along the spiral at a constant rate. If you want, you can think of uas\\nthe time that an object with constant speed has been moving.\\nThe acceleration vector is the derivative of the velocity vector, which gives\\n(\\nd2x\\ndu2,d2y\\ndu2)\\n=(\\n−2ausin(au2),2aucos(au2))\\n. (62)\\nThe magnitude of this vector is 2 au.\\nNow, the acceleration, speed, and radius of curvature are related by the usual expression,\\na=v2/R. So we have R=v2/a, which gives R= (1)2/(2au). The curvature is then\\n1/R= 2au. But uis the arclength, so we arrive at the desired result that the curvature is\\nproportional to the arclength. Note that since a∝1/λ, we have R∝λ. So a small value of\\nλyields a tightly wound (and hence small) spiral. This is consistent with the result in the\\nsecond remark in Section 9.5.3.', metadata={'source': 'books/interference.pdf', 'page': 37}),\n",
              " Document(page_content='Chapter 24\\nGauss’ s Law', metadata={'source': 'books/Ch24 (revised2022)(2).pdf', 'page': 0}),\n",
              " Document(page_content='Topics being covered in Chapter 24 –Gauss’s Law\\n•Electric flux\\n•Gauss’s Law\\n•Application of Gauss’s Law to various charge distributions\\n•Conductors in electrostatic equilibrium\\nIntroduction2', metadata={'source': 'books/Ch24 (revised2022)(2).pdf', 'page': 1}),\n",
              " Document(page_content='Electric Flux\\nElectric flux is the product of the magnitude of the \\nelectric field and the surface area, A, perpendicular \\nto the field: ΦE= EA, units:  N · m2/ C\\nThe electric flux is proportional to the number of \\nelectric field lines penetrating some surface. The \\nfield lines may make some angle θwith the normal \\ndirection of the surface, then \\nThe flux is a maximum when the surface is \\nperpendicular to the field: θ= 0º.\\nThe flux is zero when the surface is parallel to the \\nfield: θ= 90º.\\nIf the field varies over the surface, Φ= EAcos θis \\nvalid for only a small element of the area.\\nSection  24.1\\n3\\n\\uf071cosEAE\\uf03d\\uf0d7\\uf03d\\uf046 AE\\uf072\\uf072', metadata={'source': 'books/Ch24 (revised2022)(2).pdf', 'page': 2}),\n",
              " Document(page_content='Electric Flux, General\\nIn amore general case, look at a small area \\nelement.\\nIn general, this becomes\\n\\uf0a7The surface integral means the integral \\nmust be evaluated over the surface in \\nquestion.\\nIn general, the value of the flux will depend \\nboth on the field pattern and on the surface.\\nSection  24.1\\ni i i i i E AE AE\\uf072\\uf072\\n\\uf044\\uf0d7\\uf03d\\uf044\\uf03d\\uf044\\uf046 \\uf071cos\\n\\uf0f2\\uf0e5\\n\\uf0d7\\uf03d\\uf044 \\uf03d\\uf046\\n\\uf0ae\\uf044\\nsurfacei\\nAi i E\\ndAE\\ni\\nAE\\uf072\\uf072\\uf071cos lim\\n04', metadata={'source': 'books/Ch24 (revised2022)(2).pdf', 'page': 3}),\n",
              " Document(page_content='Electric Flux, Closed Surface\\nAssume a closed surface\\nThe vectors point in different directions.\\n\\uf0a7At each point, they are perpendicular to \\nthe surface.\\n\\uf0a7By convention, they point outward.\\nAt (1), the field lines are crossing the surface \\nfrom the inside to the outside; θ< 90o, \\nΦis positive.\\nAt (2), the field lines graze surface; θ= 90o, \\nΦ= 0.\\nAt (3), the field lines are crossing the surface \\nfrom the outside to the inside;180o> θ> 90o, \\nΦis negative.\\nSection  24.1\\niA\\uf072\\n\\uf0445', metadata={'source': 'books/Ch24 (revised2022)(2).pdf', 'page': 4}),\n",
              " Document(page_content='Flux Through Closed Surface, final\\nThe netflux through the surface is proportional to the net number of lines leaving the surface.\\n\\uf0a7This net number of lines is the number of lines leaving the surface minus the number \\nentering the surface.\\nIf Enis the component of the field perpendicular to the surface, then\\n\\uf0a7The integral is over a closed surface.\\nSection  24.1\\n\\uf0f2\\uf0f2\\uf03d\\uf0d7\\uf03d\\uf046 dAE dn E AE\\uf072\\uf072Flux Through a Cube, Example\\nIn this example, the electric field 𝐄=𝐸\\u0de1𝐢is uniform everywhere. \\nThe cube has a size of L.\\nThe field lines pass through two surfaces perpendicularly \\nand are parallel to the other four surfaces.\\nFor face (1), ΦE= \\uf02dEL2; For face (2), ΦE= EL2\\nFor the other sides, ΦE= 0; Therefore, ΦE,total= 0\\n6\\nclosed surface', metadata={'source': 'books/Ch24 (revised2022)(2).pdf', 'page': 5}),\n",
              " Document(page_content='Gauss’ s Law, Introduction\\nGauss’ s law is an expression of the general relationship between the netelectric \\nflux through a closed surface and the charge enclosed by the surface.\\n\\uf0a7The closed surface is often called a Gaussian surface.\\nGauss’ s law is of fundamental importance in the study of electric fields.\\nGauss’s Law can be used as an alternative procedure for calculating electric \\nfields, particularly for the electric field of highly symmetric charge distributions.\\nGauss’s Law is based on the inverse -square behavior of the electric force \\nbetween point charges.\\nGauss’s Law is important in understanding and verifying the properties of \\nconductors in electrostatic equilibrium.\\nSection  24.27', metadata={'source': 'books/Ch24 (revised2022)(2).pdf', 'page': 6}),\n",
              " Document(page_content='Gauss’ s Law –Single charge example \\nA positive point charge, q, is located at the \\ncenter of a sphere of radius r.\\nThe magnitude of the electric field \\neverywhere on the surface of the sphere is \\nE= keq/ r2\\nThe field lines are directed radially outward \\nand are perpendicular to the surface at every \\npoint.\\nThis will be the net flux through the Gaussian \\nsurface, the sphere of radius r.\\nWe know E= keq/r2and Asphere = 4πr2, then\\nSection  24.2\\n\\uf0f2\\uf0f2\\uf03d\\uf0d7\\uf03d\\uf046 dAE dE AE\\uf072\\uf072\\n024) 4(\\uf065\\uf070\\uf070qqk r Ee E \\uf03d\\uf03d \\uf03d\\uf0468', metadata={'source': 'books/Ch24 (revised2022)(2).pdf', 'page': 7}),\n",
              " Document(page_content='Gauss’ s Law –General \\nGauss’s Law:\\nAny closed surface surrounds charge q, \\nthe electric flux is\\nSection  24.2\\n0\\uf065inqdE\\uf0f2\\uf03d\\uf0d7\\uf03d\\uf046 AE\\uf072\\uf0729Inferences:\\n─The electric flux is independent of \\nthe shape of surface\\n─If no charge inside, \\uf046E= 0\\n', metadata={'source': 'books/Ch24 (revised2022)(2).pdf', 'page': 8}),\n",
              " Document(page_content='Gauss’s Law –General, notes\\nThe net flux through any closed surface surrounding a point charge, q, is given by q/ɛ0and \\nis independent of the shape of that surface.\\nThe net electric flux through a closed surface that surrounds no charge is zero.\\nSince the electric field due to many charges is the vector sum of the electric fields produced \\nby the individual charges, the flux through any closed surface can be expressed as \\nSection  24.2\\n\\uf0f2\\uf0f2\\uf0d7\\uf0d7\\uf0d7\\uf0d7\\uf02b\\uf02b\\uf03d\\uf0d7\\uf03d\\uf046 A EEAE\\uf072 \\uf072\\uf072\\uf072\\uf072\\nd dE ) (2 1\\nGaussian Surface, Example\\n•Closed surfaces of various shapes can surround \\nthe charge. Only S1is spherical -verifies the net \\nflux through any closed surface surrounding a \\npoint charge q is given by q/ɛ0and is independent \\nof the shape of the surface.\\n•The charge is outside the closed surface with an \\narbitrary shape. Any field line entering the surface \\nleaves at another point. -verifies the electric flux \\nthrough a closed surface that surrounds no charge \\nis zero.\\n10', metadata={'source': 'books/Ch24 (revised2022)(2).pdf', 'page': 9}),\n",
              " Document(page_content='𝛷𝐸=ර\\n𝑆′𝐄⋅𝑑𝐀=𝑞2+𝑞3\\n𝜀0𝛷𝐸=ර\\n𝑆𝐄⋅𝑑𝐀=𝑞1\\n𝜀0\\n𝛷𝐸=ර\\n𝑆′′𝐄⋅𝑑𝐀=0<0\\n<0Electric flux through a Gaussian surface –\\nExample of multiple point charges\\nFlux through surface 𝑆:\\nFlux through surface 𝑆′:\\nFlux through surface 𝑆′′:\\nNote: 𝑆, 𝑆′, and 𝑆′′are all closed surfaces', metadata={'source': 'books/Ch24 (revised2022)(2).pdf', 'page': 10}),\n",
              " Document(page_content='Gauss’ s Law –Mathematics\\nThe mathematical form of Gauss’ s law states\\n\\uf0a7qinis the net charge inside the surface.\\nrepresents the electric field at any point on the surface.\\n\\uf0a7is the total electric field and may have contributions from charges both \\ninside and outside of the surface.\\nAlthough Gauss’ s law can, in theory, be solved to find for any charge \\nconfiguration, in practice it is limited to symmetric situations.\\nSection  24.2\\nE\\uf072\\nE\\uf072\\nE\\uf072Applying Gauss ’s Law\\nTo use Gauss’ s law, you want to choose a Gaussian surface over which the \\nsurface integral can be simplified and the electric field determined.\\nTake advantage of symmetry .\\nRemember, the Gaussian surface is a surface you choose , it does not have to \\ncoincide with a real surface.\\n12ΦE=\\u0dbc𝐄⋅𝑑𝐀=𝑞in\\n𝜀𝑜', metadata={'source': 'books/Ch24 (revised2022)(2).pdf', 'page': 11}),\n",
              " Document(page_content='Conditions for a Gaussian Surface\\nGauss’s law can be useful when we choose a Gaussian surface such that part of \\nthe surface satisfies one of these conditions:\\n\\uf0a71) The value of the electric field can be argued from symmetry to be constant \\nover the surface.\\n\\uf0a72) 𝐄and 𝑑𝐀are parallel.\\n\\uf0a73) 𝐄and 𝑑𝐀are perpendicular (i.e., 𝐄⋅𝑑𝐀=0).\\n\\uf0a74) The field is zero.\\nIf the charge distribution does not have sufficient symmetry such that a Gaussian \\nsurface that satisfies these conditions cannot be found, Gauss’s L aw is not useful \\nfor determining the electric field for that charge distribution.\\nSection  24.313', metadata={'source': 'books/Ch24 (revised2022)(2).pdf', 'page': 12}),\n",
              " Document(page_content='Exp. 1: Field Due to a Spherically Symmetric Uniform Charge Distribution\\nSpherical Symmetry\\nSelect a sphere as the Gaussian \\nsurface. \\nFor r > a: Choose surface in Fig (a)\\nSection  24.3\\n14An insulating solid sphere of radius ahas a uniform \\nvolume charge density ρand carries a total positive \\ncharge Q. Calculate the magnitude of electric field \\nat a point inside and outside the sphere.\\n(a)(b)𝛷𝐸=ර𝐄⋅𝑑𝐀=𝑞𝑖𝑛\\n𝜀𝑜\\nර𝐸𝑑𝐴=𝑄\\n𝜀𝑜\\n𝐸ර𝑑𝐴=𝑄\\n𝜀𝑜\\n𝐸(4𝜋𝑟2)=𝑄\\n𝜀𝑜\\n\\uf0de𝐸=𝑄\\n4𝜋𝜀𝑜𝑟2=𝑘𝑒𝑄\\n𝑟2Website: Direct integration for \\nUniformly Charged Sphere', metadata={'source': 'books/Ch24 (revised2022)(2).pdf', 'page': 13}),\n",
              " Document(page_content='Exp. 1: Field Due to a Spherically Symmetric Uniform Charge Distribution\\nSelect a sphere as the Gaussian \\nsurface. \\nFor r < a: Choose surface in Fig (b)\\n𝑞in=𝑄(4/3)\\uf070𝑟3\\n(4/3)\\uf070𝑎3=𝑄𝑟3\\n𝑎3\\nSection  24.3\\n15An insulating solid sphere of radius ahas a uniform \\nvolume charge density ρand carries a total positive \\ncharge Q. Calculate the magnitude of electric field \\nat a point inside and outside the sphere.\\n(a)(b)𝛷𝐸=ර𝐄⋅𝑑𝐀=𝑞in\\n𝜀𝑜\\n𝐸\\u0dbc𝑑𝐴=𝑞in\\n𝜀𝑜\\n\\uf0de𝐸=𝑞in\\n4𝜋𝜀𝑜𝑟2=𝑘𝑒𝑄\\n𝑎3𝑟', metadata={'source': 'books/Ch24 (revised2022)(2).pdf', 'page': 14}),\n",
              " Document(page_content='Spherically Symmetric Distribution, summary\\nInside the sphere, Evaries linearly with r\\n\\uf0a7E→ 0 as r→ 0\\nThe field outside the sphere is equivalent \\nto that of a point charge located at the \\ncenter of the sphere.\\nSection  24.3\\n16', metadata={'source': 'books/Ch24 (revised2022)(2).pdf', 'page': 15}),\n",
              " Document(page_content='Exp. 2: Field at a Distance from a Line of Charge\\nCylindrical charge distribution ( cylindrical symmetry ).\\n\\uf0a7Select a cylinder (radius of r& length of ℓ) as Gaussian \\nsurface .\\npoints in the radial direction (perpendicular to the surface) and \\nis constant in magnitude at every point on the curved part of the \\nsurface. (Why?)\\nUse Gauss’ s Law to find the field.\\nThe field through the ends of the cylinder is 0 since the field is \\nparallel to these surfaces.\\nE\\uf072\\nrkrllElrl EqdAE d\\nein\\nE\\n\\uf06c\\n\\uf065\\uf070\\uf06c\\uf065\\uf06c\\uf070\\uf065\\n22)2(\\n000\\n\\uf03d\\uf03d\\uf03d\\uf03d\\uf03d\\uf0d7\\uf03d\\uf046 \\uf0f2\\uf0f2AE\\uf072\\uf072\\nSection  24.317+\\n+\\n+\\n+\\n+\\n+\\n+\\n+\\n', metadata={'source': 'books/Ch24 (revised2022)(2).pdf', 'page': 16}),\n",
              " Document(page_content='Exp. 3: Field Due to a Plane of Charge\\nmust be perpendicular to the plane and must \\nhave the same magnitude at all points \\nequidistant from the plane. (Why?)\\nChoose a small cylinder whose axis is \\nperpendicular to the plane as the Gaussian \\nsurface.\\nOnly the top and bottom surfaces of the \\nGaussian surface contribute to the electric flux. \\nThe flux through each end of the cylinder is EA\\nand so the total flux is 2 EA.\\nThe total charge inside the Gaussian surface is \\nσA.\\nApplying Gauss’ s law:\\nNote, Edoes not depend on r.\\nTherefore, the field is uniform everywhere.\\nE\\uf072\\n0 0 2 and 2\\uf065\\uf073\\n\\uf065\\uf073\\uf03d \\uf03d\\uf03d\\uf046 EAEAE\\n18+++++++\\n+++++++\\n+++++++\\n+++++++\\n+++++++\\n+++++++\\n+++++++\\n+++++++\\n', metadata={'source': 'books/Ch24 (revised2022)(2).pdf', 'page': 17}),\n",
              " Document(page_content='Exp. 4: Properties of a Conductor in Electrostatic Equilibrium\\nWhen there is no net motion of charge within a conductor, the conductor is said \\nto be in electrostatic equilibrium .\\n(P1) The electric field is zero everywhere inside the conductor.\\n\\uf0a7Whether the conductor is solid or hollow\\n(P2) If the conductor is isolated and carries a charge, the charge resides on its \\nsurface .\\n(P3) The electric field at a point just outside a charged conductor is perpendicular \\nto the surface and has a magnitude of \\uf073/ ɛ0.\\n\\uf0a7\\uf073is the surface charge density at that point.\\nSection  24.419\\n(P4) On an irregularly shaped conductor, the \\nsurface charge density is greatest at \\nlocations where the radius of curvature is \\nthe smallest.', metadata={'source': 'books/Ch24 (revised2022)(2).pdf', 'page': 18}),\n",
              " Document(page_content='Property 1: Fieldinside= 0\\nConsider a conducting slab in an external field.\\nIf the field inside the conductor were not zero, \\nfree electrons in the conductor would experience \\nan electrical force.\\nThese electrons would accelerate and would not \\nbe in equilibrium. Therefore, there cannot be a \\nfield inside the conductor.\\nBefore the external field is applied, free electrons \\nare distributed throughout the conductor.\\nWhen the external field is applied, the electrons\\nSection  24.4\\nredistribute until the magnitude of the internal field equals the magnitude of the \\nexternal field, resulting in a net field of zero inside the conductor.\\nThis redistribution takes about 10-16 s and can be considered instantaneous.\\nIf the conductor is hollow, the electric field inside the conductor is also zero.\\n20', metadata={'source': 'books/Ch24 (revised2022)(2).pdf', 'page': 19}),\n",
              " Document(page_content='Property 2: Charge Resides on the Surface\\nChoose a Gaussian surface inside but close to the \\nactual surface.\\nThe electric field inside is zero (property 1).\\nThere is no net flux through the Gaussian surface.\\nBecause the Gaussian surface can be as close to \\nthe actual surface as desired, there can be no \\ncharge inside the surface.\\nSince no net charge can be inside the surface, any \\nnet charge must reside onthe surface .\\nGauss’ s law does NOT indicate the distribution of \\nthese charges , only that it must be on the surface \\nof the conductor.\\nSection  24.4\\n21', metadata={'source': 'books/Ch24 (revised2022)(2).pdf', 'page': 20}),\n",
              " Document(page_content='Property 3: Field’ s Magnitude and Direction\\nChoose a cylinder as the Gaussian surface.\\nThe field must be perpendicular to the surface.\\n\\uf0a7If there were a parallel component to    , \\ncharges would experience a force and \\naccelerate along the surface and it would not \\nbe in equilibrium.\\nThe net flux through the Gaussian surface is \\nthrough only the flat face outside the conductor.\\n\\uf0a7The field here is perpendicular to the surface.\\nApplying Gauss’ s law:\\nSection  24.4\\nE\\uf072\\n0 0 and \\uf065\\uf073\\n\\uf065\\uf073\\uf03d \\uf03d\\uf03d\\uf046 EAEAE22', metadata={'source': 'books/Ch24 (revised2022)(2).pdf', 'page': 21}),\n",
              " Document(page_content='Exp. 5: Sphere and Shell Example\\nConceptualize\\n\\uf0a7Similar to the insulating sphere example\\n\\uf0a7Now a charged insulating sphere is surrounded \\nby a conducting shell\\n\\uf0a7Note different charges on the sphere and shell\\nCategorize\\n\\uf0a7System has spherical symmetry\\n\\uf0a7Gauss’s Law can be applied\\nSection  24.4\\nAnalyze\\n\\uf0a7Construct a Gaussian sphere between the surface of the solid sphere and \\nthe inner surface of the shell: Region 2, a < r < b; Charge inside is +Q\\n\\uf0a7The electric field lines must be directed radially outward and be constant in \\nmagnitude on the Gaussian surface.\\n23', metadata={'source': 'books/Ch24 (revised2022)(2).pdf', 'page': 22}),\n",
              " Document(page_content='\\uf0a7The electric field for each area can be calculated.\\nFinalize\\n\\uf0a7Check the charge distribution: -Q on the inner surface \\nand the other -Q on the outer surface.\\n\\uf0a7Think about other possible combinations.\\n\\uf0a7What if the sphere were conducting instead of insulating?\\nc)r (for         c)r b(for        0b)r a(for        a)r(for        \\n2 432 23 1\\n\\uf03e \\uf02d\\uf03d\\uf03c\\uf03c \\uf03d\\uf03c\\uf03c \\uf03d\\uf03c \\uf03d\\nrQk EErQk EraQk E\\neee\\nSection  24.4Exp. 5: Sphere and Shell Example, summary\\n24', metadata={'source': 'books/Ch24 (revised2022)(2).pdf', 'page': 23}),\n",
              " Document(page_content='AP10006 Physics II\\nLight &Optics, Electricity &Magnetism', metadata={'source': 'books/Ch23 (revised2022)(2).pdf', 'page': 0}),\n",
              " Document(page_content='Section Introduction1.Electric Fields\\n2.Gauss’s Law\\n3.Electric Potential \\n4.Capacitance & Dielectrics\\n5.Current & Resistance\\n6.Direct -Current circuitsContents for Electricity\\n2', metadata={'source': 'books/Ch23 (revised2022)(2).pdf', 'page': 1}),\n",
              " Document(page_content='Chapter 23 (a)\\nElectric Fields\\n(point charges)', metadata={'source': 'books/Ch23 (revised2022)(2).pdf', 'page': 2}),\n",
              " Document(page_content='Topics being covered in Chapter 23 –Electric fields\\n•Properties of electric charges\\n•Charging objects by induction\\n•Coulomb’s law\\n•The electric field\\n•Electric field of a continuous charge distribution\\n•Electric field lines\\n•Motion of a charged particle in a uniform electric field  \\nIntroduction4', metadata={'source': 'books/Ch23 (revised2022)(2).pdf', 'page': 3}),\n",
              " Document(page_content='Electromagnetic Forces\\nThe concept of force links the study of electromagnetism to previous study.\\nThe electromagnetic force between charged particles is one of the fundamental \\nforces of nature.\\nIntroductionElectric Charges\\nThere are two kinds of electric charges\\n\\uf0a7called positive charges and negative charges\\ne.g., \\n\\uf0a7Electrons carry negative charges\\n\\uf0a7Protons carry positive charges.\\nCharges of the same sign repel one another and charges with opposite signs \\nattract one another . (Like charges repel; Unlike charges attract)\\n5', metadata={'source': 'books/Ch23 (revised2022)(2).pdf', 'page': 4}),\n",
              " Document(page_content='Electric Charges and forces\\nThe rubber rod is negatively charged \\nand the glass rod positively charged. \\nThe two rods will attract .\\nSection  23.1\\nThe rubber rod is negatively charged. \\nThe second rubber rod is also negatively \\ncharged. The two rods will repel .\\n6Charge of different signs Charge of same sign', metadata={'source': 'books/Ch23 (revised2022)(2).pdf', 'page': 5}),\n",
              " Document(page_content='Examples of Field Forces\\n\\uf097Field forces (non -contact forces) act through \\nempty space\\nGravitational forceElectric force Magnetic forceElectromagnetic Forces\\nBetween two masses Between two \\nelectric chargesBetween two \\nmagnets\\nThere exists interaction among \\nelectric charges and magnets too.\\n7', metadata={'source': 'books/Ch23 (revised2022)(2).pdf', 'page': 6}),\n",
              " Document(page_content='Elementary Particles\\nSection  23.3\\n8Electric charge exists as discrete packets in most situations. \\n(Charges are quantized .)\\nIt was discovered that the charge of an object must be q= \\uf0b1Ne, \\nwhere\\n•Nis an integer\\n•e= 1.6 x 10-19C is the fundamental unit of charge(\\uf02de)\\n(+e)', metadata={'source': 'books/Ch23 (revised2022)(2).pdf', 'page': 7}),\n",
              " Document(page_content='Charging an Object\\nElectric charge is always conserved in an isolated system.\\n\\uf097Electrons (i.e., negative charges) \\nare transferred from the glass to \\nthe silk.\\n\\uf097An equal positive charge is left on \\nthe rod.Example:  A glass rod is rubbed with silk◦We cannot create charges but \\ntransfer charges from one object to \\nanother.', metadata={'source': 'books/Ch23 (revised2022)(2).pdf', 'page': 8}),\n",
              " Document(page_content='Conductors\\nElectrical conductors are materials in which some of the electrons are free electrons.\\n\\uf0a7Free electrons are not bound to the atoms and can move relatively freely through \\nthe material. Examples of good conductors include copper, aluminum and silver.\\n\\uf0a7When a good conductor is charged in a small region, the charge readily \\ndistributes itself over the entire surface of the material.\\nSection  23.2Insulators\\nElectrical insulators are materials in which all of the electrons are bound to atoms. \\n\\uf0a7These electrons can not move relatively freely through the material.\\n\\uf0a7Examples of good insulators include glass, rubber and wood.\\n\\uf0a7When a good insulator is charged in a small region, the charge is unable to move \\nto other regions of the material.\\n10', metadata={'source': 'books/Ch23 (revised2022)(2).pdf', 'page': 9}),\n",
              " Document(page_content='Charging a Conductor by Induction\\n', metadata={'source': 'books/Ch23 (revised2022)(2).pdf', 'page': 10}),\n",
              " Document(page_content='Charge Rearrangement in Insulators\\n\\uf097A process similar to induction can take \\nplace in insulators.\\n\\uf097The charges within the molecules of the \\nmaterial are rearranged.\\n\\uf097The proximity of the positive charges on \\nthe surface of the object and the \\nnegative charges on the surface of the \\ninsulator results in an attractive force \\nbetween the object and the insulator.\\n', metadata={'source': 'books/Ch23 (revised2022)(2).pdf', 'page': 11}),\n",
              " Document(page_content='Coulomb’ s Law\\nCharles Coulomb measured the \\nmagnitudes of electric forces between \\ntwo small charged spheres.\\nThe force is inversely proportional to \\nthe square of the separation rbetween \\nthe charges and directed along the line \\njoining them.\\nThe force is proportional to the product \\nof the charges, q1and q2, on the two \\nparticles.\\nThe electrical force between two \\nstationary point charges is given by \\nCoulomb’ s Law.\\nSection  23.3\\n13Coulomb’s torsion balance, \\nused to establish the \\ninverse square law.', metadata={'source': 'books/Ch23 (revised2022)(2).pdf', 'page': 12}),\n",
              " Document(page_content='Coulomb’ s Law, cont.\\nSection  23.3Mathematically, the magnitude of the force between two stationary charges \\nis\\nThe SI unit of charge is the coulomb C. \\n\\uf0a7ke= 8.9876 x 109N.m2/C2= 1/( 4peo) is called the Coulomb constant.\\n\\uf0a7eo= 8.8542 x 10-12C2/ N.m2is the permittivity of free space.\\nRemember the charges need to be in coulombs. eis the smallest unit of charge \\nexcept quarks. Since e= 1.6 x 10-19C,  so 1 C needs 6.24 x 1018electrons or protons.\\nTypical charges can be in the µCrange.\\nRemember that force is a vector quantity.\\n14𝐹𝑒=𝑘𝑒|𝑞1||𝑞2|\\n𝑟2', metadata={'source': 'books/Ch23 (revised2022)(2).pdf', 'page': 13}),\n",
              " Document(page_content='Vector Nature of Electric Forces\\nIn vector form, the force between charges is\\nis a unit vector directed from q1to q2.\\n(a) The like charges produce a repulsive force \\nbetween them.\\n(b) The unlike charges produce an attractive \\nforce between them.\\n12ˆr\\nSection  23.3\\nElectrical forces obey Newton’ s Third Law.\\nThe force on q1is equal in magnitude and \\nopposite in direction to the force on q2\\nWith like signs for the charges, the product \\nq1q2is positive and the force is repulsive.\\n15\\n12 221\\n12ˆ\\nrqqr Fek\\uf03d\\uf072\\n12 21F F\\uf072\\uf072\\n\\uf02d\\uf03d', metadata={'source': 'books/Ch23 (revised2022)(2).pdf', 'page': 14}),\n",
              " Document(page_content='Multiple Charges\\nThe resultant force on any one charge equals the vector sum of the forces \\nexerted by the other individual charges that are present.\\n\\uf0a7Remember to add the forces as vectors.\\nFor example, if four charges are present, the resultant force on one of these \\nequals the vector sum of the forces exerted on it by each of the other charges.   \\nSection  23.316\\n41 31 21 1 FFFF\\uf072\\uf072\\uf072\\uf072\\n\\uf02b\\uf02b\\uf03d', metadata={'source': 'books/Ch23 (revised2022)(2).pdf', 'page': 15}),\n",
              " Document(page_content='Example 23.4 Finding the Charge on the Spheres\\nThe spheres are in equilibrium.\\nSince they are separated, they exert a repulsive \\nforce on each other.\\n\\uf0a7Charges are like charges\\nModel each sphere as a particle in equilibrium.\\nProceed as usual with equilibrium problems, \\nnoting one force is an electrical force.', metadata={'source': 'books/Ch23 (revised2022)(2).pdf', 'page': 16}),\n",
              " Document(page_content='Electrical Force with Other Forces, Example\\nSection  23.3\\nThe force diagram includes the components of the tension, \\nthe electric force, and the gravity force.\\nSolve for | q| \\nNote that you cannot determine the sign of q, only that they \\nboth have the same sign.\\n18\\n', metadata={'source': 'books/Ch23 (revised2022)(2).pdf', 'page': 17}),\n",
              " Document(page_content='Section  23.4Electric Field –Definition \\nAn electric field is said to exist in the region of space around a charged object.\\n\\uf0a7This charged object is the source charge.\\nWhen another charged object, the test charge , enters this electric field, an \\nelectric force acts on it.\\nThe electric field is defined as the electric force on the test charge per unit charge.\\nThe electric field vector, , at a point in space is defined as the electric force\\nacting on a positive test charge, qo, placed at that point divided by the test charge:\\nE\\uf072\\n19𝐄≡Ԧ𝐅\\n𝑞𝑜\\nThe SI unit of 𝐄is N/C (or more often V/m)', metadata={'source': 'books/Ch23 (revised2022)(2).pdf', 'page': 18}),\n",
              " Document(page_content='Electric Field, Notes\\nis the field produced by some charge or charge distribution, separate \\nfrom the test charge.\\nThe existence of an electric field is a property of the source charge.\\n\\uf0a7The presence of the test charge is not necessary for the field to exist.\\nThe test charge serves as a detector of the field.\\nSection  23.4\\nThe direction of is that of the force on a \\npositive test charge.\\nWe can also say that an electric field exists at a \\npoint if a test charge at that point experiences an \\nelectric force.\\nE\\uf072\\nE\\uf072\\n20\\nറ𝐹\\n𝐄≡Ԧ𝐅\\n𝑞𝑜', metadata={'source': 'books/Ch23 (revised2022)(2).pdf', 'page': 19}),\n",
              " Document(page_content='More About Electric Field Direction\\na) qis positive, the force is directed away from q.\\nb) The direction of the field is also away from the positive source charge.\\nc) qis negative, the force is directed toward q.\\nd) The field is also toward the negative source charge.\\nSection  23.4\\n21', metadata={'source': 'books/Ch23 (revised2022)(2).pdf', 'page': 20}),\n",
              " Document(page_content='Electric Field Lines, Point Charge\\nThe field lines radiate outward in all directions.\\n\\uf0a7In three dimensions, the distribution is spherical.\\nThe lines are directed away from the source charge.\\n\\uf0a7A positive test charge would be repelled away \\nfrom the positive source charge.\\nSection  23.6\\nThe field lines radiate inward in all directions.\\nThe lines are directed toward the source charge.\\n\\uf0a7A positive test charge would be attracted \\ntoward the negative source charge.\\n22', metadata={'source': 'books/Ch23 (revised2022)(2).pdf', 'page': 21}),\n",
              " Document(page_content='Relationship Between F and E\\nIf qis positive, the force and the field are in the same direction.\\nIf qis negative, the force and the field are in opposite directions.\\nSection  23.4\\nEF\\uf072\\uf072\\nq\\uf03dElectric Field, Vector Form\\nRemember Coulomb’ s law, between the source and test charges, can be \\nexpressed as \\nThen, the electric field will be \\n23Ԧ𝐅𝑒=𝑘𝑒𝑞𝑞𝑜\\n𝑟2ො𝐫\\n𝐄=Ԧ𝐅𝑒\\n𝑞𝑜=𝑘𝑒𝑞\\n𝑟2ො𝐫', metadata={'source': 'books/Ch23 (revised2022)(2).pdf', 'page': 22}),\n",
              " Document(page_content='Electric Fields from Multiple Charges\\n•At any point P, the total electric field \\ndue to a group of source charges \\nequals the vector sum of the electric \\nfields of all the charges.\\n𝐄=\\u0dcd\\n𝑖𝐄𝑖\\n=𝑘𝑒\\u0dcd\\n𝑖𝑞𝑖\\n𝑟𝑖2ො𝐫𝑖\\nThe figure represent the vector sum of the \\nelectric field produced by two points charges.\\n𝐄=𝐄1+𝐄2=𝑘𝑒𝑞1\\n𝑟12ො𝐫1+𝑘𝑒𝑞2\\n𝑟22ො𝐫2', metadata={'source': 'books/Ch23 (revised2022)(2).pdf', 'page': 23}),\n",
              " Document(page_content='Electric Field –Continuous Charge Distribution, cont\\nProcedures in finding the total electric field at point P:\\n\\uf0a7Divide the charge distribution into small elements, \\neach of which contains Δq.\\n\\uf0a7Calculate the electric field due to one of these \\nelements at point P.\\n\\uf0a7Evaluate the total field by summing the \\ncontributions of all the charge elements.\\nEquations:\\nFor the individual charge elements\\nBecause the charge distribution is continuous\\n25\\nr Eˆ2rqke\\uf044\\uf03d\\uf044\\uf072\\nr r E ˆˆqlim2 i 2i\\n0\\uf0f2\\uf0e5\\uf03d\\uf044\\uf03d\\n\\uf0ae\\uf044 rdqk\\nrke\\ni iqe\\ni\\uf072A continuous object can have distributed charges with varying \\ncharge densities at different locations.\\nThis becomes an integration. \\nMore details are provided at the end of this chapter.', metadata={'source': 'books/Ch23 (revised2022)(2).pdf', 'page': 24}),\n",
              " Document(page_content='Motion of Charged Particles\\nWhen a charged particle is placed in an electric field, it experiences an electrical \\nforce.\\nIf this is the only force on the particle, it must be the net force.\\nThe net force will cause the particle to accelerate according to Newton ’s second law.\\nSection  23.7If the field is uniform, then the acceleration is constant.\\nThe particle under constant acceleration model can be applied to the motion of \\nthe particle.\\n\\uf0a7The electric force causes a particle to move according to the models of \\nforces and motion.\\nIf the particle has a positive charge, its acceleration is in the direction of the field.\\nIf the particle has a negative charge, its acceleration is in the direction opposite \\nthe electric field.\\n26', metadata={'source': 'books/Ch23 (revised2022)(2).pdf', 'page': 25}),\n",
              " Document(page_content='Electron in a Uniform Field (Ex. 23.10)\\nSection  23.7\\n 27', metadata={'source': 'books/Ch23 (revised2022)(2).pdf', 'page': 26}),\n",
              " Document(page_content='Cont. Electron in a Uniform Field (Ex. 23.10)\\nThe electron is projected horizontally into a uniform \\nelectric field.\\nThe electron undergoes a downward acceleration.\\n\\uf0a7It is negative, so the acceleration is opposite \\nthe direction of the field.\\nIts motion is parabolic while between the plates.\\nSection  23.7\\n 28', metadata={'source': 'books/Ch23 (revised2022)(2).pdf', 'page': 27}),\n",
              " Document(page_content='Chapter 23 (b)\\nElectric Fields\\n(continuous charge distribution, only concepts are required but the calculations \\ndetails are NOT required )', metadata={'source': 'books/Ch23 (revised2022)(2).pdf', 'page': 28}),\n",
              " Document(page_content='Electric Field –Continuous Charge Distribution, cont\\nProcedures in finding the total electric field at point P:\\n\\uf0a7Divide the charge distribution into small elements, \\neach of which contains Δq.\\n\\uf0a7Calculate the electric field due to one of these \\nelements at point P.\\n\\uf0a7Evaluate the total field by summing the \\ncontributions of all the charge elements.\\nEquations:\\nFor the individual charge elements\\nBecause the charge distribution is continuous\\n30\\nr Eˆ2rqke\\uf044\\uf03d\\uf044\\uf072\\nr r E ˆˆqlim2 i 2i\\n0\\uf0f2\\uf0e5\\uf03d\\uf044\\uf03d\\n\\uf0ae\\uf044 rdqk\\nrke\\ni iqe\\ni\\uf072A continuous object can have distributed charges with varying \\ncharge densities at different locations.\\nThis becomes an integration. \\nMore details are provided at the end of this chapter.', metadata={'source': 'books/Ch23 (revised2022)(2).pdf', 'page': 29}),\n",
              " Document(page_content='Charge Densities\\n𝜌is the Volume charge density .\\nWhen a charge Q is distributed evenly throughout a volume V\\n\\uf0a7𝜌≡Q/ V (in units of C/m3)\\n𝜎is the Surface charge density . \\nWhen a charge Q is distributed evenly over a surface area A\\n\\uf0a7𝜎≡Q/ A  (in units of C/m2)\\n𝜆is the Linear charge density .\\nWhen a charge Q is distributed evenly along a line of length ℓ\\n\\uf0a7𝜆≡Q/ ℓ(in units of C/m)\\nSection  23.5Amount of Charge in an Infinitesimally Small Volume/Area/Length\\nWhen charges are NOT uniformly distributed over a volume, surface, or line, the \\namount of charge, 𝑑𝑞, in a small element is given by\\n\\uf0a7𝑑𝑞=𝜌𝑑𝑉 for a small volume of 𝑑𝑉\\n\\uf0a7𝑑𝑞=𝜎𝑑𝐴for a small area of 𝑑𝐴\\n\\uf0a7𝑑𝑞=𝜆dℓ  for a small area of dℓ\\n31(𝑑𝑞=𝜌𝑑𝑥𝑑𝑦𝑑𝑧in Cartesian coordinates)\\n(𝑑𝑞=𝜎𝑑𝑥𝑑𝑦for surface in xy-plane)\\n(𝑑𝑞=𝜆𝑑𝑥for line along x-direction)', metadata={'source': 'books/Ch23 (revised2022)(2).pdf', 'page': 30}),\n",
              " Document(page_content='Problem -Solving Strategy\\nConceptualize\\n\\uf0a7Establish a mental representation of the problem.\\n\\uf0a7Imagine the electric field produced by the charges or charge distribution.\\nCategorize\\n\\uf0a7Individual charge? Group of individual charges? Continuous distribution of charges?\\nSection  23.5Analyze\\n\\uf0a7Analyzing a group of individual charges : \\n\\uf0a7Use the superposition principle, find the fields due to the individual charges at the \\npoint of interest and then add them as vectors to find the resultant field.\\n\\uf0a7Analyzing a continuous charge distribution:\\n\\uf0a7The vector sums for evaluating the total electric field at some point must be \\nreplaced with vector integrals.\\n\\uf0a7Divide the charge distribution into infinitesimal pieces, calculate the vector sum by \\nintegrating over the entire charge distribution.\\n\\uf0a7Symmetry: Taking advantage of any symmetry to simplify calculations.\\n32', metadata={'source': 'books/Ch23 (revised2022)(2).pdf', 'page': 31}),\n",
              " Document(page_content='A few terminologies in Definite Integral and a few examples of \\nindefinite integral\\nSection  23.533\\n\\uf05b\\uf05d\\nrange. integral  theis ][;  of derivative  theis )(function; integral called is integrand; called is )()( )( )( )(\\na, bF(x) xfF(x)xfaFbF xF dxxfb\\nab\\na\\uf02d\\uf03d\\uf03d\\uf0f2\\n1\\n11\\uf02b\\n\\uf02b\\uf03d\\uf0f2n nxndxx\\n(x) dxxln1\\uf03d\\uf0f2\\nx dxxx dxx\\nsin coscos sin\\n\\uf03d\\uf02d\\uf03d\\n\\uf0f2\\uf0f2', metadata={'source': 'books/Ch23 (revised2022)(2).pdf', 'page': 32}),\n",
              " Document(page_content='Example –Charged R od\\nThe rod of length 𝑙has a uniform charge density λand a total charge Q. Calculate the \\nelectric field at a point P that is located along the long axis of rod and a distance a \\nfrom one end. \\nConceptualize: The field      at point P due to each segment of charge on the rod is in \\nthe negative xdirection because every segment carries a positive charge.\\nCategorize: The continuous rod results in the field produced by a continuous charge \\ndistribution; each segment produces a field in the same direction, -x.\\nAnalyze: Choose dqas a segment of the rod . The segment has a length of dx.By \\nsymmetry, the field at an axial point must be along the central axis.\\nE\\uf072\\nd\\n) (1 1 12 22 2\\nalaQk\\nalalQkxkxdxkxdxk Exdxkxdqk dEdx dq\\ne\\neal\\na eal\\naeal\\naee e\\n\\uf02b\\uf03d\\uf0fa\\uf0fb\\uf0f9\\n\\uf0ea\\uf0eb\\uf0e9\\n\\uf02b\\uf02d\\uf03d\\uf0fa\\uf0fb\\uf0f9\\n\\uf0ea\\uf0eb\\uf0e9\\uf02d\\uf03d\\uf03d \\uf03d\\uf03d\\uf03d\\uf03d\\n\\uf02b\\uf02b \\uf02b\\uf0f2 \\uf0f2\\n\\uf06c\\uf06c\\uf06c\\uf06c\\uf06c\\n1\\n11\\uf02b\\n\\uf02b\\uf03d\\uf0f2n nxndxxVideo: Derivation ', metadata={'source': 'books/Ch23 (revised2022)(2).pdf', 'page': 33}),\n",
              " Document(page_content='Charged Disk\\nThe disk has a radius Rand a uniform charge density σ. Calculate the \\nelectric field at position P on the central axis. \\nChoose dqas a ring of radius r. The ring has a surface area 2 πrdr.\\nBy symmetry, the field at an axial point must be along the central axis.\\nSection  23.5\\n\\uf0fa\\uf0fb\\uf0f9\\n\\uf0ea\\uf0eb\\uf0e9\\n\\uf02b\\uf02d \\uf03d\\uf02d\\uf02b\\uf03d\\uf02b \\uf03d\\uf02b\\uf03d\\uf02b\\uf03d \\uf03d\\uf02b\\uf03d\\uf03d\\uf03d\\uf03d \\uf03d\\uf03d\\n\\uf02d\\uf02d\\uf0f2 \\uf0f2\\n2/12 2 02/12 202 2/3 2 2\\n02/32 22/32 2 22/12 22\\n) (1 22/1) ()( ) () (2) (2cos) /( / coscos2) 2(\\nRxxkrxxkrd rx xkrxrdrxk Erxrdrxkydqk dErxxyxydqk dErdr rdr dA dq\\neR\\neR\\neR\\ne xe e xe x\\n\\uf073p p\\uf073p\\uf073 p\\uf073p\\uf073\\uf071\\uf071\\uf071p\\uf073p\\uf073\\uf073y\\n35\\n1\\n11\\uf02b\\n\\uf02b\\uf03d\\uf0f2n nxndxxVideo: Derivation', metadata={'source': 'books/Ch23 (revised2022)(2).pdf', 'page': 34})]"
            ]
          },
          "execution_count": 100,
          "metadata": {},
          "output_type": "execute_result"
        }
      ],
      "source": [
        "documents"
      ]
    },
    {
      "cell_type": "code",
      "execution_count": null,
      "metadata": {},
      "outputs": [],
      "source": [
        "from langchain.document_loaders import Pdf"
      ]
    },
    {
      "cell_type": "code",
      "execution_count": 80,
      "metadata": {},
      "outputs": [],
      "source": [
        "from PyPDF2 import PdfReader"
      ]
    },
    {
      "cell_type": "code",
      "execution_count": 95,
      "metadata": {},
      "outputs": [],
      "source": [
        "loader = PdfReader('books/Ch23 (revised2022)(2).pdf')"
      ]
    },
    {
      "cell_type": "code",
      "execution_count": 96,
      "metadata": {},
      "outputs": [],
      "source": [
        "loader.flattened_pages"
      ]
    },
    {
      "cell_type": "code",
      "execution_count": 97,
      "metadata": {},
      "outputs": [
        {
          "ename": "AttributeError",
          "evalue": "'PdfReader' object has no attribute 'load'",
          "output_type": "error",
          "traceback": [
            "\u001b[0;31m---------------------------------------------------------------------------\u001b[0m",
            "\u001b[0;31mAttributeError\u001b[0m                            Traceback (most recent call last)",
            "Cell \u001b[0;32mIn[97], line 1\u001b[0m\n\u001b[0;32m----> 1\u001b[0m \u001b[43mloader\u001b[49m\u001b[38;5;241;43m.\u001b[39;49m\u001b[43mload\u001b[49m()\n",
            "\u001b[0;31mAttributeError\u001b[0m: 'PdfReader' object has no attribute 'load'"
          ]
        }
      ],
      "source": [
        "loader.load()"
      ]
    },
    {
      "cell_type": "code",
      "execution_count": 98,
      "metadata": {},
      "outputs": [
        {
          "ename": "AttributeError",
          "evalue": "'PdfReader' object has no attribute 'load'",
          "output_type": "error",
          "traceback": [
            "\u001b[0;31m---------------------------------------------------------------------------\u001b[0m",
            "\u001b[0;31mAttributeError\u001b[0m                            Traceback (most recent call last)",
            "Cell \u001b[0;32mIn[98], line 1\u001b[0m\n\u001b[0;32m----> 1\u001b[0m \u001b[43mloader\u001b[49m\u001b[38;5;241;43m.\u001b[39;49m\u001b[43mload\u001b[49m()\n",
            "\u001b[0;31mAttributeError\u001b[0m: 'PdfReader' object has no attribute 'load'"
          ]
        }
      ],
      "source": [
        "loader.load()"
      ]
    },
    {
      "cell_type": "code",
      "execution_count": 41,
      "metadata": {},
      "outputs": [
        {
          "data": {
            "text/plain": [
              "119"
            ]
          },
          "execution_count": 41,
          "metadata": {},
          "output_type": "execute_result"
        }
      ],
      "source": [
        "len(documents)"
      ]
    },
    {
      "cell_type": "code",
      "execution_count": 52,
      "metadata": {
        "id": "3__nT0D4Fkmg"
      },
      "outputs": [],
      "source": [
        "#splitting the text into\n",
        "text_splitter = RecursiveCharacterTextSplitter(chunk_size=1000, chunk_overlap=200)\n",
        "texts = text_splitter.split_documents(documents)"
      ]
    },
    {
      "cell_type": "code",
      "execution_count": 53,
      "metadata": {
        "colab": {
          "base_uri": "https://localhost:8080/"
        },
        "id": "TlU5AlqY4gwj",
        "outputId": "d78fb098-3161-42cd-8ce9-5f98f4ef91d2"
      },
      "outputs": [
        {
          "data": {
            "text/plain": [
              "237"
            ]
          },
          "execution_count": 53,
          "metadata": {},
          "output_type": "execute_result"
        }
      ],
      "source": [
        "len(texts)"
      ]
    },
    {
      "cell_type": "code",
      "execution_count": 54,
      "metadata": {
        "colab": {
          "base_uri": "https://localhost:8080/"
        },
        "id": "Bg6-9jwU4ja_",
        "outputId": "02f45055-0e09-42ba-9ff3-0e7850f06cae"
      },
      "outputs": [
        {
          "data": {
            "text/plain": [
              "Document(page_content='A brief review of the conservation of (mechanical) energy\\nConservation of Mechanical Energy\\n𝐸𝑓𝑖𝑛𝑎𝑙=𝐸𝑖𝑛𝑖𝑡𝑖𝑎𝑙\\n𝐾𝐸𝑓+𝑃𝐸𝑓=𝐾𝐸𝑖+𝑃𝐸𝑖\\nGravitational Potential \\nEnergy transforms to \\nKinetic Energy\\nDecrease in PE\\nIncrease in KE', metadata={'source': 'books/Ch25 (revised2022)(2).pdf', 'page': 3})"
            ]
          },
          "execution_count": 54,
          "metadata": {},
          "output_type": "execute_result"
        }
      ],
      "source": [
        "texts[3]"
      ]
    },
    {
      "cell_type": "markdown",
      "metadata": {
        "id": "YsYsIy8F4cdm"
      },
      "source": [
        "## create the DB"
      ]
    },
    {
      "cell_type": "code",
      "execution_count": 55,
      "metadata": {
        "colab": {
          "base_uri": "https://localhost:8080/"
        },
        "id": "Q_eTIZwf4Dk2",
        "outputId": "1cd293c4-716c-402d-d41b-045b6a264041"
      },
      "outputs": [],
      "source": [
        "# Embed and store the texts\n",
        "# Supplying a persist_directory will store the embeddings on disk\n",
        "persist_directory = 'db2'\n",
        "\n",
        "## here we are using OpenAI embeddings but in future we will swap out to local embeddings\n",
        "embedding_function = SentenceTransformerEmbeddings(model_name=\"all-MiniLM-L6-v2\")\n",
        "\n",
        "vectordb = Chroma.from_documents(documents=texts,\n",
        "                                 embedding=embedding_function,\n",
        "                                 persist_directory=persist_directory)"
      ]
    },
    {
      "cell_type": "code",
      "execution_count": 56,
      "metadata": {
        "id": "uRfD_Te-47lb"
      },
      "outputs": [],
      "source": [
        "# persiste the db to disk\n",
        "vectordb.persist()\n",
        "vectordb = None"
      ]
    },
    {
      "cell_type": "code",
      "execution_count": 57,
      "metadata": {
        "colab": {
          "base_uri": "https://localhost:8080/"
        },
        "id": "A-h1y_eAHmD-",
        "outputId": "4a6097fb-e30e-4fa2-ff4d-b972ce7f6154"
      },
      "outputs": [],
      "source": [
        "# Now we can load the persisted database from disk, and use it as normal.\n",
        "vectordb = Chroma(persist_directory=persist_directory,\n",
        "                  embedding_function=embedding_function)"
      ]
    },
    {
      "cell_type": "code",
      "execution_count": null,
      "metadata": {},
      "outputs": [],
      "source": [
        "[\n",
        "  \"UploadedFile(file_id='b88c87cf-0c4b-4e12-b190-b7d96bec0e2f', name='Ch23 (revised2022)(2).pdf', type='application/pdf', size=1941400, _file_urls=file_id: \\\"b88c87cf-0c4b-4e12-b190-b7d96bec0e2f\\\"\\nupload_url: \\\"/_stcore/upload_file/472d6bcc-4043-48e0-abd8-310bd822e65e/b88c87cf-0c4b-4e12-b190-b7d96bec0e2f\\\"\\ndelete_url: \\\"/_stcore/upload_file/472d6bcc-4043-48e0-abd8-310bd822e65e/b88c87cf-0c4b-4e12-b190-b7d96bec0e2f\\\"\\n)\"\n",
        "]"
      ]
    },
    {
      "cell_type": "code",
      "execution_count": null,
      "metadata": {},
      "outputs": [],
      "source": [
        "reader = PdfReader(pdf)"
      ]
    },
    {
      "cell_type": "markdown",
      "metadata": {
        "id": "siLXR-XT0JoI"
      },
      "source": [
        "## Make a retriever"
      ]
    },
    {
      "cell_type": "code",
      "execution_count": 58,
      "metadata": {
        "id": "6ObunFU30Lxh"
      },
      "outputs": [],
      "source": [
        "retriever = vectordb.as_retriever()"
      ]
    },
    {
      "cell_type": "code",
      "execution_count": 59,
      "metadata": {
        "id": "cYA-H59u0Skn"
      },
      "outputs": [],
      "source": [
        "docs = retriever.get_relevant_documents(\"how to calculate surface charge density\")"
      ]
    },
    {
      "cell_type": "code",
      "execution_count": 60,
      "metadata": {},
      "outputs": [
        {
          "data": {
            "text/plain": [
              "[Document(page_content='Charge Densities\\n𝜌is the Volume charge density .\\nWhen a charge Q is distributed evenly throughout a volume V\\n\\uf0a7𝜌≡Q/ V (in units of C/m3)\\n𝜎is the Surface charge density . \\nWhen a charge Q is distributed evenly over a surface area A\\n\\uf0a7𝜎≡Q/ A  (in units of C/m2)\\n𝜆is the Linear charge density .\\nWhen a charge Q is distributed evenly along a line of length ℓ\\n\\uf0a7𝜆≡Q/ ℓ(in units of C/m)\\nSection  23.5Amount of Charge in an Infinitesimally Small Volume/Area/Length\\nWhen charges are NOT uniformly distributed over a volume, surface, or line, the \\namount of charge, 𝑑𝑞, in a small element is given by', metadata={'page': 30, 'source': 'books/Ch23 (revised2022)(2).pdf'}),\n",
              " Document(page_content='Charge Densities\\n𝜌is the Volume charge density .\\nWhen a charge Q is distributed evenly throughout a volume V\\n\\uf0a7𝜌≡Q/ V (in units of C/m3)\\n𝜎is the Surface charge density . \\nWhen a charge Q is distributed evenly over a surface area A\\n\\uf0a7𝜎≡Q/ A  (in units of C/m2)\\n𝜆is the Linear charge density .\\nWhen a charge Q is distributed evenly along a line of length ℓ\\n\\uf0a7𝜆≡Q/ ℓ(in units of C/m)\\nSection  23.5Amount of Charge in an Infinitesimally Small Volume/Area/Length\\nWhen charges are NOT uniformly distributed over a volume, surface, or line, the \\namount of charge, 𝑑𝑞, in a small element is given by\\n\\uf0a7𝑑𝑞=𝜌𝑑𝑉 for a small volume of 𝑑𝑉\\n\\uf0a7𝑑𝑞=𝜎𝑑𝐴for a small area of 𝑑𝐴\\n\\uf0a7𝑑𝑞=𝜆dℓ  for a small area of dℓ\\n31(𝑑𝑞=𝜌𝑑𝑥𝑑𝑦𝑑𝑧in Cartesian coordinates)\\n(𝑑𝑞=𝜎𝑑𝑥𝑑𝑦for surface in xy-plane)\\n(𝑑𝑞=𝜆𝑑𝑥for line along x-direction)', metadata={'page': 30, 'source': 'books/Ch23 (revised2022)(2).pdf'}),\n",
              " Document(page_content='(P3) The electric field at a point just outside a charged conductor is perpendicular \\nto the surface and has a magnitude of \\uf073/ ɛ0.\\n\\uf0a7\\uf073is the surface charge density at that point.\\nSection  24.419\\n(P4) On an irregularly shaped conductor, the \\nsurface charge density is greatest at \\nlocations where the radius of curvature is \\nthe smallest.', metadata={'page': 18, 'source': 'books/Ch24 (revised2022)(2).pdf'}),\n",
              " Document(page_content='When charges are NOT uniformly distributed over a volume, surface, or line, the \\namount of charge, 𝑑𝑞, in a small element is given by\\n\\uf0a7𝑑𝑞=𝜌𝑑𝑉 for a small volume of 𝑑𝑉\\n\\uf0a7𝑑𝑞=𝜎𝑑𝐴for a small area of 𝑑𝐴\\n\\uf0a7𝑑𝑞=𝜆dℓ  for a small area of dℓ\\n31(𝑑𝑞=𝜌𝑑𝑥𝑑𝑦𝑑𝑧in Cartesian coordinates)\\n(𝑑𝑞=𝜎𝑑𝑥𝑑𝑦for surface in xy-plane)\\n(𝑑𝑞=𝜆𝑑𝑥for line along x-direction)', metadata={'page': 30, 'source': 'books/Ch23 (revised2022)(2).pdf'})]"
            ]
          },
          "execution_count": 60,
          "metadata": {},
          "output_type": "execute_result"
        }
      ],
      "source": [
        "docs"
      ]
    },
    {
      "cell_type": "code",
      "execution_count": 61,
      "metadata": {
        "colab": {
          "base_uri": "https://localhost:8080/"
        },
        "id": "h0iAuh_B0ZjE",
        "outputId": "2ffd1da1-ff6c-4ea9-c361-7230dbd5bdc0"
      },
      "outputs": [
        {
          "data": {
            "text/plain": [
              "4"
            ]
          },
          "execution_count": 61,
          "metadata": {},
          "output_type": "execute_result"
        }
      ],
      "source": [
        "len(docs)"
      ]
    },
    {
      "cell_type": "code",
      "execution_count": 62,
      "metadata": {
        "id": "jVWgPJXs1yRq"
      },
      "outputs": [],
      "source": [
        "retriever = vectordb.as_retriever(search_kwargs={\"k\": 2})"
      ]
    },
    {
      "cell_type": "code",
      "execution_count": 63,
      "metadata": {
        "colab": {
          "base_uri": "https://localhost:8080/",
          "height": 35
        },
        "id": "H4N0IhRM0hHL",
        "outputId": "f8058122-1c8a-4c5b-f046-14a90eed5a3b"
      },
      "outputs": [
        {
          "data": {
            "text/plain": [
              "'similarity'"
            ]
          },
          "execution_count": 63,
          "metadata": {},
          "output_type": "execute_result"
        }
      ],
      "source": [
        "retriever.search_type"
      ]
    },
    {
      "cell_type": "code",
      "execution_count": 64,
      "metadata": {
        "colab": {
          "base_uri": "https://localhost:8080/"
        },
        "id": "4jXL9u-u0prF",
        "outputId": "2e6dd94e-bede-4e05-c841-9c755ecfef2a"
      },
      "outputs": [
        {
          "data": {
            "text/plain": [
              "{'k': 2}"
            ]
          },
          "execution_count": 64,
          "metadata": {},
          "output_type": "execute_result"
        }
      ],
      "source": [
        "retriever.search_kwargs"
      ]
    },
    {
      "cell_type": "markdown",
      "metadata": {
        "id": "4Ia-4OXa5IeP"
      },
      "source": [
        "## Make a chain"
      ]
    },
    {
      "cell_type": "code",
      "execution_count": 65,
      "metadata": {
        "id": "MGx8XblM4shW"
      },
      "outputs": [],
      "source": [
        "# create the chain to answer questions\n",
        "qa_chain = RetrievalQA.from_chain_type(llm=OpenAI(),\n",
        "                                  chain_type=\"stuff\",\n",
        "                                  retriever=retriever,\n",
        "                                  return_source_documents=True)"
      ]
    },
    {
      "cell_type": "code",
      "execution_count": 66,
      "metadata": {
        "id": "LZEo26mw8e5k"
      },
      "outputs": [],
      "source": [
        "## Cite sources\n",
        "def process_llm_response(llm_response):\n",
        "    print(llm_response['result'])\n",
        "    print('\\n\\nSources:')\n",
        "    for source in llm_response[\"source_documents\"]:\n",
        "        print(source.metadata['source'])"
      ]
    },
    {
      "cell_type": "code",
      "execution_count": 67,
      "metadata": {
        "colab": {
          "base_uri": "https://localhost:8080/"
        },
        "id": "wKfX4vX-5RFT",
        "outputId": "b3902fd2-86cc-4020-86a9-99883a996d20"
      },
      "outputs": [
        {
          "name": "stdout",
          "output_type": "stream",
          "text": [
            " To calculate the flux through a cube, you can use the equation ΦE= EL2 for one face and ΦE= EL2 for the opposite face. The flux through the other four sides will be 0. Then, you can add up the individual flux values to find the total flux through the cube.\n",
            "\n",
            "\n",
            "Sources:\n",
            "books/Ch24 (revised2022)(2).pdf\n",
            "books/Ch24 (revised2022)(2).pdf\n"
          ]
        }
      ],
      "source": [
        "# full example\n",
        "query = \"How to calculate flux through cube?\"\n",
        "llm_response = qa_chain(query)\n",
        "process_llm_response(llm_response)"
      ]
    },
    {
      "cell_type": "code",
      "execution_count": 68,
      "metadata": {
        "colab": {
          "base_uri": "https://localhost:8080/"
        },
        "id": "olRm73t3rNt2",
        "outputId": "20fb1b17-6562-421d-a60e-c67b97ca67d7"
      },
      "outputs": [
        {
          "data": {
            "text/plain": [
              "{'query': 'How to calculate surface charge density?',\n",
              " 'result': ' To calculate the surface charge density, divide the charge Q evenly distributed over a surface area A by the surface area A. The equation for surface charge density is 𝜎≡Q/ A (in units of C/m2).',\n",
              " 'source_documents': [Document(page_content='Charge Densities\\n𝜌is the Volume charge density .\\nWhen a charge Q is distributed evenly throughout a volume V\\n\\uf0a7𝜌≡Q/ V (in units of C/m3)\\n𝜎is the Surface charge density . \\nWhen a charge Q is distributed evenly over a surface area A\\n\\uf0a7𝜎≡Q/ A  (in units of C/m2)\\n𝜆is the Linear charge density .\\nWhen a charge Q is distributed evenly along a line of length ℓ\\n\\uf0a7𝜆≡Q/ ℓ(in units of C/m)\\nSection  23.5Amount of Charge in an Infinitesimally Small Volume/Area/Length\\nWhen charges are NOT uniformly distributed over a volume, surface, or line, the \\namount of charge, 𝑑𝑞, in a small element is given by', metadata={'page': 30, 'source': 'books/Ch23 (revised2022)(2).pdf'}),\n",
              "  Document(page_content='Charge Densities\\n𝜌is the Volume charge density .\\nWhen a charge Q is distributed evenly throughout a volume V\\n\\uf0a7𝜌≡Q/ V (in units of C/m3)\\n𝜎is the Surface charge density . \\nWhen a charge Q is distributed evenly over a surface area A\\n\\uf0a7𝜎≡Q/ A  (in units of C/m2)\\n𝜆is the Linear charge density .\\nWhen a charge Q is distributed evenly along a line of length ℓ\\n\\uf0a7𝜆≡Q/ ℓ(in units of C/m)\\nSection  23.5Amount of Charge in an Infinitesimally Small Volume/Area/Length\\nWhen charges are NOT uniformly distributed over a volume, surface, or line, the \\namount of charge, 𝑑𝑞, in a small element is given by\\n\\uf0a7𝑑𝑞=𝜌𝑑𝑉 for a small volume of 𝑑𝑉\\n\\uf0a7𝑑𝑞=𝜎𝑑𝐴for a small area of 𝑑𝐴\\n\\uf0a7𝑑𝑞=𝜆dℓ  for a small area of dℓ\\n31(𝑑𝑞=𝜌𝑑𝑥𝑑𝑦𝑑𝑧in Cartesian coordinates)\\n(𝑑𝑞=𝜎𝑑𝑥𝑑𝑦for surface in xy-plane)\\n(𝑑𝑞=𝜆𝑑𝑥for line along x-direction)', metadata={'page': 30, 'source': 'books/Ch23 (revised2022)(2).pdf'})]}"
            ]
          },
          "execution_count": 68,
          "metadata": {},
          "output_type": "execute_result"
        }
      ],
      "source": [
        "# break it down\n",
        "query = \"How to calculate surface charge density?\"\n",
        "llm_response = qa_chain(query)\n",
        "# process_llm_response(llm_response)\n",
        "llm_response"
      ]
    },
    {
      "cell_type": "code",
      "execution_count": null,
      "metadata": {
        "colab": {
          "base_uri": "https://localhost:8080/"
        },
        "id": "wg-e6fh6rNwz",
        "outputId": "4b8d1e0e-b039-4e21-c233-a6c308cc5e25"
      },
      "outputs": [
        {
          "name": "stdout",
          "output_type": "stream",
          "text": [
            " Iron Pillar and Uncorrelated Ventures.\n",
            "\n",
            "\n",
            "Sources:\n",
            "new_articles/05-03-ai-powered-supply-chain-startup-pando-lands-30m-investment.txt\n",
            "new_articles/05-03-ai-powered-supply-chain-startup-pando-lands-30m-investment.txt\n"
          ]
        }
      ],
      "source": [
        "query = \"Who led the round in Pando?\"\n",
        "llm_response = qa_chain(query)\n",
        "process_llm_response(llm_response)"
      ]
    },
    {
      "cell_type": "code",
      "execution_count": null,
      "metadata": {
        "colab": {
          "base_uri": "https://localhost:8080/"
        },
        "id": "cuFf8D-rrN0I",
        "outputId": "19c63b88-33e2-4400-eede-f2678231eccb"
      },
      "outputs": [
        {
          "name": "stdout",
          "output_type": "stream",
          "text": [
            " Databricks acquired Okera, a data governance platform with a focus on AI.\n",
            "\n",
            "\n",
            "Sources:\n",
            "new_articles/05-03-databricks-acquires-ai-centric-data-governance-platform-okera.txt\n",
            "new_articles/05-03-databricks-acquires-ai-centric-data-governance-platform-okera.txt\n"
          ]
        }
      ],
      "source": [
        "query = \"What did databricks acquire?\"\n",
        "llm_response = qa_chain(query)\n",
        "process_llm_response(llm_response)"
      ]
    },
    {
      "cell_type": "code",
      "execution_count": null,
      "metadata": {
        "colab": {
          "base_uri": "https://localhost:8080/"
        },
        "id": "t5KETxphrN3d",
        "outputId": "4f4a7dfb-0f5b-4b72-b678-6def5d056d20"
      },
      "outputs": [
        {
          "name": "stdout",
          "output_type": "stream",
          "text": [
            " Generative AI is a type of artificial intelligence that is used to create new content associated with a company, such as content for a website or ads. It can also be used to automate processes and workflows.\n",
            "\n",
            "\n",
            "Sources:\n",
            "new_articles/05-04-slack-updates-aim-to-put-ai-at-the-center-of-the-user-experience.txt\n",
            "new_articles/05-03-nova-is-building-guardrails-for-generative-ai-content-to-protect-brand-integrity.txt\n"
          ]
        }
      ],
      "source": [
        "query = \"What is generative ai?\"\n",
        "llm_response = qa_chain(query)\n",
        "process_llm_response(llm_response)"
      ]
    },
    {
      "cell_type": "code",
      "execution_count": null,
      "metadata": {
        "colab": {
          "base_uri": "https://localhost:8080/"
        },
        "id": "692pHNkFrN5z",
        "outputId": "85124452-c208-4ec4-a35d-be28503ddc42"
      },
      "outputs": [
        {
          "name": "stdout",
          "output_type": "stream",
          "text": [
            " The CMA stands for the Competition and Markets Authority.\n",
            "\n",
            "\n",
            "Sources:\n",
            "new_articles/05-04-cma-generative-ai-review.txt\n",
            "new_articles/05-04-cma-generative-ai-review.txt\n"
          ]
        }
      ],
      "source": [
        "query = \"Who is CMA?\"\n",
        "llm_response = qa_chain(query)\n",
        "process_llm_response(llm_response)"
      ]
    },
    {
      "cell_type": "code",
      "execution_count": null,
      "metadata": {
        "colab": {
          "base_uri": "https://localhost:8080/"
        },
        "id": "IPIhZWAR5n3X",
        "outputId": "68914c62-f8ed-4e22-d889-7991df441d53"
      },
      "outputs": [
        {
          "data": {
            "text/plain": [
              "('similarity', <langchain.vectorstores.chroma.Chroma at 0x7f9f7dc82aa0>)"
            ]
          },
          "execution_count": 27,
          "metadata": {},
          "output_type": "execute_result"
        }
      ],
      "source": [
        "qa_chain.retriever.search_type , qa_chain.retriever.vectorstore"
      ]
    },
    {
      "cell_type": "code",
      "execution_count": null,
      "metadata": {
        "colab": {
          "base_uri": "https://localhost:8080/"
        },
        "id": "3_lp0_796P_-",
        "outputId": "64c01726-6e78-4c12-e409-2fdc839f6611"
      },
      "outputs": [
        {
          "name": "stdout",
          "output_type": "stream",
          "text": [
            "Use the following pieces of context to answer the question at the end. If you don't know the answer, just say that you don't know, don't try to make up an answer.\n",
            "\n",
            "{context}\n",
            "\n",
            "Question: {question}\n",
            "Helpful Answer:\n"
          ]
        }
      ],
      "source": [
        "print(qa_chain.combine_documents_chain.llm_chain.prompt.template)"
      ]
    },
    {
      "cell_type": "markdown",
      "metadata": {
        "id": "SSxVCnNi5h1-"
      },
      "source": [
        "## Deleteing the DB"
      ]
    },
    {
      "cell_type": "code",
      "execution_count": 35,
      "metadata": {
        "colab": {
          "base_uri": "https://localhost:8080/"
        },
        "id": "H7xmepGJ2GAE",
        "outputId": "92b53c84-ef81-4000-db5a-2c2ec09db311"
      },
      "outputs": [
        {
          "name": "stdout",
          "output_type": "stream",
          "text": [
            "  adding: db/ (stored 0%)\n",
            "  adding: db/55b9e854-d984-4f6d-98ad-d2df37a85ce5/ (stored 0%)\n",
            "  adding: db/55b9e854-d984-4f6d-98ad-d2df37a85ce5/data_level0.bin (deflated 100%)\n",
            "  adding: db/55b9e854-d984-4f6d-98ad-d2df37a85ce5/length.bin (deflated 70%)\n",
            "  adding: db/55b9e854-d984-4f6d-98ad-d2df37a85ce5/link_lists.bin (stored 0%)\n",
            "  adding: db/55b9e854-d984-4f6d-98ad-d2df37a85ce5/header.bin (deflated 61%)\n",
            "  adding: db/chroma.sqlite3 (deflated 39%)\n"
          ]
        },
        {
          "name": "stderr",
          "output_type": "stream",
          "text": [
            "huggingface/tokenizers: The current process just got forked, after parallelism has already been used. Disabling parallelism to avoid deadlocks...\n",
            "To disable this warning, you can either:\n",
            "\t- Avoid using `tokenizers` before the fork if possible\n",
            "\t- Explicitly set the environment variable TOKENIZERS_PARALLELISM=(true | false)\n"
          ]
        }
      ],
      "source": [
        "!zip -r db.zip ./db"
      ]
    },
    {
      "cell_type": "code",
      "execution_count": 36,
      "metadata": {
        "id": "Jl84qGQt5Wu5"
      },
      "outputs": [
        {
          "name": "stderr",
          "output_type": "stream",
          "text": [
            "huggingface/tokenizers: The current process just got forked, after parallelism has already been used. Disabling parallelism to avoid deadlocks...\n",
            "To disable this warning, you can either:\n",
            "\t- Avoid using `tokenizers` before the fork if possible\n",
            "\t- Explicitly set the environment variable TOKENIZERS_PARALLELISM=(true | false)\n"
          ]
        }
      ],
      "source": [
        "# To cleanup, you can delete the collection\n",
        "vectordb.delete_collection()\n",
        "vectordb.persist()\n",
        "\n",
        "# delete the directory\n",
        "!rm -rf db/"
      ]
    },
    {
      "cell_type": "markdown",
      "metadata": {
        "id": "R2r0ZIBPJp-K"
      },
      "source": [
        "## Starting again loading the db\n",
        "\n",
        "restart the runtime"
      ]
    },
    {
      "cell_type": "code",
      "execution_count": null,
      "metadata": {
        "colab": {
          "base_uri": "https://localhost:8080/"
        },
        "id": "8pc7CM_mTQAt",
        "outputId": "f8e311fb-7d68-43af-ffd6-f66a9259766a"
      },
      "outputs": [
        {
          "name": "stdout",
          "output_type": "stream",
          "text": [
            "Archive:  db.zip\n",
            "   creating: db/\n",
            "  inflating: db/chroma-collections.parquet  \n",
            "   creating: db/index/\n",
            "  inflating: db/index/index_metadata_59c51927-205d-4fd7-88d8-c7ba851bd2a5.pkl  \n",
            "  inflating: db/index/uuid_to_id_59c51927-205d-4fd7-88d8-c7ba851bd2a5.pkl  \n",
            "  inflating: db/index/index_59c51927-205d-4fd7-88d8-c7ba851bd2a5.bin  \n",
            "  inflating: db/index/id_to_uuid_59c51927-205d-4fd7-88d8-c7ba851bd2a5.pkl  \n",
            "  inflating: db/chroma-embeddings.parquet  \n"
          ]
        }
      ],
      "source": [
        "!unzip db.zip"
      ]
    },
    {
      "cell_type": "code",
      "execution_count": null,
      "metadata": {
        "id": "us3F8ZKeRiz2"
      },
      "outputs": [],
      "source": [
        "import os\n",
        "\n",
        "os.environ[\"OPENAI_API_KEY\"] = \"\""
      ]
    },
    {
      "cell_type": "code",
      "execution_count": 70,
      "metadata": {
        "id": "qK1nY4PkKYGo"
      },
      "outputs": [],
      "source": [
        "from langchain.vectorstores import Chroma\n",
        "from langchain.embeddings import OpenAIEmbeddings\n",
        "\n",
        "from langchain.chat_models import ChatOpenAI\n",
        "from langchain.chains import RetrievalQA"
      ]
    },
    {
      "cell_type": "code",
      "execution_count": null,
      "metadata": {
        "colab": {
          "base_uri": "https://localhost:8080/"
        },
        "id": "396RyNbS4EXx",
        "outputId": "502d5c81-0823-4c00-89ca-7b4dd08bee26"
      },
      "outputs": [
        {
          "name": "stderr",
          "output_type": "stream",
          "text": [
            "WARNING:chromadb:Using embedded DuckDB with persistence: data will be stored in: db\n"
          ]
        }
      ],
      "source": [
        "persist_directory = 'db'\n",
        "embedding_function = SentenceTransformerEmbeddings(model_name=\"Snowflake/snowflake-arctic-embed-l\")\n",
        "\n",
        "vectordb2 = Chroma(persist_directory=persist_directory,\n",
        "                  embedding_function=embedding_function,\n",
        "                   )\n",
        "\n",
        "retriever = vectordb2.as_retriever(search_kwargs={\"k\": 2})"
      ]
    },
    {
      "cell_type": "code",
      "execution_count": 71,
      "metadata": {
        "id": "F3vkSxxYKCZ9"
      },
      "outputs": [
        {
          "name": "stderr",
          "output_type": "stream",
          "text": [
            "/Users/nurdauletnazarbay/llm/lib/python3.11/site-packages/langchain_core/_api/deprecation.py:117: LangChainDeprecationWarning: The class `langchain_community.chat_models.openai.ChatOpenAI` was deprecated in langchain-community 0.0.10 and will be removed in 0.2.0. An updated version of the class exists in the langchain-openai package and should be used instead. To use it run `pip install -U langchain-openai` and import as `from langchain_openai import ChatOpenAI`.\n",
            "  warn_deprecated(\n"
          ]
        }
      ],
      "source": [
        "# Set up the turbo LLM\n",
        "turbo_llm = ChatOpenAI(\n",
        "    temperature=0,\n",
        "    model_name='gpt-3.5-turbo'\n",
        ")"
      ]
    },
    {
      "cell_type": "code",
      "execution_count": 72,
      "metadata": {
        "id": "PsR60NH5KCfj"
      },
      "outputs": [],
      "source": [
        "# create the chain to answer questions\n",
        "qa_chain = RetrievalQA.from_chain_type(llm=turbo_llm,\n",
        "                                  chain_type=\"stuff\",\n",
        "                                  retriever=retriever,\n",
        "                                  return_source_documents=True)"
      ]
    },
    {
      "cell_type": "code",
      "execution_count": 73,
      "metadata": {
        "id": "RWulTG0eKCfk"
      },
      "outputs": [],
      "source": [
        "## Cite sources\n",
        "def process_llm_response(llm_response):\n",
        "    print(llm_response['result'])\n",
        "    print('\\n\\nSources:')\n",
        "    for source in llm_response[\"source_documents\"]:\n",
        "        print(source.metadata['source'])"
      ]
    },
    {
      "cell_type": "code",
      "execution_count": 74,
      "metadata": {
        "colab": {
          "base_uri": "https://localhost:8080/"
        },
        "id": "mDp-g2FtKCfk",
        "outputId": "766f131a-daaf-462f-842a-f7bd10a081fd"
      },
      "outputs": [
        {
          "name": "stdout",
          "output_type": "stream",
          "text": [
            "The formula for the electric field of a charged disk on the central axis is given by:\n",
            "\n",
            "\\[ E = \\frac{\\sigma}{2\\epsilon_0} \\left(1 - \\frac{z}{\\sqrt{z^2 + R^2}}\\right) \\]\n",
            "\n",
            "Where:\n",
            "- \\( E \\) is the electric field at position P on the central axis.\n",
            "- \\( \\sigma \\) is the uniform charge density of the disk.\n",
            "- \\( \\epsilon_0 \\) is the permittivity of free space.\n",
            "- \\( z \\) is the distance from the center of the disk to the point P.\n",
            "- \\( R \\) is the radius of the disk.\n",
            "\n",
            "\n",
            "Sources:\n",
            "books/Ch23 (revised2022)(2).pdf\n",
            "books/Ch23 (revised2022)(2).pdf\n"
          ]
        }
      ],
      "source": [
        "# full example\n",
        "query = \"provide the formula for the electric field of charged disk on central axis ?\"\n",
        "llm_response = qa_chain(query)\n",
        "process_llm_response(llm_response)"
      ]
    },
    {
      "cell_type": "markdown",
      "metadata": {
        "id": "7fPl26c-TbWw"
      },
      "source": [
        "### Chat prompts"
      ]
    },
    {
      "cell_type": "code",
      "execution_count": null,
      "metadata": {
        "colab": {
          "base_uri": "https://localhost:8080/"
        },
        "id": "wwyuhrpu5XqM",
        "outputId": "0f2c8060-4002-49ba-8869-6a9990c2c6d6"
      },
      "outputs": [
        {
          "name": "stdout",
          "output_type": "stream",
          "text": [
            "Use the following pieces of context to answer the users question. \n",
            "If you don't know the answer, just say that you don't know, don't try to make up an answer.\n",
            "----------------\n",
            "{context}\n"
          ]
        }
      ],
      "source": [
        "print(qa_chain.combine_documents_chain.llm_chain.prompt.messages[0].prompt.template)"
      ]
    },
    {
      "cell_type": "code",
      "execution_count": null,
      "metadata": {
        "colab": {
          "base_uri": "https://localhost:8080/"
        },
        "id": "LcWXvSCHRvHO",
        "outputId": "d7a3acee-9ef1-4c08-b2a0-187f2cd90c8f"
      },
      "outputs": [
        {
          "name": "stdout",
          "output_type": "stream",
          "text": [
            "{question}\n"
          ]
        }
      ],
      "source": [
        "print(qa_chain.combine_documents_chain.llm_chain.prompt.messages[1].prompt.template)"
      ]
    },
    {
      "cell_type": "code",
      "execution_count": null,
      "metadata": {
        "id": "978QWCeJSRdu"
      },
      "outputs": [],
      "source": []
    }
  ],
  "metadata": {
    "colab": {
      "provenance": []
    },
    "kernelspec": {
      "display_name": "llm",
      "language": "python",
      "name": "llm"
    },
    "language_info": {
      "codemirror_mode": {
        "name": "ipython",
        "version": 3
      },
      "file_extension": ".py",
      "mimetype": "text/x-python",
      "name": "python",
      "nbconvert_exporter": "python",
      "pygments_lexer": "ipython3",
      "version": "3.11.5"
    }
  },
  "nbformat": 4,
  "nbformat_minor": 0
}
