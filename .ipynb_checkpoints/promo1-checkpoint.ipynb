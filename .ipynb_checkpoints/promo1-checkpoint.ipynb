{
 "cells": [
  {
   "cell_type": "markdown",
   "metadata": {},
   "source": [
    "## using library pypdf to load the pdf file"
   ]
  },
  {
   "cell_type": "code",
   "execution_count": 1,
   "metadata": {},
   "outputs": [],
   "source": [
    "from pypdf import PdfReader\n",
    "\n",
    "reader = PdfReader(\"books/Ch23 (revised2022)(2).pdf\")\n",
    "pdf_texts = [p.extract_text().strip() for p in reader.pages]\n",
    "\n",
    "# Filter the empty strings\n",
    "pdf_texts = [text for text in pdf_texts if text]"
   ]
  },
  {
   "cell_type": "code",
   "execution_count": 2,
   "metadata": {},
   "outputs": [
    {
     "data": {
      "text/plain": [
       "35"
      ]
     },
     "execution_count": 2,
     "metadata": {},
     "output_type": "execute_result"
    }
   ],
   "source": [
    "len(pdf_texts)"
   ]
  },
  {
   "cell_type": "code",
   "execution_count": 3,
   "metadata": {},
   "outputs": [],
   "source": [
    "from langchain.text_splitter import RecursiveCharacterTextSplitter, SentenceTransformersTokenTextSplitter"
   ]
  },
  {
   "cell_type": "code",
   "execution_count": 4,
   "metadata": {},
   "outputs": [
    {
     "name": "stdout",
     "output_type": "stream",
     "text": [
      "\n",
      "Total chunks: 23\n"
     ]
    }
   ],
   "source": [
    "character_splitter = RecursiveCharacterTextSplitter(\n",
    "    separators=[\"\\n\\n\", \"\\n\", \". \", \" \", \"\"],\n",
    "    chunk_size=1000,\n",
    "    chunk_overlap=500\n",
    ")\n",
    "character_split_texts = character_splitter.split_text('\\n\\n'.join(pdf_texts))\n",
    "\n",
    "print(f\"\\nTotal chunks: {len(character_split_texts)}\")"
   ]
  },
  {
   "cell_type": "code",
   "execution_count": 5,
   "metadata": {},
   "outputs": [
    {
     "data": {
      "text/plain": [
       "582"
      ]
     },
     "execution_count": 5,
     "metadata": {},
     "output_type": "execute_result"
    }
   ],
   "source": [
    "len(character_split_texts[0])"
   ]
  },
  {
   "cell_type": "code",
   "execution_count": 6,
   "metadata": {},
   "outputs": [
    {
     "name": "stderr",
     "output_type": "stream",
     "text": [
      "/Users/nurdauletnazarbay/llm/lib/python3.11/site-packages/tqdm/auto.py:21: TqdmWarning: IProgress not found. Please update jupyter and ipywidgets. See https://ipywidgets.readthedocs.io/en/stable/user_install.html\n",
      "  from .autonotebook import tqdm as notebook_tqdm\n"
     ]
    },
    {
     "name": "stdout",
     "output_type": "stream",
     "text": [
      "\n",
      "Total chunks: 23\n"
     ]
    }
   ],
   "source": [
    "token_splitter = SentenceTransformersTokenTextSplitter(chunk_overlap=128, tokens_per_chunk=256)\n",
    "\n",
    "token_split_texts = []\n",
    "for text in character_split_texts:\n",
    "    token_split_texts += token_splitter.split_text(text)\n",
    "\n",
    "print(f\"\\nTotal chunks: {len(token_split_texts)}\")"
   ]
  },
  {
   "cell_type": "code",
   "execution_count": 7,
   "metadata": {},
   "outputs": [
    {
     "name": "stdout",
     "output_type": "stream",
     "text": [
      "[[-0.05008215084671974, 0.10060802102088928, -0.034174054861068726, -0.007920901291072369, 0.10178260505199432, 0.043712418526411057, 0.026464315131306648, -0.05788277089595795, 0.04686450585722923, 0.04368895664811134, 0.13796751201152802, -0.026819178834557533, 0.05702247470617294, 0.010278238914906979, -0.011423395946621895, -0.09164987504482269, -0.002593123121187091, -0.10245351493358612, 0.01583157107234001, 0.09369625151157379, -0.024915840476751328, -0.02050381526350975, -0.006472727283835411, -0.028493622317910194, -0.01628177799284458, -0.0040967934764921665, 0.029080573469400406, 0.044813062995672226, -0.041759297251701355, -0.06414558738470078, -0.019196871668100357, 0.036643221974372864, -0.012980695813894272, 0.06505110114812851, 0.00039183214539662004, 0.012561243027448654, 0.05103939026594162, -0.002020794665440917, -0.028505779802799225, 0.1002812385559082, -0.02342805452644825, -0.023096272721886635, -0.004898929037153721, -0.014084240421652794, 0.06531926244497299, -0.0006359744584187865, 0.05722812935709953, -0.031855128705501556, -0.03781307488679886, -0.04056897014379501, -0.0774722769856453, 0.03541884943842888, -0.01863863319158554, 0.08680343627929688, -0.016894299536943436, 0.0301671102643013, 0.028054717928171158, -0.050209760665893555, -0.06551990658044815, 0.025626370683312416, 0.05795857310295105, -0.0345480777323246, 0.020600952208042145, -0.03337772563099861, 0.009488529525697231, -0.020016495138406754, -0.05994659289717674, 0.03611470013856888, 0.017433838918805122, -0.01046081818640232, 0.01962786726653576, -0.04879205301403999, -0.05039260908961296, -0.08015940338373184, -0.020123327150940895, 0.0939025804400444, -0.012061343528330326, 0.03905428573489189, 0.02495291270315647, -0.1042720153927803, 0.016504740342497826, -0.052211713045835495, 0.0008611067314632237, 0.006329610012471676, -0.0440577007830143, 0.018391676247119904, -0.006706595420837402, -0.04584895446896553, 0.02350781299173832, 0.0295172780752182, 0.07936932146549225, -0.04555279389023781, -0.10847225785255432, -0.0007269774796441197, 0.05604284256696701, 0.0186370387673378, 0.00964896846562624, -0.012366759590804577, -0.034980181604623795, -0.04687783122062683, 0.10637091100215912, -0.003192953299731016, -0.004407022148370743, 0.024950586259365082, -0.007880890741944313, 0.0059661571867764, -0.005489131435751915, 0.0060755168087780476, 0.06829094141721725, -0.013140757568180561, 0.05887017026543617, -0.062308043241500854, -0.06187020242214203, -0.042442284524440765, 0.05321985110640526, 0.057689327746629715, -0.04895959794521332, 0.0567808672785759, -0.03365433216094971, -0.017869139090180397, 0.01642032340168953, 0.0015838807448744774, -0.03916382044553757, -0.029627202078700066, 0.027038272470235825, 0.013423527590930462, 0.02729806862771511, 1.6124151317763698e-33, -0.03517353534698486, -0.024846341460943222, 0.029653020203113556, -0.01697692461311817, 0.002379470970481634, 0.0006341593689285219, 0.02854396589100361, 0.15906405448913574, -0.033430490642786026, 0.04653645679354668, 0.05883125588297844, -0.019091574475169182, 0.09112974256277084, -0.012623952701687813, -0.008032363839447498, -0.039012473076581955, -0.06771016865968704, -0.060452405363321304, -0.032598644495010376, 0.04912801459431648, 0.10300364345312119, -0.021001381799578667, -0.012777240946888924, -0.0536273829638958, -0.004766231402754784, -0.07450409233570099, -0.02971888706088066, 0.00216470449231565, -0.092276930809021, -0.0034879897721111774, -0.11149883270263672, 0.02924972213804722, 0.004388237837702036, 0.01965768076479435, -0.041871823370456696, 0.06354755163192749, 0.042860615998506546, -0.010435022413730621, 0.019764961674809456, -0.084895059466362, 0.03376183658838272, 0.0050816829316318035, -0.0014207223430275917, -0.04282151907682419, 0.04749123379588127, 0.029916461557149887, -0.013233891688287258, -0.01843983493745327, 0.0696372464299202, 0.01099793054163456, 0.009501732885837555, -0.023125149309635162, 0.09059260040521622, 0.03736910596489906, 0.08199270069599152, 0.07863596081733704, -0.1719127893447876, 0.08980831503868103, -0.006402835715562105, -0.0040507023222744465, 0.024956369772553444, 0.022919943556189537, -0.07411905378103256, -0.050907205790281296, -0.09964749217033386, 0.0270568635314703, -0.09173005074262619, -0.09282538294792175, 0.04248301312327385, 0.05937999114394188, 0.005456969607621431, 0.04523414000868797, -0.06922772526741028, 0.025929125025868416, -0.01827598735690117, 0.06207732856273651, -0.09795819222927094, 0.019790923222899437, 0.11637882888317108, -0.0385877788066864, -0.09264735877513885, -0.0007097988855093718, -0.07776979357004166, 0.02044314704835415, -0.05149571970105171, -0.06041101738810539, 0.06288493424654007, -0.0639323964715004, 0.046789515763521194, -0.10120023787021637, 0.0252838097512722, 0.04019320383667946, -0.06355853378772736, -0.004968259949237108, 0.06848234683275223, -4.8722745759706365e-33, 0.03683462738990784, 0.03340833634138107, -0.08471712470054626, -0.01720789074897766, -0.04463013634085655, 0.03433318808674812, 0.006123368628323078, -0.0008453290211036801, 0.05154218152165413, 0.034655217081308365, -0.07649249583482742, 0.0029247670900076628, -0.06488588452339172, -0.027364330366253853, -0.09578339755535126, 0.015759455040097237, -0.08370108902454376, -0.03443383425474167, 0.017013046890497208, 0.08116508275270462, -0.06677230447530746, 0.10601071268320084, 0.04182617738842964, -0.006010558921843767, 0.02179897576570511, 0.040995869785547256, 0.08876316994428635, -0.04342309385538101, -0.01681426912546158, -0.040207795798778534, 0.022248124703764915, 0.007985306903719902, 0.014604005962610245, 0.02925041690468788, -0.05757643282413483, -0.033941928297281265, 0.021278848871588707, -0.04620511084794998, 0.04817221313714981, 0.02956176921725273, 0.033120520412921906, 0.0990089625120163, 0.055814895778894424, -0.0005808410351164639, 0.010437048971652985, 0.014366114512085915, -0.03421839699149132, 0.11116714775562286, -0.0020308836828917265, -0.026895010843873024, -0.06945321708917618, 0.0008957053069025278, -0.00258376426063478, 0.032748959958553314, -0.09504010528326035, -0.008867737837135792, 0.027376316487789154, 0.020320860669016838, -0.015114604495465755, 0.0060854265466332436, -0.02755662053823471, 0.017259523272514343, 0.01775219477713108, 0.034720368683338165, -0.057268813252449036, -0.011826527304947376, 0.0016479246551170945, 0.08034154027700424, 0.10865013301372528, -0.07315806299448013, -0.033557191491127014, 0.06878754496574402, -0.03183899074792862, -0.07079166173934937, -0.024589037522673607, 0.05922666937112808, 0.02067042887210846, -0.02954208105802536, 0.04255475476384163, -0.09802022576332092, 0.04618988558650017, 0.03212738782167435, -0.03263380751013756, 0.035742852836847305, -0.04798666387796402, 0.027805941179394722, -0.027607735246419907, 0.0030934924725443125, -0.013457747176289558, -0.02239157445728779, 0.02559206262230873, -0.008250112645328045, -0.04068438336253166, 0.031838394701480865, 0.10065603256225586, -4.680028098391631e-08, -0.0583561472594738, 0.013324277475476265, 0.06160935014486313, -0.04836517572402954, 0.061767227947711945, -0.01446297112852335, 0.03494760021567345, -0.03564659133553505, 0.07756884396076202, -0.03666609525680542, -0.026207955554127693, 0.050925254821777344, -0.10687953233718872, 0.020780717954039574, -0.01353471353650093, 0.04158320277929306, -0.034755051136016846, -0.031057942658662796, -0.0286728348582983, 0.047372106462717056, 0.04303671419620514, -0.014846431091427803, -0.031456854194402695, 0.07167244702577591, 0.03743788227438927, 0.028820695355534554, 0.03173922374844551, -0.02390575222671032, 0.008871103636920452, -0.03501277044415474, 0.022182423621416092, 0.006782826501876116, -0.024925371631979942, -0.0032538650557398796, 0.02406238578259945, 0.043124083429574966, -0.05173926800489426, -0.038481492549180984, -0.019346510991454124, 0.04351593181490898, -0.10852157324552536, -0.07341867685317993, -0.024690482765436172, -0.09801357239484787, -0.042614858597517014, -0.06556275486946106, 0.0178273506462574, -0.009252067655324936, -0.07823911309242249, -0.0619690977036953, -0.12571655213832855, -0.035688091069459915, -0.010980908758938313, 0.021187417209148407, -0.05340833216905594, 0.10900595784187317, -0.05057753995060921, 0.012825644575059414, -0.0586262010037899, -0.024961885064840317, 0.10760166496038437, 0.09764794260263443, 0.02118121273815632, -0.00016858284652698785]]\n"
     ]
    }
   ],
   "source": [
    "import chromadb\n",
    "from chromadb.utils.embedding_functions import SentenceTransformerEmbeddingFunction\n",
    "\n",
    "embedding_function = SentenceTransformerEmbeddingFunction()\n",
    "print(embedding_function([character_split_texts[10]]))"
   ]
  },
  {
   "cell_type": "code",
   "execution_count": 8,
   "metadata": {},
   "outputs": [
    {
     "data": {
      "text/plain": [
       "23"
      ]
     },
     "execution_count": 8,
     "metadata": {},
     "output_type": "execute_result"
    }
   ],
   "source": [
    "chroma_client = chromadb.Client()\n",
    "chroma_collection = chroma_client.create_collection(\"interference_material\", embedding_function=embedding_function)\n",
    "\n",
    "ids = [str(i) for i in range(len(character_split_texts))]\n",
    "\n",
    "chroma_collection.add(ids=ids, documents=character_split_texts)\n",
    "chroma_collection.count()"
   ]
  },
  {
   "cell_type": "code",
   "execution_count": 9,
   "metadata": {},
   "outputs": [
    {
     "name": "stdout",
     "output_type": "stream",
     "text": [
      "Charge Densities\n",
      "𝜌is the Volume charge density .\n",
      "When a charge Q is distributed evenly throughout a volume V\n",
      "𝜌≡Q/ V (in units of C/m3)\n",
      "𝜎is the Surface charge density . \n",
      "When a charge Q is distributed evenly over a surface area A\n",
      "𝜎≡Q/ A  (in units of C/m2)\n",
      "𝜆is the Linear charge density .\n",
      "When a charge Q is distributed evenly along a line of length ℓ\n",
      "𝜆≡Q/ ℓ(in units of C/m)\n",
      "Section  23.5Amount of Charge in an Infinitesimally Small Volume/Area/Length\n",
      "When charges are NOT uniformly distributed over a volume, surface, or line, the \n",
      "amount of charge, 𝑑𝑞, in a small element is given by\n",
      "𝑑𝑞=𝜌𝑑𝑉 for a small volume of 𝑑𝑉\n",
      "𝑑𝑞=𝜎𝑑𝐴for a small area of 𝑑𝐴\n",
      "𝑑𝑞=𝜆dℓ  for a small area of dℓ\n",
      "31(𝑑𝑞=𝜌𝑑𝑥𝑑𝑦𝑑𝑧in Cartesian coordinates)\n",
      "(𝑑𝑞=𝜎𝑑𝑥𝑑𝑦for surface in xy-plane)\n",
      "(𝑑𝑞=𝜆𝑑𝑥for line along x-direction)\n",
      "\n",
      "\n",
      "Chapter 23 (b)\n",
      "Electric Fields\n",
      "(continuous charge distribution, only concepts are required but the calculations \n",
      "details are NOT required )\n",
      "\n",
      "Electric Field –Continuous Charge Distribution, cont\n",
      "Procedures in finding the total electric field at point P:\n",
      "Divide the charge distribution into small elements, \n",
      "each of which contains Δq.\n",
      "Calculate the electric field due to one of these \n",
      "elements at point P.\n",
      "Evaluate the total field by summing the \n",
      "contributions of all the charge elements.\n",
      "Equations:\n",
      "For the individual charge elements\n",
      "Because the charge distribution is continuous\n",
      "30\n",
      "r Eˆ2rqke\n",
      "r r E ˆˆqlim2 i 2i\n",
      "0\n",
      " rdqk\n",
      "rke\n",
      "i iqe\n",
      "iA continuous object can have distributed charges with varying \n",
      "charge densities at different locations.\n",
      "This becomes an integration. \n",
      "More details are provided at the end of this chapter.\n",
      "\n",
      "\n",
      "Electric Field –Continuous Charge Distribution, cont\n",
      "Procedures in finding the total electric field at point P:\n",
      "Divide the charge distribution into small elements, \n",
      "each of which contains Δq.\n",
      "Calculate the electric field due to one of these \n",
      "elements at point P.\n",
      "Evaluate the total field by summing the \n",
      "contributions of all the charge elements.\n",
      "Equations:\n",
      "For the individual charge elements\n",
      "Because the charge distribution is continuous\n",
      "25\n",
      "r Eˆ2rqke\n",
      "r r E ˆˆqlim2 i 2i\n",
      "0\n",
      " rdqk\n",
      "rke\n",
      "i iqe\n",
      "iA continuous object can have distributed charges with varying \n",
      "charge densities at different locations.\n",
      "This becomes an integration. \n",
      "More details are provided at the end of this chapter.\n",
      "\n",
      "\n",
      "Charged Disk\n",
      "The disk has a radius Rand a uniform charge density σ. Calculate the \n",
      "electric field at position P on the central axis. \n",
      "Choose dqas a ring of radius r. The ring has a surface area 2 πrdr.\n",
      "By symmetry, the field at an axial point must be along the central axis.\n",
      "Section  23.5\n",
      "\n",
      "\n",
      "    \n",
      " \n",
      "2/12 2 02/12 202 2/3 2 2\n",
      "02/32 22/32 2 22/12 22\n",
      ") (1 22/1) ()( ) () (2) (2cos) /( / coscos2) 2(\n",
      "Rxxkrxxkrd rx xkrxrdrxk Erxrdrxkydqk dErxxyxydqk dErdr rdr dA dq\n",
      "eR\n",
      "eR\n",
      "eR\n",
      "e xe e xe x\n",
      "p pp ppppy\n",
      "35\n",
      "1\n",
      "11\n",
      "n nxndxxVideo: Derivation\n",
      "\n",
      "\n",
      "Example –Charged R od\n",
      "The rod of length 𝑙has a uniform charge density λand a total charge Q. Calculate the \n",
      "electric field at a point P that is located along the long axis of rod and a distance a \n",
      "from one end. \n",
      "Conceptualize: The field      at point P due to each segment of charge on the rod is in \n",
      "the negative xdirection because every segment carries a positive charge.\n",
      "Categorize: The continuous rod results in the field produced by a continuous charge \n",
      "distribution; each segment produces a field in the same direction, -x.\n",
      "Analyze: Choose dqas a segment of the rod . The segment has a length of dx.By \n",
      "symmetry, the field at an axial point must be along the central axis.\n",
      "E\n",
      "d\n",
      ") (1 1 12 22 2\n",
      "alaQk\n",
      "alalQkxkxdxkxdxk Exdxkxdqk dEdx dq\n",
      "e\n",
      "eal\n",
      "a eal\n",
      "aeal\n",
      "aee e\n",
      "\n",
      "\n",
      "\n",
      " \n",
      "  \n",
      "\n",
      "1\n",
      "11\n",
      "n nxndxxVideo: Derivation\n",
      "\n",
      "\n"
     ]
    }
   ],
   "source": [
    "query = \"How to calculate volume charge density\"\n",
    "\n",
    "results = chroma_collection.query(query_texts=[query], n_results=5)\n",
    "retrieved_documents = results['documents'][0]\n",
    "\n",
    "for document in retrieved_documents:\n",
    "    print(document)\n",
    "    print('\\n')"
   ]
  },
  {
   "cell_type": "code",
   "execution_count": 8,
   "metadata": {},
   "outputs": [],
   "source": [
    "import os\n",
    "import openai\n",
    "from openai import OpenAI\n",
    "\n",
    "from dotenv import load_dotenv, find_dotenv\n",
    "_ = load_dotenv(find_dotenv()) # read local .env file\n",
    "openai.api_key = os.environ['OPENAI_API_KEY']\n",
    "\n",
    "openai_client = OpenAI()"
   ]
  },
  {
   "cell_type": "code",
   "execution_count": 11,
   "metadata": {},
   "outputs": [],
   "source": [
    "def rag(query, retrieved_documents, model=\"gpt-3.5-turbo\"):\n",
    "    information = \"\\n\\n\".join(retrieved_documents)\n",
    "\n",
    "    messages = [\n",
    "        {\n",
    "            \"role\": \"system\",\n",
    "            \"content\": \"You are a helpful expert physicist. Your users are asking questions about information contained in an lecture notes.\"\n",
    "            \"You will be shown the user's question, and the relevant information from the lecture notes. Answer the user's question using only this information.\"\n",
    "        },\n",
    "        {\"role\": \"user\", \"content\": f\"Question: {query}. \\n Information: {information}\"}\n",
    "    ]\n",
    "    \n",
    "    response = openai_client.chat.completions.create(\n",
    "        model=model,\n",
    "        messages=messages,\n",
    "    )\n",
    "    content = response.choices[0].message.content\n",
    "    return content"
   ]
  },
  {
   "cell_type": "code",
   "execution_count": 13,
   "metadata": {},
   "outputs": [
    {
     "name": "stderr",
     "output_type": "stream",
     "text": [
      "huggingface/tokenizers: The current process just got forked, after parallelism has already been used. Disabling parallelism to avoid deadlocks...\n",
      "To disable this warning, you can either:\n",
      "\t- Avoid using `tokenizers` before the fork if possible\n",
      "\t- Explicitly set the environment variable TOKENIZERS_PARALLELISM=(true | false)\n"
     ]
    },
    {
     "name": "stdout",
     "output_type": "stream",
     "text": [
      "To calculate the volume charge density (ρ), you can use the formula ρ = Q / V, where Q is the total charge distributed evenly throughout a volume V. The unit for volume charge density is C/m^3.\n",
      "\n",
      "Therefore, to find the volume charge density, divide the total charge by the volume it is distributed over.\n"
     ]
    }
   ],
   "source": [
    "output = rag(query=query, retrieved_documents=retrieved_documents)\n",
    "\n",
    "print(output)"
   ]
  },
  {
   "cell_type": "markdown",
   "metadata": {},
   "source": [
    "## Langchain retrieval functions"
   ]
  },
  {
   "cell_type": "code",
   "execution_count": 9,
   "metadata": {},
   "outputs": [],
   "source": [
    "from dotenv import load_dotenv\n",
    "from PyPDF2 import PdfReader\n",
    "from langchain.text_splitter import RecursiveCharacterTextSplitter, SentenceTransformersTokenTextSplitter\n",
    "from langchain.embeddings.openai import OpenAIEmbeddings\n",
    "from langchain.vectorstores.faiss import FAISS\n",
    "from langchain.chat_models.openai import ChatOpenAI\n",
    "from langchain_community.llms.huggingface_hub import HuggingFaceHub\n",
    "from langchain_community.embeddings import HuggingFaceEmbeddings\n",
    "from langchain.memory import ConversationBufferMemory\n",
    "from langchain.chains import ConversationalRetrievalChain\n",
    "from htmlTemplates import css, bot_template, user_template"
   ]
  },
  {
   "cell_type": "code",
   "execution_count": 10,
   "metadata": {},
   "outputs": [],
   "source": [
    "def get_pdf_text(pdf_docs):\n",
    "    text = []\n",
    "    for pdf in pdf_docs:\n",
    "        pdf_reader = PdfReader(pdf)\n",
    "        text.append([p.extract_text().strip() for p in pdf_reader.pages])\n",
    "    \n",
    "    return text\n",
    "\n",
    "def get_text_chunks(raw_text):\n",
    "    character_splitter = RecursiveCharacterTextSplitter(\n",
    "        separators=[\"\\n\\n\", \"\\n\", \". \", \" \", \"\"],\n",
    "        chunk_size=1000,\n",
    "        chunk_overlap=300,\n",
    "        length_function=len\n",
    "        )\n",
    "    character_split_texts = []\n",
    "    \n",
    "    character_split_texts = character_splitter.split_text('\\n\\n'.join([item for pdf in raw_text for item in pdf]))\n",
    "    print(f\"\\nTotal chunks: {len(character_split_texts)}\")\n",
    "    \n",
    "    # token_splitter = SentenceTransformersTokenTextSplitter(chunk_overlap=0, tokens_per_chunk=256)\n",
    "\n",
    "    # token_split_texts = []\n",
    "    # for text in character_split_texts:\n",
    "    #     token_split_texts += token_splitter.split_text(text)\n",
    "\n",
    "    # print(f\"\\nTotal chunks: {len(token_split_texts)}\")\n",
    "    \n",
    "    \n",
    "    return character_split_texts\n",
    "    \n",
    "def get_vectorstore(text_chunks):\n",
    "    # embeddings = OpenAIEmbeddings()\n",
    "    embeddings = HuggingFaceEmbeddings(model_name=\"all-MiniLM-L6-v2\")\n",
    "    vectorstore = FAISS.from_texts(texts=text_chunks, embedding=embeddings)\n",
    "    return vectorstore\n",
    "\n",
    "def get_conversation_chain(vectorstore):\n",
    "    memory = ConversationBufferMemory(memory_key='chat_history', return_messages=True, output_key='answer')\n",
    "    llm = ChatOpenAI()\n",
    "    #llm = HuggingFaceHub(repo_id = \"\", model_kwargs = {\"temperature\":0.5, 'max_length':512})\n",
    "    conversation_chain = ConversationalRetrievalChain.from_llm(\n",
    "        llm = llm,\n",
    "        retriever=vectorstore.as_retriever(),\n",
    "        memory=memory,\n",
    "        return_source_documents = True\n",
    "    )\n",
    "    return conversation_chain\n",
    "\n",
    "def handle_user_input(user_question, conversation):\n",
    "    response = conversation({'question': user_question})\n",
    "    answer = response['answer']\n",
    "    source_documents = response['source_documents']\n",
    "    chat_history = response['chat_history']\n",
    "    print('source documents: ')\n",
    "    print(source_documents)\n",
    "    for i, message in enumerate(chat_history):\n",
    "        if i % 2 == 0:\n",
    "            print('User: ' + message.content)\n",
    "        else:\n",
    "            print('Bot: ' + message.content)\n",
    "    \n",
    "    return source_documents\n",
    "            "
   ]
  },
  {
   "cell_type": "code",
   "execution_count": 11,
   "metadata": {},
   "outputs": [
    {
     "name": "stdout",
     "output_type": "stream",
     "text": [
      "\n",
      "Total chunks: 22\n"
     ]
    },
    {
     "name": "stderr",
     "output_type": "stream",
     "text": [
      "/Users/nurdauletnazarbay/llm/lib/python3.11/site-packages/langchain_core/_api/deprecation.py:117: LangChainDeprecationWarning: The class `langchain_community.chat_models.openai.ChatOpenAI` was deprecated in langchain-community 0.0.10 and will be removed in 0.2.0. An updated version of the class exists in the langchain-openai package and should be used instead. To use it run `pip install -U langchain-openai` and import as `from langchain_openai import ChatOpenAI`.\n",
      "  warn_deprecated(\n"
     ]
    }
   ],
   "source": [
    "path = ['books/Ch23 (revised2022)(2).pdf']\n",
    "raw_text = get_pdf_text(path)\n",
    "\n",
    "# get the text chuncs\n",
    "text_chunks = get_text_chunks(raw_text)\n",
    "\n",
    "# creat vector store\n",
    "vectorstore = get_vectorstore(text_chunks=text_chunks)\n",
    "\n",
    "# creat conversation chain\n",
    "# use st.session_state if you want to create variable that can be used outside of the sidebar like global \n",
    "conversation = get_conversation_chain(vectorstore)"
   ]
  },
  {
   "cell_type": "code",
   "execution_count": 12,
   "metadata": {},
   "outputs": [
    {
     "name": "stderr",
     "output_type": "stream",
     "text": [
      "/Users/nurdauletnazarbay/llm/lib/python3.11/site-packages/langchain_core/_api/deprecation.py:117: LangChainDeprecationWarning: The function `__call__` was deprecated in LangChain 0.1.0 and will be removed in 0.2.0. Use invoke instead.\n",
      "  warn_deprecated(\n",
      "huggingface/tokenizers: The current process just got forked, after parallelism has already been used. Disabling parallelism to avoid deadlocks...\n",
      "To disable this warning, you can either:\n",
      "\t- Avoid using `tokenizers` before the fork if possible\n",
      "\t- Explicitly set the environment variable TOKENIZERS_PARALLELISM=(true | false)\n"
     ]
    },
    {
     "name": "stdout",
     "output_type": "stream",
     "text": [
      "source documents: \n",
      "[Document(page_content='Charge Densities\\n𝜌is the Volume charge density .\\nWhen a charge Q is distributed evenly throughout a volume V\\n\\uf0a7𝜌≡Q/ V (in units of C/m3)\\n𝜎is the Surface charge density . \\nWhen a charge Q is distributed evenly over a surface area A\\n\\uf0a7𝜎≡Q/ A  (in units of C/m2)\\n𝜆is the Linear charge density .\\nWhen a charge Q is distributed evenly along a line of length ℓ\\n\\uf0a7𝜆≡Q/ ℓ(in units of C/m)\\nSection  23.5Amount of Charge in an Infinitesimally Small Volume/Area/Length\\nWhen charges are NOT uniformly distributed over a volume, surface, or line, the \\namount of charge, 𝑑𝑞, in a small element is given by\\n\\uf0a7𝑑𝑞=𝜌𝑑𝑉 for a small volume of 𝑑𝑉\\n\\uf0a7𝑑𝑞=𝜎𝑑𝐴for a small area of 𝑑𝐴\\n\\uf0a7𝑑𝑞=𝜆dℓ  for a small area of dℓ\\n31(𝑑𝑞=𝜌𝑑𝑥𝑑𝑦𝑑𝑧in Cartesian coordinates)\\n(𝑑𝑞=𝜎𝑑𝑥𝑑𝑦for surface in xy-plane)\\n(𝑑𝑞=𝜆𝑑𝑥for line along x-direction)'), Document(page_content='Charged Disk\\nThe disk has a radius Rand a uniform charge density σ. Calculate the \\nelectric field at position P on the central axis. \\nChoose dqas a ring of radius r. The ring has a surface area 2 πrdr.\\nBy symmetry, the field at an axial point must be along the central axis.\\nSection  23.5\\n\\uf0fa\\uf0fb\\uf0f9\\n\\uf0ea\\uf0eb\\uf0e9\\n\\uf02b\\uf02d \\uf03d\\uf02d\\uf02b\\uf03d\\uf02b \\uf03d\\uf02b\\uf03d\\uf02b\\uf03d \\uf03d\\uf02b\\uf03d\\uf03d\\uf03d\\uf03d \\uf03d\\uf03d\\n\\uf02d\\uf02d\\uf0f2 \\uf0f2\\n2/12 2 02/12 202 2/3 2 2\\n02/32 22/32 2 22/12 22\\n) (1 22/1) ()( ) () (2) (2cos) /( / coscos2) 2(\\nRxxkrxxkrd rx xkrxrdrxk Erxrdrxkydqk dErxxyxydqk dErdr rdr dA dq\\neR\\neR\\neR\\ne xe e xe x\\n\\uf073p p\\uf073p\\uf073 p\\uf073p\\uf073\\uf071\\uf071\\uf071p\\uf073p\\uf073\\uf073y\\n35\\n1\\n11\\uf02b\\n\\uf02b\\uf03d\\uf0f2n nxndxxVideo: Derivation'), Document(page_content='Chapter 23 (b)\\nElectric Fields\\n(continuous charge distribution, only concepts are required but the calculations \\ndetails are NOT required )\\n\\nElectric Field –Continuous Charge Distribution, cont\\nProcedures in finding the total electric field at point P:\\n\\uf0a7Divide the charge distribution into small elements, \\neach of which contains Δq.\\n\\uf0a7Calculate the electric field due to one of these \\nelements at point P.\\n\\uf0a7Evaluate the total field by summing the \\ncontributions of all the charge elements.\\nEquations:\\nFor the individual charge elements\\nBecause the charge distribution is continuous\\n30\\nr Eˆ2rqke\\uf044\\uf03d\\uf044\\uf072\\nr r E ˆˆqlim2 i 2i\\n0\\uf0f2\\uf0e5\\uf03d\\uf044\\uf03d\\n\\uf0ae\\uf044 rdqk\\nrke\\ni iqe\\ni\\uf072A continuous object can have distributed charges with varying \\ncharge densities at different locations.\\nThis becomes an integration. \\nMore details are provided at the end of this chapter.'), Document(page_content='Electric Field –Continuous Charge Distribution, cont\\nProcedures in finding the total electric field at point P:\\n\\uf0a7Divide the charge distribution into small elements, \\neach of which contains Δq.\\n\\uf0a7Calculate the electric field due to one of these \\nelements at point P.\\n\\uf0a7Evaluate the total field by summing the \\ncontributions of all the charge elements.\\nEquations:\\nFor the individual charge elements\\nBecause the charge distribution is continuous\\n25\\nr Eˆ2rqke\\uf044\\uf03d\\uf044\\uf072\\nr r E ˆˆqlim2 i 2i\\n0\\uf0f2\\uf0e5\\uf03d\\uf044\\uf03d\\n\\uf0ae\\uf044 rdqk\\nrke\\ni iqe\\ni\\uf072A continuous object can have distributed charges with varying \\ncharge densities at different locations.\\nThis becomes an integration. \\nMore details are provided at the end of this chapter.')]\n",
      "User: How to calculate the surface density charge?\n",
      "Bot: Surface charge density (σ) can be calculated by dividing the total charge (Q) distributed evenly over a surface area (A). The formula is:\n",
      "\n",
      "σ = Q / A\n",
      "\n",
      "Where:\n",
      "σ is the surface charge density in units of C/m²\n",
      "Q is the total charge distributed over the surface\n",
      "A is the surface area over which the charge is distributed\n",
      "\n",
      "If the charge is not uniformly distributed over the surface, you can also calculate the amount of charge (dq) in a small area (dA) using the formula:\n",
      "\n",
      "dq = σ * dA\n",
      "\n",
      "Where:\n",
      "dq is the amount of charge in a small area\n",
      "σ is the surface charge density\n",
      "dA is the small area over which the charge is distributed\n",
      "\n",
      "If you have a specific scenario or more details, let me know so I can provide a more tailored explanation.\n"
     ]
    }
   ],
   "source": [
    "user_question = \"How to calculate the surface density charge?\"\n",
    "source_documents = handle_user_input(user_question, conversation=conversation)"
   ]
  },
  {
   "cell_type": "code",
   "execution_count": 58,
   "metadata": {},
   "outputs": [
    {
     "name": "stdout",
     "output_type": "stream",
     "text": [
      "\u001b[0;31mSignature:\u001b[0m\n",
      "\u001b[0mconversation\u001b[0m\u001b[0;34m.\u001b[0m\u001b[0mretriever\u001b[0m\u001b[0;34m.\u001b[0m\u001b[0mget_relevant_documents\u001b[0m\u001b[0;34m(\u001b[0m\u001b[0;34m\u001b[0m\n",
      "\u001b[0;34m\u001b[0m    \u001b[0mquery\u001b[0m\u001b[0;34m:\u001b[0m \u001b[0;34m'str'\u001b[0m\u001b[0;34m,\u001b[0m\u001b[0;34m\u001b[0m\n",
      "\u001b[0;34m\u001b[0m    \u001b[0;34m*\u001b[0m\u001b[0;34m,\u001b[0m\u001b[0;34m\u001b[0m\n",
      "\u001b[0;34m\u001b[0m    \u001b[0mcallbacks\u001b[0m\u001b[0;34m:\u001b[0m \u001b[0;34m'Callbacks'\u001b[0m \u001b[0;34m=\u001b[0m \u001b[0;32mNone\u001b[0m\u001b[0;34m,\u001b[0m\u001b[0;34m\u001b[0m\n",
      "\u001b[0;34m\u001b[0m    \u001b[0mtags\u001b[0m\u001b[0;34m:\u001b[0m \u001b[0;34m'Optional[List[str]]'\u001b[0m \u001b[0;34m=\u001b[0m \u001b[0;32mNone\u001b[0m\u001b[0;34m,\u001b[0m\u001b[0;34m\u001b[0m\n",
      "\u001b[0;34m\u001b[0m    \u001b[0mmetadata\u001b[0m\u001b[0;34m:\u001b[0m \u001b[0;34m'Optional[Dict[str, Any]]'\u001b[0m \u001b[0;34m=\u001b[0m \u001b[0;32mNone\u001b[0m\u001b[0;34m,\u001b[0m\u001b[0;34m\u001b[0m\n",
      "\u001b[0;34m\u001b[0m    \u001b[0mrun_name\u001b[0m\u001b[0;34m:\u001b[0m \u001b[0;34m'Optional[str]'\u001b[0m \u001b[0;34m=\u001b[0m \u001b[0;32mNone\u001b[0m\u001b[0;34m,\u001b[0m\u001b[0;34m\u001b[0m\n",
      "\u001b[0;34m\u001b[0m    \u001b[0;34m**\u001b[0m\u001b[0mkwargs\u001b[0m\u001b[0;34m:\u001b[0m \u001b[0;34m'Any'\u001b[0m\u001b[0;34m,\u001b[0m\u001b[0;34m\u001b[0m\n",
      "\u001b[0;34m\u001b[0m\u001b[0;34m)\u001b[0m \u001b[0;34m->\u001b[0m \u001b[0;34m'List[Document]'\u001b[0m\u001b[0;34m\u001b[0m\u001b[0;34m\u001b[0m\u001b[0m\n",
      "\u001b[0;31mDocstring:\u001b[0m\n",
      "Retrieve documents relevant to a query.\n",
      "Args:\n",
      "    query: string to find relevant documents for\n",
      "    callbacks: Callback manager or list of callbacks\n",
      "    tags: Optional list of tags associated with the retriever. Defaults to None\n",
      "        These tags will be associated with each call to this retriever,\n",
      "        and passed as arguments to the handlers defined in `callbacks`.\n",
      "    metadata: Optional metadata associated with the retriever. Defaults to None\n",
      "        This metadata will be associated with each call to this retriever,\n",
      "        and passed as arguments to the handlers defined in `callbacks`.\n",
      "Returns:\n",
      "    List of relevant documents\n",
      "\u001b[0;31mFile:\u001b[0m      ~/llm/lib/python3.11/site-packages/langchain_core/retrievers.py\n",
      "\u001b[0;31mType:\u001b[0m      method"
     ]
    }
   ],
   "source": [
    "conversation.retriever."
   ]
  },
  {
   "cell_type": "code",
   "execution_count": 13,
   "metadata": {},
   "outputs": [
    {
     "data": {
      "text/plain": [
       "[Document(page_content='Charge Densities\\n𝜌is the Volume charge density .\\nWhen a charge Q is distributed evenly throughout a volume V\\n\\uf0a7𝜌≡Q/ V (in units of C/m3)\\n𝜎is the Surface charge density . \\nWhen a charge Q is distributed evenly over a surface area A\\n\\uf0a7𝜎≡Q/ A  (in units of C/m2)\\n𝜆is the Linear charge density .\\nWhen a charge Q is distributed evenly along a line of length ℓ\\n\\uf0a7𝜆≡Q/ ℓ(in units of C/m)\\nSection  23.5Amount of Charge in an Infinitesimally Small Volume/Area/Length\\nWhen charges are NOT uniformly distributed over a volume, surface, or line, the \\namount of charge, 𝑑𝑞, in a small element is given by\\n\\uf0a7𝑑𝑞=𝜌𝑑𝑉 for a small volume of 𝑑𝑉\\n\\uf0a7𝑑𝑞=𝜎𝑑𝐴for a small area of 𝑑𝐴\\n\\uf0a7𝑑𝑞=𝜆dℓ  for a small area of dℓ\\n31(𝑑𝑞=𝜌𝑑𝑥𝑑𝑦𝑑𝑧in Cartesian coordinates)\\n(𝑑𝑞=𝜎𝑑𝑥𝑑𝑦for surface in xy-plane)\\n(𝑑𝑞=𝜆𝑑𝑥for line along x-direction)'),\n",
       " Document(page_content='Charged Disk\\nThe disk has a radius Rand a uniform charge density σ. Calculate the \\nelectric field at position P on the central axis. \\nChoose dqas a ring of radius r. The ring has a surface area 2 πrdr.\\nBy symmetry, the field at an axial point must be along the central axis.\\nSection  23.5\\n\\uf0fa\\uf0fb\\uf0f9\\n\\uf0ea\\uf0eb\\uf0e9\\n\\uf02b\\uf02d \\uf03d\\uf02d\\uf02b\\uf03d\\uf02b \\uf03d\\uf02b\\uf03d\\uf02b\\uf03d \\uf03d\\uf02b\\uf03d\\uf03d\\uf03d\\uf03d \\uf03d\\uf03d\\n\\uf02d\\uf02d\\uf0f2 \\uf0f2\\n2/12 2 02/12 202 2/3 2 2\\n02/32 22/32 2 22/12 22\\n) (1 22/1) ()( ) () (2) (2cos) /( / coscos2) 2(\\nRxxkrxxkrd rx xkrxrdrxk Erxrdrxkydqk dErxxyxydqk dErdr rdr dA dq\\neR\\neR\\neR\\ne xe e xe x\\n\\uf073p p\\uf073p\\uf073 p\\uf073p\\uf073\\uf071\\uf071\\uf071p\\uf073p\\uf073\\uf073y\\n35\\n1\\n11\\uf02b\\n\\uf02b\\uf03d\\uf0f2n nxndxxVideo: Derivation'),\n",
       " Document(page_content='Chapter 23 (b)\\nElectric Fields\\n(continuous charge distribution, only concepts are required but the calculations \\ndetails are NOT required )\\n\\nElectric Field –Continuous Charge Distribution, cont\\nProcedures in finding the total electric field at point P:\\n\\uf0a7Divide the charge distribution into small elements, \\neach of which contains Δq.\\n\\uf0a7Calculate the electric field due to one of these \\nelements at point P.\\n\\uf0a7Evaluate the total field by summing the \\ncontributions of all the charge elements.\\nEquations:\\nFor the individual charge elements\\nBecause the charge distribution is continuous\\n30\\nr Eˆ2rqke\\uf044\\uf03d\\uf044\\uf072\\nr r E ˆˆqlim2 i 2i\\n0\\uf0f2\\uf0e5\\uf03d\\uf044\\uf03d\\n\\uf0ae\\uf044 rdqk\\nrke\\ni iqe\\ni\\uf072A continuous object can have distributed charges with varying \\ncharge densities at different locations.\\nThis becomes an integration. \\nMore details are provided at the end of this chapter.'),\n",
       " Document(page_content='Electric Field –Continuous Charge Distribution, cont\\nProcedures in finding the total electric field at point P:\\n\\uf0a7Divide the charge distribution into small elements, \\neach of which contains Δq.\\n\\uf0a7Calculate the electric field due to one of these \\nelements at point P.\\n\\uf0a7Evaluate the total field by summing the \\ncontributions of all the charge elements.\\nEquations:\\nFor the individual charge elements\\nBecause the charge distribution is continuous\\n25\\nr Eˆ2rqke\\uf044\\uf03d\\uf044\\uf072\\nr r E ˆˆqlim2 i 2i\\n0\\uf0f2\\uf0e5\\uf03d\\uf044\\uf03d\\n\\uf0ae\\uf044 rdqk\\nrke\\ni iqe\\ni\\uf072A continuous object can have distributed charges with varying \\ncharge densities at different locations.\\nThis becomes an integration. \\nMore details are provided at the end of this chapter.')]"
      ]
     },
     "execution_count": 13,
     "metadata": {},
     "output_type": "execute_result"
    }
   ],
   "source": [
    "source_documents"
   ]
  },
  {
   "cell_type": "code",
   "execution_count": 71,
   "metadata": {},
   "outputs": [
    {
     "ename": "KeyError",
     "evalue": "'score'",
     "output_type": "error",
     "traceback": [
      "\u001b[0;31m---------------------------------------------------------------------------\u001b[0m",
      "\u001b[0;31mKeyError\u001b[0m                                  Traceback (most recent call last)",
      "Cell \u001b[0;32mIn[71], line 1\u001b[0m\n\u001b[0;32m----> 1\u001b[0m \u001b[43msource_documents\u001b[49m\u001b[43m[\u001b[49m\u001b[38;5;241;43m0\u001b[39;49m\u001b[43m]\u001b[49m\u001b[38;5;241;43m.\u001b[39;49m\u001b[43mmetadata\u001b[49m\u001b[43m[\u001b[49m\u001b[38;5;124;43m'\u001b[39;49m\u001b[38;5;124;43mscore\u001b[39;49m\u001b[38;5;124;43m'\u001b[39;49m\u001b[43m]\u001b[49m\n",
      "\u001b[0;31mKeyError\u001b[0m: 'score'"
     ]
    }
   ],
   "source": [
    "source_documents[0].metadata['score']"
   ]
  },
  {
   "cell_type": "code",
   "execution_count": null,
   "metadata": {},
   "outputs": [],
   "source": [
    "vectorstore.as_retriever()"
   ]
  }
 ],
 "metadata": {
  "kernelspec": {
   "display_name": "llm",
   "language": "python",
   "name": "llm"
  },
  "language_info": {
   "codemirror_mode": {
    "name": "ipython",
    "version": 3
   },
   "file_extension": ".py",
   "mimetype": "text/x-python",
   "name": "python",
   "nbconvert_exporter": "python",
   "pygments_lexer": "ipython3",
   "version": "3.11.5"
  },
  "toc": {
   "base_numbering": 1,
   "nav_menu": {},
   "number_sections": true,
   "sideBar": true,
   "skip_h1_title": false,
   "title_cell": "Table of Contents",
   "title_sidebar": "Contents",
   "toc_cell": false,
   "toc_position": {},
   "toc_section_display": true,
   "toc_window_display": false
  }
 },
 "nbformat": 4,
 "nbformat_minor": 2
}
